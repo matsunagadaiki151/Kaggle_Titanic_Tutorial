{
 "cells": [
  {
   "cell_type": "markdown",
   "metadata": {
    "id": "KdSjS7FEfzgk"
   },
   "source": [
    "[![Open In Colab](https://colab.research.google.com/assets/colab-badge.svg)](https://colab.research.google.com/github/matsunagadaiki151/Kaggle_Titanic_Tutorial/blob/main/Answer/Titanic_lightgbm_answer.ipynb)\n",
    "\n",
    "## 準備\n",
    "\n",
    "1. KaggleのTitanic Datasetは必要なのでダウンロードしてGoogle Driveに上げる。 \\\n",
    "https://www.kaggle.com/c/titanic/data よりダウンロードが可能(Kaggleアカウントが必要)\n",
    "\n",
    "以下を`drive/MyDrive/Kaggle` 下に配置する。\n",
    "- gender_submission.csv\n",
    "- train.csv\n",
    "- test.csv\n",
    "\n",
    "2. ドライブをマウントする。 \\\n",
    "左のフォルダのアイコンからやる。"
   ]
  },
  {
   "cell_type": "markdown",
   "metadata": {
    "id": "oiRjWd2fgzWW"
   },
   "source": [
    "## 以下コード"
   ]
  },
  {
   "cell_type": "markdown",
   "metadata": {
    "id": "P8agfgPajDqG"
   },
   "source": [
    "### データの読み込み"
   ]
  },
  {
   "cell_type": "code",
   "execution_count": 1,
   "metadata": {
    "colab": {
     "base_uri": "https://localhost:8080/"
    },
    "executionInfo": {
     "elapsed": 6153,
     "status": "ok",
     "timestamp": 1636445451234,
     "user": {
      "displayName": "松永大希",
      "photoUrl": "https://lh3.googleusercontent.com/a/default-user=s64",
      "userId": "15035745520490838496"
     },
     "user_tz": -540
    },
    "id": "OcS-dUkveVNY",
    "outputId": "baa775d0-56a7-4d22-acd8-389f6de1c051"
   },
   "outputs": [
    {
     "name": "stdout",
     "output_type": "stream",
     "text": [
      "Requirement already satisfied: matplotlib==3.3.3 in /Users/daiki/miniforge3/envs/conenv/lib/python3.8/site-packages (3.3.3)\n",
      "Requirement already satisfied: pillow>=6.2.0 in /Users/daiki/miniforge3/envs/conenv/lib/python3.8/site-packages (from matplotlib==3.3.3) (8.2.0)\n",
      "Requirement already satisfied: cycler>=0.10 in /Users/daiki/miniforge3/envs/conenv/lib/python3.8/site-packages (from matplotlib==3.3.3) (0.10.0)\n",
      "Requirement already satisfied: pyparsing!=2.0.4,!=2.1.2,!=2.1.6,>=2.0.3 in /Users/daiki/miniforge3/envs/conenv/lib/python3.8/site-packages (from matplotlib==3.3.3) (2.4.7)\n",
      "Requirement already satisfied: python-dateutil>=2.1 in /Users/daiki/miniforge3/envs/conenv/lib/python3.8/site-packages (from matplotlib==3.3.3) (2.8.1)\n",
      "Requirement already satisfied: numpy>=1.15 in /Users/daiki/miniforge3/envs/conenv/lib/python3.8/site-packages (from matplotlib==3.3.3) (1.19.4)\n",
      "Requirement already satisfied: kiwisolver>=1.0.1 in /Users/daiki/miniforge3/envs/conenv/lib/python3.8/site-packages (from matplotlib==3.3.3) (1.3.1)\n",
      "Requirement already satisfied: six in /Users/daiki/miniforge3/envs/conenv/lib/python3.8/site-packages (from cycler>=0.10->matplotlib==3.3.3) (1.16.0)\n",
      "Requirement already satisfied: category_encoders in /Users/daiki/miniforge3/envs/conenv/lib/python3.8/site-packages (2.2.2)\n",
      "Requirement already satisfied: patsy>=0.5.1 in /Users/daiki/miniforge3/envs/conenv/lib/python3.8/site-packages (from category_encoders) (0.5.1)\n",
      "Requirement already satisfied: scipy>=1.0.0 in /Users/daiki/miniforge3/envs/conenv/lib/python3.8/site-packages (from category_encoders) (1.6.0)\n",
      "Requirement already satisfied: statsmodels>=0.9.0 in /Users/daiki/miniforge3/envs/conenv/lib/python3.8/site-packages (from category_encoders) (0.12.1)\n",
      "Requirement already satisfied: numpy>=1.14.0 in /Users/daiki/miniforge3/envs/conenv/lib/python3.8/site-packages (from category_encoders) (1.19.4)\n",
      "Requirement already satisfied: scikit-learn>=0.20.0 in /Users/daiki/miniforge3/envs/conenv/lib/python3.8/site-packages (from category_encoders) (0.24.0)\n",
      "Requirement already satisfied: pandas>=0.21.1 in /Users/daiki/miniforge3/envs/conenv/lib/python3.8/site-packages (from category_encoders) (1.2.0)\n",
      "Requirement already satisfied: python-dateutil>=2.7.3 in /Users/daiki/miniforge3/envs/conenv/lib/python3.8/site-packages (from pandas>=0.21.1->category_encoders) (2.8.1)\n",
      "Requirement already satisfied: pytz>=2017.3 in /Users/daiki/miniforge3/envs/conenv/lib/python3.8/site-packages (from pandas>=0.21.1->category_encoders) (2021.1)\n",
      "Requirement already satisfied: six in /Users/daiki/miniforge3/envs/conenv/lib/python3.8/site-packages (from patsy>=0.5.1->category_encoders) (1.16.0)\n",
      "Requirement already satisfied: joblib>=0.11 in /Users/daiki/miniforge3/envs/conenv/lib/python3.8/site-packages (from scikit-learn>=0.20.0->category_encoders) (1.0.1)\n",
      "Requirement already satisfied: threadpoolctl>=2.0.0 in /Users/daiki/miniforge3/envs/conenv/lib/python3.8/site-packages (from scikit-learn>=0.20.0->category_encoders) (2.1.0)\n"
     ]
    }
   ],
   "source": [
    "# 必要なものをインストール\n",
    "!pip install matplotlib==3.3.3\n",
    "!pip install category_encoders"
   ]
  },
  {
   "cell_type": "code",
   "execution_count": 2,
   "metadata": {
    "colab": {
     "base_uri": "https://localhost:8080/"
    },
    "executionInfo": {
     "elapsed": 31,
     "status": "ok",
     "timestamp": 1636445451235,
     "user": {
      "displayName": "松永大希",
      "photoUrl": "https://lh3.googleusercontent.com/a/default-user=s64",
      "userId": "15035745520490838496"
     },
     "user_tz": -540
    },
    "id": "wLJ7wyxFg6bd",
    "outputId": "9ddc0eb0-74aa-4bba-b9bc-8ee8eb4ff903"
   },
   "outputs": [
    {
     "name": "stdout",
     "output_type": "stream",
     "text": [
      "[Errno 2] No such file or directory: '/content/drive/MyDrive/Kaggle'\n",
      "/Users/daiki/Kaggle/Kaggle_Titanic_Tutorial/Answer\n"
     ]
    }
   ],
   "source": [
    "# データセットが入っているフォルダに移動\n",
    "%cd /content/drive/MyDrive/Kaggle"
   ]
  },
  {
   "cell_type": "code",
   "execution_count": 3,
   "metadata": {
    "id": "yIB3gfzNeg2o"
   },
   "outputs": [],
   "source": [
    "# 必要なライブラリをインストール\n",
    "import numpy as np\n",
    "import pandas as pd\n",
    "import matplotlib.pyplot as plt\n",
    "import lightgbm as lgb\n",
    "import category_encoders as ce\n",
    "import os"
   ]
  },
  {
   "cell_type": "code",
   "execution_count": 4,
   "metadata": {},
   "outputs": [],
   "source": [
    "issubmit = True  # Kaggleにサブミットするかどうか"
   ]
  },
  {
   "cell_type": "code",
   "execution_count": null,
   "metadata": {
    "colab": {
     "base_uri": "https://localhost:8080/",
     "height": 221
    },
    "executionInfo": {
     "elapsed": 27,
     "status": "ok",
     "timestamp": 1636445451235,
     "user": {
      "displayName": "松永大希",
      "photoUrl": "https://lh3.googleusercontent.com/a/default-user=s64",
      "userId": "15035745520490838496"
     },
     "user_tz": -540
    },
    "id": "qcNdaZKzhyeO",
    "outputId": "e029a919-877a-49ff-9ca9-9dff88897222",
    "tags": []
   },
   "outputs": [],
   "source": [
    "# 学習データを読み込む\n",
    "train = pd.read_csv('train.csv')\n",
    "print(train.shape) # 形状を確認\n",
    "train.head()  # 最初の5行を見る。 "
   ]
  },
  {
   "cell_type": "code",
   "execution_count": null,
   "metadata": {
    "colab": {
     "base_uri": "https://localhost:8080/",
     "height": 221
    },
    "executionInfo": {
     "elapsed": 25,
     "status": "ok",
     "timestamp": 1636445451235,
     "user": {
      "displayName": "松永大希",
      "photoUrl": "https://lh3.googleusercontent.com/a/default-user=s64",
      "userId": "15035745520490838496"
     },
     "user_tz": -540
    },
    "id": "ptzg9cqkh4Bc",
    "outputId": "f66f6dd7-b8de-4e67-b5ec-01dfd29223a5"
   },
   "outputs": [],
   "source": [
    "# テストデータを読み込む\n",
    "test = pd.read_csv('test.csv')\n",
    "print(test.shape) # 形状を確認\n",
    "test.head()  # 最初の5行を見る。 "
   ]
  },
  {
   "cell_type": "code",
   "execution_count": null,
   "metadata": {
    "colab": {
     "base_uri": "https://localhost:8080/"
    },
    "executionInfo": {
     "elapsed": 24,
     "status": "ok",
     "timestamp": 1636445451236,
     "user": {
      "displayName": "松永大希",
      "photoUrl": "https://lh3.googleusercontent.com/a/default-user=s64",
      "userId": "15035745520490838496"
     },
     "user_tz": -540
    },
    "id": "Iexy11VFiQra",
    "outputId": "ca77035f-736b-4004-ae58-976dc5cc36a8"
   },
   "outputs": [],
   "source": [
    "## 型を確認する。\n",
    "train.dtypes"
   ]
  },
  {
   "cell_type": "code",
   "execution_count": null,
   "metadata": {
    "colab": {
     "base_uri": "https://localhost:8080/"
    },
    "executionInfo": {
     "elapsed": 21,
     "status": "ok",
     "timestamp": 1636445451236,
     "user": {
      "displayName": "松永大希",
      "photoUrl": "https://lh3.googleusercontent.com/a/default-user=s64",
      "userId": "15035745520490838496"
     },
     "user_tz": -540
    },
    "id": "8Sh0NzPZim-a",
    "outputId": "d82da40b-4dda-4905-dea7-4d26e9e5512e"
   },
   "outputs": [],
   "source": [
    "# 欠損値の数を確認する。\n",
    "print(train.isnull().sum())\n",
    "print('-'*40)\n",
    "print(test.isnull().sum())"
   ]
  },
  {
   "cell_type": "markdown",
   "metadata": {
    "id": "bec-v1edjj09"
   },
   "source": [
    "## 前処理\n",
    "\n",
    "データがobject型のままではモデルが処理できないのでエンコーディングを行う。今回は一番標準的と思われるLabel Encodingを行う。\n",
    "\n",
    "なお、trainとtestでラベルの相違があったら困るので一度全データを結合してからエンコーディングする。"
   ]
  },
  {
   "cell_type": "code",
   "execution_count": null,
   "metadata": {
    "id": "NSq-eZm4l_VY"
   },
   "outputs": [],
   "source": [
    "## trainとtestを結合する。\n",
    "df_cat = pd.concat([train, test])"
   ]
  },
  {
   "cell_type": "code",
   "execution_count": null,
   "metadata": {
    "colab": {
     "base_uri": "https://localhost:8080/",
     "height": 204
    },
    "executionInfo": {
     "elapsed": 20,
     "status": "ok",
     "timestamp": 1636445451236,
     "user": {
      "displayName": "松永大希",
      "photoUrl": "https://lh3.googleusercontent.com/a/default-user=s64",
      "userId": "15035745520490838496"
     },
     "user_tz": -540
    },
    "id": "OB0Dim2Kit13",
    "outputId": "60a2a511-5aa2-46d8-8c9e-748e47e651a3"
   },
   "outputs": [],
   "source": [
    "# object型のcolumnを定義する。\n",
    "obj_columns = ['Sex', 'Ticket', 'Cabin', 'Embarked']\n",
    "# LabelEncodingを適用する(category_encodersではOrdinalEncoderという名前なので注意)\n",
    "oe = ce.OrdinalEncoder(cols=obj_columns)\n",
    "df_cat_oe = oe.fit_transform(df_cat)\n",
    "df_cat_oe.head()"
   ]
  },
  {
   "cell_type": "markdown",
   "metadata": {
    "id": "adlzrSrsmp64"
   },
   "source": [
    "## モデル構築\n",
    "\n",
    "機械学習にはさまざまなモデルがあり、どのモデルが適切か、試行錯誤しなければならない。\n",
    "\n",
    "...というのは建前であり基本的に最初はLightGBMを使うのが基本である。\n",
    "\n",
    "LightGBMの強みとして以下が挙げられる\n",
    "- 単純に多くのテーブルデータで最もパフォーマンスが優れている。(最近はCatBoostといい勝負)\n",
    "- 欠損値を無視できる。\n",
    "- エンコーディングされた数値の序列を無視できる(OnehotEncodingの必要がない。)\n",
    "- XGBoostと比較して学習が早い。\n",
    "\n",
    "というわけで今回はLightGBMを用いてモデルを構築する。"
   ]
  },
  {
   "cell_type": "code",
   "execution_count": null,
   "metadata": {
    "id": "34UoMgW4lwuB"
   },
   "outputs": [],
   "source": [
    "## df_cat_oeをtrainとtestに分離する。\n",
    "train = df_cat_oe[:len(train)]\n",
    "test = df_cat_oe[len(train):]"
   ]
  },
  {
   "cell_type": "code",
   "execution_count": null,
   "metadata": {
    "id": "01-woLPQoJdy"
   },
   "outputs": [],
   "source": [
    "# 学習に用いない特徴を定義する。\n",
    "drop_cols = ['PassengerId', 'Survived', 'Name']\n",
    "# 学習データを定義する。\n",
    "X = train.drop(drop_cols, axis=1)\n",
    "y = train['Survived'].values\n",
    "X_test = test.drop(drop_cols, axis=1)"
   ]
  },
  {
   "cell_type": "code",
   "execution_count": null,
   "metadata": {
    "id": "FTqUDqwupUFf"
   },
   "outputs": [],
   "source": [
    "from sklearn.model_selection import train_test_split\n",
    "# 評価用データを作成する。今回は一番簡単なHoldOut法で行う。\n",
    "X_train, X_val, y_train, y_val = train_test_split(X, y, test_size=0.2, shuffle=True, random_state=42)"
   ]
  },
  {
   "cell_type": "code",
   "execution_count": null,
   "metadata": {
    "colab": {
     "base_uri": "https://localhost:8080/"
    },
    "executionInfo": {
     "elapsed": 18,
     "status": "ok",
     "timestamp": 1636445451810,
     "user": {
      "displayName": "松永大希",
      "photoUrl": "https://lh3.googleusercontent.com/a/default-user=s64",
      "userId": "15035745520490838496"
     },
     "user_tz": -540
    },
    "id": "j30rGTtKphvU",
    "outputId": "6f5befcf-42d7-4912-ec2f-88bd6192b024"
   },
   "outputs": [],
   "source": [
    "# lightgbmのデータセットを定義する。\n",
    "train_data = lgb.Dataset(X_train, y_train)\n",
    "val_data = lgb.Dataset(X_val, y_val)\n",
    "\n",
    "# lightgbmのパラメータを定義する。\n",
    "lgb_params = {\"objective\":\"binary\", \n",
    "            \"metric\":\"binary_logloss\", \n",
    "            \"verbosity\": -1}\n",
    "\n",
    "# 学習\n",
    "model = lgb.train(lgb_params, train_data,\n",
    "                  num_boost_round=100000,\n",
    "                  valid_sets=val_data,\n",
    "                  early_stopping_rounds=100,\n",
    "                  verbose_eval=100)"
   ]
  },
  {
   "cell_type": "code",
   "execution_count": null,
   "metadata": {
    "colab": {
     "base_uri": "https://localhost:8080/",
     "height": 312
    },
    "executionInfo": {
     "elapsed": 14,
     "status": "ok",
     "timestamp": 1636445451810,
     "user": {
      "displayName": "松永大希",
      "photoUrl": "https://lh3.googleusercontent.com/a/default-user=s64",
      "userId": "15035745520490838496"
     },
     "user_tz": -540
    },
    "id": "yFi1cBn0CF56",
    "outputId": "baad6035-e9b8-4975-da01-5a77793afa96"
   },
   "outputs": [],
   "source": [
    "# モデルの重要度を可視化する。\n",
    "lgb.plot_importance(model)"
   ]
  },
  {
   "cell_type": "markdown",
   "metadata": {
    "id": "pZzMYQp-ubXZ"
   },
   "source": [
    "### valデータの評価"
   ]
  },
  {
   "cell_type": "code",
   "execution_count": null,
   "metadata": {
    "colab": {
     "base_uri": "https://localhost:8080/"
    },
    "executionInfo": {
     "elapsed": 11,
     "status": "ok",
     "timestamp": 1636445451811,
     "user": {
      "displayName": "松永大希",
      "photoUrl": "https://lh3.googleusercontent.com/a/default-user=s64",
      "userId": "15035745520490838496"
     },
     "user_tz": -540
    },
    "id": "T43FbaVlrSxR",
    "outputId": "b8e78a31-6047-49f5-8734-67bf9409b2e8"
   },
   "outputs": [],
   "source": [
    "from sklearn.metrics import accuracy_score\n",
    "# valデータを予測する。\n",
    "val_probs = model.predict(X_val, num_iteration=model.best_iteration)\n",
    "print(val_probs)"
   ]
  },
  {
   "cell_type": "markdown",
   "metadata": {
    "id": "5d_QQ-bRsbi8"
   },
   "source": [
    "モデルの出力はfloat型で出力される。\n",
    "ただし、今回は二値分類なので以下のルールでint型に変更する。\n",
    "1. thershold=0.5\n",
    "2. 値がthresholdを下回ったら0\n",
    "3. それ以上の場合は1 \n",
    "\n",
    "これらの処理は、np.whereを用いると便利である。\n",
    "\n",
    "ちなみに上級者はこのtheresholdの値を最適化したりする。"
   ]
  },
  {
   "cell_type": "code",
   "execution_count": null,
   "metadata": {
    "id": "xOJhm7uhtXtO"
   },
   "outputs": [],
   "source": [
    "thershold = 0.5\n",
    "# 予測を二値化する。\n",
    "val_preds = np.where(val_probs < thershold, 0, 1)"
   ]
  },
  {
   "cell_type": "markdown",
   "metadata": {
    "id": "n4Xja2q3r5Um"
   },
   "source": [
    "準備が終わったので精度を評価する。 \\\n",
    "評価指標はf1やfbetaなどが用いられることが多いがタイタニックコンペのルールではAccuracyスコアを用いるようなので(おそらく初心者向けだから?)、今回はそれに準じる。"
   ]
  },
  {
   "cell_type": "code",
   "execution_count": null,
   "metadata": {
    "colab": {
     "base_uri": "https://localhost:8080/"
    },
    "executionInfo": {
     "elapsed": 10,
     "status": "ok",
     "timestamp": 1636445451812,
     "user": {
      "displayName": "松永大希",
      "photoUrl": "https://lh3.googleusercontent.com/a/default-user=s64",
      "userId": "15035745520490838496"
     },
     "user_tz": -540
    },
    "id": "d9R6SkpNr4Kc",
    "outputId": "1adf3ccc-b654-4032-b154-ec57da94d00e"
   },
   "outputs": [],
   "source": [
    "from sklearn.metrics import accuracy_score\n",
    "# スコアを出力\n",
    "print(accuracy_score(y_val, val_preds))"
   ]
  },
  {
   "cell_type": "markdown",
   "metadata": {
    "id": "xBzLW6iEuTfg"
   },
   "source": [
    "### テストデータの予測とKaggleへの提出ファイルの作成。"
   ]
  },
  {
   "cell_type": "code",
   "execution_count": null,
   "metadata": {
    "id": "AVswoiNOuOSH"
   },
   "outputs": [],
   "source": [
    "# valデータと同じように予測\n",
    "test_probs = model.predict(X_test, num_iteration=model.best_iteration)\n",
    "# valデータと同じように予測を二値にする。\n",
    "thershold = 0.5\n",
    "test_preds = np.where(test_probs < thershold, 0, 1)"
   ]
  },
  {
   "cell_type": "code",
   "execution_count": null,
   "metadata": {
    "colab": {
     "base_uri": "https://localhost:8080/"
    },
    "executionInfo": {
     "elapsed": 541,
     "status": "ok",
     "timestamp": 1636445452345,
     "user": {
      "displayName": "松永大希",
      "photoUrl": "https://lh3.googleusercontent.com/a/default-user=s64",
      "userId": "15035745520490838496"
     },
     "user_tz": -540
    },
    "id": "w9Q3Sy-YvCDb",
    "outputId": "7bd0bf0b-3b5e-42c5-8c6d-638e0bf9f125"
   },
   "outputs": [],
   "source": [
    "print(len(test_preds))\n",
    "print(test_preds)"
   ]
  },
  {
   "cell_type": "code",
   "execution_count": null,
   "metadata": {},
   "outputs": [],
   "source": [
    "if issubmit:\n",
    "    # submit フォルダを作る．\n",
    "    os.makedirs('submit/', exist_ok=True)\n",
    "    # submissionのサンプルファイルを読み込む\n",
    "    submit = pd.read_csv('gender_submission.csv')\n",
    "    submit['Survived'] = test_preds\n",
    "     # submissionのサンプルファイルを読み込む\n",
    "    submit = pd.read_csv('gender_submission.csv')\n",
    "    submit['Survived'] = test_preds   "
   ]
  },
  {
   "cell_type": "markdown",
   "metadata": {
    "id": "WAUHWqEB3IIE"
   },
   "source": [
    "### Cross Validationを作ろう"
   ]
  },
  {
   "cell_type": "markdown",
   "metadata": {
    "id": "hOYwT9pb6daY"
   },
   "source": [
    "valデータが一つだけでは正当な評価が難しい。 \\\n",
    "また、全データで学習ができないなどの問題がある。 \\\n",
    "そこで、基本的にはHoldOutではなく、Cross Validation(CV)が用いられる。 \\\n",
    "基本的にはscikit-learnのKFoldで実装できるが分類問題では、ターゲットの比率を維持してKFoldできる。Stratified KFoldが用いられることが多い。"
   ]
  },
  {
   "cell_type": "code",
   "execution_count": null,
   "metadata": {
    "colab": {
     "base_uri": "https://localhost:8080/"
    },
    "executionInfo": {
     "elapsed": 9,
     "status": "ok",
     "timestamp": 1636445452346,
     "user": {
      "displayName": "松永大希",
      "photoUrl": "https://lh3.googleusercontent.com/a/default-user=s64",
      "userId": "15035745520490838496"
     },
     "user_tz": -540
    },
    "id": "jWkeblhhvx_G",
    "outputId": "43d9cbad-68e0-441a-fc04-b91ffcf05631"
   },
   "outputs": [],
   "source": [
    "from sklearn.model_selection import StratifiedKFold\n",
    "\n",
    "FOLD = 5\n",
    "# StratifiedKFoldのインスタンスを定義する。\n",
    "skf = StratifiedKFold(n_splits=FOLD, shuffle=True, random_state=42)\n",
    "# うまく分割できるているか中身を確認する。\n",
    "print(next(skf.split(X, y)))"
   ]
  },
  {
   "cell_type": "code",
   "execution_count": null,
   "metadata": {
    "colab": {
     "base_uri": "https://localhost:8080/"
    },
    "executionInfo": {
     "elapsed": 288,
     "status": "ok",
     "timestamp": 1636445452627,
     "user": {
      "displayName": "松永大希",
      "photoUrl": "https://lh3.googleusercontent.com/a/default-user=s64",
      "userId": "15035745520490838496"
     },
     "user_tz": -540
    },
    "id": "6Xr1GOu96a4D",
    "outputId": "b55b7ca5-51ff-4730-a0da-b74acd45b8f9"
   },
   "outputs": [],
   "source": [
    "oof_preds = np.zeros(len(X))\n",
    "test_probs = np.zeros(len(X_test))  # testデータの予測を格納するnumpy配列\n",
    "\n",
    "# lightgbmのパラメータを定義する。\n",
    "lgb_params = {\"objective\":\"binary\", \n",
    "            \"metric\":\"binary_logloss\", \n",
    "            \"verbosity\": -1}\n",
    "# 各FOLDで学習を行う。\n",
    "for i, (tr_idx, va_idx) in enumerate(skf.split(X, y)):\n",
    "  print(f'fold{i+1}')\n",
    "  # データを定義\n",
    "  X_train, X_val = X.iloc[tr_idx], X.iloc[va_idx]\n",
    "  y_train, y_val = y[tr_idx], y[va_idx]\n",
    "\n",
    "  # lightgbmのデータセットを定義する。\n",
    "  train_data = lgb.Dataset(X_train, y_train)\n",
    "  val_data = lgb.Dataset(X_val, y_val)\n",
    "\n",
    "  # 学習\n",
    "  model = lgb.train(lgb_params, train_data,\n",
    "                    num_boost_round=100000,\n",
    "                    valid_sets=val_data,\n",
    "                    early_stopping_rounds=100,\n",
    "                    verbose_eval=0)\n",
    "  \n",
    "  # valデータを予測する。\n",
    "  val_probs = model.predict(X_val, num_iteration=model.best_iteration)\n",
    "  \n",
    "  # 予測を二値化する。\n",
    "  threshold = 0.5\n",
    "  val_preds = np.where(val_probs < threshold, 0, 1)\n",
    "\n",
    "  # スコアを出力\n",
    "  print(accuracy_score(y_val, val_preds))\n",
    "\n",
    "  # 予測結果をoof_predsに格納\n",
    "  oof_preds[va_idx] = val_preds\n",
    "\n",
    "  # testデータを予測しtest_probsに加算\n",
    "  test_probs += model.predict(X_test, num_iteration=model.best_iteration)\n",
    "  print('-'*40)\n",
    "\n",
    "\n",
    "# test_probsをFOLD数で割る\n",
    "test_probs /= FOLD\n",
    "# 予測を二値化する\n",
    "test_preds = np.where(test_probs < threshold, 0, 1)\n",
    "\n",
    "# oofのスコアを算出\n",
    "print('oof score : ', accuracy_score(y, oof_preds))"
   ]
  },
  {
   "cell_type": "code",
   "execution_count": null,
   "metadata": {
    "colab": {
     "base_uri": "https://localhost:8080/"
    },
    "executionInfo": {
     "elapsed": 8,
     "status": "ok",
     "timestamp": 1636445452628,
     "user": {
      "displayName": "松永大希",
      "photoUrl": "https://lh3.googleusercontent.com/a/default-user=s64",
      "userId": "15035745520490838496"
     },
     "user_tz": -540
    },
    "id": "Y32ZaDB9Ei2d",
    "outputId": "a32c1f91-c8d0-426c-f1d5-ff380c66615d"
   },
   "outputs": [],
   "source": [
    "test_preds"
   ]
  },
  {
   "cell_type": "code",
   "execution_count": null,
   "metadata": {
    "id": "Vc_T1yfkBWsa"
   },
   "outputs": [],
   "source": [
    "if issubmit:\n",
    "    # submissionのサンプルファイルを読み込む\n",
    "    submit = pd.read_csv('gender_submission.csv')\n",
    "    submit['Survived'] = test_preds\n",
    "    # 提出\n",
    "    submit.to_csv('submit/my_submit2.csv', index=False)"
   ]
  },
  {
   "cell_type": "markdown",
   "metadata": {
    "id": "WJNd3FOGEITi"
   },
   "source": [
    "## 参考サイト\n",
    "- LightGBM公式ドキュメント : https://lightgbm.readthedocs.io/en/latest/ \\\n",
    "ハイパーパラメータやモデルの学習時のオプションが明確に記載されているので、ぜひ覗いてみよう。"
   ]
  },
  {
   "cell_type": "code",
   "execution_count": null,
   "metadata": {},
   "outputs": [],
   "source": []
  }
 ],
 "metadata": {
  "colab": {
   "authorship_tag": "ABX9TyOfaeLRFasEC49aHP5BVryc",
   "collapsed_sections": [],
   "mount_file_id": "1KjLEWAqWaRAZkAPIwIec5eSiUv9l5NHn",
   "name": "Titanic_lightgbm_answer.ipynb",
   "provenance": []
  },
  "kernelspec": {
   "display_name": "Python 3 (ipykernel)",
   "language": "python",
   "name": "python3"
  },
  "language_info": {
   "codemirror_mode": {
    "name": "ipython",
    "version": 3
   },
   "file_extension": ".py",
   "mimetype": "text/x-python",
   "name": "python",
   "nbconvert_exporter": "python",
   "pygments_lexer": "ipython3",
   "version": "3.8.10"
  }
 },
 "nbformat": 4,
 "nbformat_minor": 4
}
