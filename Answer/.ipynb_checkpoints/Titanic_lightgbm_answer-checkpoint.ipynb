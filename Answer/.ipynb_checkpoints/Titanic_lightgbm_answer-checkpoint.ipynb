{
 "cells": [
  {
   "cell_type": "markdown",
   "metadata": {
    "id": "KdSjS7FEfzgk"
   },
   "source": [
    "## 準備\n",
    "\n",
    "1. KaggleのTitanic Datasetは必要なのでダウンロードしてGoogle Driveに上げる。 \\\n",
    "https://www.kaggle.com/c/titanic/data よりダウンロードが可能(Kaggleアカウントが必要) \\\n",
    "\n",
    "以下を`drive/MyDrive/Kaggle` 下に配置する。\n",
    "- gender_submission.csv\n",
    "- train.csv\n",
    "- test.csv\n",
    "\n",
    "2. ドライブをマウントする。 \\\n",
    "左のフォルダのアイコンからやる。"
   ]
  },
  {
   "cell_type": "markdown",
   "metadata": {
    "id": "oiRjWd2fgzWW"
   },
   "source": [
    "## 以下コード"
   ]
  },
  {
   "cell_type": "markdown",
   "metadata": {
    "id": "P8agfgPajDqG"
   },
   "source": [
    "### データの読み込み"
   ]
  },
  {
   "cell_type": "code",
   "execution_count": null,
   "metadata": {
    "colab": {
     "base_uri": "https://localhost:8080/"
    },
    "executionInfo": {
     "elapsed": 6153,
     "status": "ok",
     "timestamp": 1636445451234,
     "user": {
      "displayName": "松永大希",
      "photoUrl": "https://lh3.googleusercontent.com/a/default-user=s64",
      "userId": "15035745520490838496"
     },
     "user_tz": -540
    },
    "id": "OcS-dUkveVNY",
    "outputId": "baa775d0-56a7-4d22-acd8-389f6de1c051"
   },
   "outputs": [
    {
     "name": "stdout",
     "output_type": "stream",
     "text": [
      "Requirement already satisfied: matplotlib==3.3.3 in /usr/local/lib/python3.7/dist-packages (3.3.3)\n",
      "Requirement already satisfied: kiwisolver>=1.0.1 in /usr/local/lib/python3.7/dist-packages (from matplotlib==3.3.3) (1.3.2)\n",
      "Requirement already satisfied: python-dateutil>=2.1 in /usr/local/lib/python3.7/dist-packages (from matplotlib==3.3.3) (2.8.2)\n",
      "Requirement already satisfied: pyparsing!=2.0.4,!=2.1.2,!=2.1.6,>=2.0.3 in /usr/local/lib/python3.7/dist-packages (from matplotlib==3.3.3) (2.4.7)\n",
      "Requirement already satisfied: pillow>=6.2.0 in /usr/local/lib/python3.7/dist-packages (from matplotlib==3.3.3) (7.1.2)\n",
      "Requirement already satisfied: cycler>=0.10 in /usr/local/lib/python3.7/dist-packages (from matplotlib==3.3.3) (0.10.0)\n",
      "Requirement already satisfied: numpy>=1.15 in /usr/local/lib/python3.7/dist-packages (from matplotlib==3.3.3) (1.19.5)\n",
      "Requirement already satisfied: six in /usr/local/lib/python3.7/dist-packages (from cycler>=0.10->matplotlib==3.3.3) (1.15.0)\n",
      "Requirement already satisfied: category_encoders in /usr/local/lib/python3.7/dist-packages (2.3.0)\n",
      "Requirement already satisfied: numpy>=1.14.0 in /usr/local/lib/python3.7/dist-packages (from category_encoders) (1.19.5)\n",
      "Requirement already satisfied: patsy>=0.5.1 in /usr/local/lib/python3.7/dist-packages (from category_encoders) (0.5.2)\n",
      "Requirement already satisfied: pandas>=0.21.1 in /usr/local/lib/python3.7/dist-packages (from category_encoders) (1.1.5)\n",
      "Requirement already satisfied: statsmodels>=0.9.0 in /usr/local/lib/python3.7/dist-packages (from category_encoders) (0.10.2)\n",
      "Requirement already satisfied: scikit-learn>=0.20.0 in /usr/local/lib/python3.7/dist-packages (from category_encoders) (0.22.2.post1)\n",
      "Requirement already satisfied: scipy>=1.0.0 in /usr/local/lib/python3.7/dist-packages (from category_encoders) (1.4.1)\n",
      "Requirement already satisfied: python-dateutil>=2.7.3 in /usr/local/lib/python3.7/dist-packages (from pandas>=0.21.1->category_encoders) (2.8.2)\n",
      "Requirement already satisfied: pytz>=2017.2 in /usr/local/lib/python3.7/dist-packages (from pandas>=0.21.1->category_encoders) (2018.9)\n",
      "Requirement already satisfied: six in /usr/local/lib/python3.7/dist-packages (from patsy>=0.5.1->category_encoders) (1.15.0)\n",
      "Requirement already satisfied: joblib>=0.11 in /usr/local/lib/python3.7/dist-packages (from scikit-learn>=0.20.0->category_encoders) (1.0.1)\n"
     ]
    }
   ],
   "source": [
    "# 必要なものをインストール\n",
    "!pip install matplotlib==3.3.3\n",
    "!pip install category_encoders"
   ]
  },
  {
   "cell_type": "code",
   "execution_count": null,
   "metadata": {
    "colab": {
     "base_uri": "https://localhost:8080/"
    },
    "executionInfo": {
     "elapsed": 31,
     "status": "ok",
     "timestamp": 1636445451235,
     "user": {
      "displayName": "松永大希",
      "photoUrl": "https://lh3.googleusercontent.com/a/default-user=s64",
      "userId": "15035745520490838496"
     },
     "user_tz": -540
    },
    "id": "wLJ7wyxFg6bd",
    "outputId": "9ddc0eb0-74aa-4bba-b9bc-8ee8eb4ff903"
   },
   "outputs": [
    {
     "name": "stdout",
     "output_type": "stream",
     "text": [
      "/content/drive/MyDrive/Kaggle\n"
     ]
    }
   ],
   "source": [
    "# データセットが入っているフォルダに移動\n",
    "%cd /content/drive/MyDrive/Kaggle"
   ]
  },
  {
   "cell_type": "code",
   "execution_count": null,
   "metadata": {
    "id": "yIB3gfzNeg2o"
   },
   "outputs": [],
   "source": [
    "# 必要なライブラリをインストール\n",
    "import numpy as np\n",
    "import pandas as pd\n",
    "import matplotlib.pyplot as plt\n",
    "import lightgbm as lgb\n",
    "import category_encoders as ce"
   ]
  },
  {
   "cell_type": "code",
   "execution_count": null,
   "metadata": {
    "colab": {
     "base_uri": "https://localhost:8080/",
     "height": 221
    },
    "executionInfo": {
     "elapsed": 27,
     "status": "ok",
     "timestamp": 1636445451235,
     "user": {
      "displayName": "松永大希",
      "photoUrl": "https://lh3.googleusercontent.com/a/default-user=s64",
      "userId": "15035745520490838496"
     },
     "user_tz": -540
    },
    "id": "qcNdaZKzhyeO",
    "outputId": "e029a919-877a-49ff-9ca9-9dff88897222"
   },
   "outputs": [
    {
     "name": "stdout",
     "output_type": "stream",
     "text": [
      "(891, 12)\n"
     ]
    },
    {
     "data": {
      "text/html": [
       "<div>\n",
       "<style scoped>\n",
       "    .dataframe tbody tr th:only-of-type {\n",
       "        vertical-align: middle;\n",
       "    }\n",
       "\n",
       "    .dataframe tbody tr th {\n",
       "        vertical-align: top;\n",
       "    }\n",
       "\n",
       "    .dataframe thead th {\n",
       "        text-align: right;\n",
       "    }\n",
       "</style>\n",
       "<table border=\"1\" class=\"dataframe\">\n",
       "  <thead>\n",
       "    <tr style=\"text-align: right;\">\n",
       "      <th></th>\n",
       "      <th>PassengerId</th>\n",
       "      <th>Survived</th>\n",
       "      <th>Pclass</th>\n",
       "      <th>Name</th>\n",
       "      <th>Sex</th>\n",
       "      <th>Age</th>\n",
       "      <th>SibSp</th>\n",
       "      <th>Parch</th>\n",
       "      <th>Ticket</th>\n",
       "      <th>Fare</th>\n",
       "      <th>Cabin</th>\n",
       "      <th>Embarked</th>\n",
       "    </tr>\n",
       "  </thead>\n",
       "  <tbody>\n",
       "    <tr>\n",
       "      <th>0</th>\n",
       "      <td>1</td>\n",
       "      <td>0</td>\n",
       "      <td>3</td>\n",
       "      <td>Braund, Mr. Owen Harris</td>\n",
       "      <td>male</td>\n",
       "      <td>22.0</td>\n",
       "      <td>1</td>\n",
       "      <td>0</td>\n",
       "      <td>A/5 21171</td>\n",
       "      <td>7.2500</td>\n",
       "      <td>NaN</td>\n",
       "      <td>S</td>\n",
       "    </tr>\n",
       "    <tr>\n",
       "      <th>1</th>\n",
       "      <td>2</td>\n",
       "      <td>1</td>\n",
       "      <td>1</td>\n",
       "      <td>Cumings, Mrs. John Bradley (Florence Briggs Th...</td>\n",
       "      <td>female</td>\n",
       "      <td>38.0</td>\n",
       "      <td>1</td>\n",
       "      <td>0</td>\n",
       "      <td>PC 17599</td>\n",
       "      <td>71.2833</td>\n",
       "      <td>C85</td>\n",
       "      <td>C</td>\n",
       "    </tr>\n",
       "    <tr>\n",
       "      <th>2</th>\n",
       "      <td>3</td>\n",
       "      <td>1</td>\n",
       "      <td>3</td>\n",
       "      <td>Heikkinen, Miss. Laina</td>\n",
       "      <td>female</td>\n",
       "      <td>26.0</td>\n",
       "      <td>0</td>\n",
       "      <td>0</td>\n",
       "      <td>STON/O2. 3101282</td>\n",
       "      <td>7.9250</td>\n",
       "      <td>NaN</td>\n",
       "      <td>S</td>\n",
       "    </tr>\n",
       "    <tr>\n",
       "      <th>3</th>\n",
       "      <td>4</td>\n",
       "      <td>1</td>\n",
       "      <td>1</td>\n",
       "      <td>Futrelle, Mrs. Jacques Heath (Lily May Peel)</td>\n",
       "      <td>female</td>\n",
       "      <td>35.0</td>\n",
       "      <td>1</td>\n",
       "      <td>0</td>\n",
       "      <td>113803</td>\n",
       "      <td>53.1000</td>\n",
       "      <td>C123</td>\n",
       "      <td>S</td>\n",
       "    </tr>\n",
       "    <tr>\n",
       "      <th>4</th>\n",
       "      <td>5</td>\n",
       "      <td>0</td>\n",
       "      <td>3</td>\n",
       "      <td>Allen, Mr. William Henry</td>\n",
       "      <td>male</td>\n",
       "      <td>35.0</td>\n",
       "      <td>0</td>\n",
       "      <td>0</td>\n",
       "      <td>373450</td>\n",
       "      <td>8.0500</td>\n",
       "      <td>NaN</td>\n",
       "      <td>S</td>\n",
       "    </tr>\n",
       "  </tbody>\n",
       "</table>\n",
       "</div>"
      ],
      "text/plain": [
       "   PassengerId  Survived  Pclass  ...     Fare Cabin  Embarked\n",
       "0            1         0       3  ...   7.2500   NaN         S\n",
       "1            2         1       1  ...  71.2833   C85         C\n",
       "2            3         1       3  ...   7.9250   NaN         S\n",
       "3            4         1       1  ...  53.1000  C123         S\n",
       "4            5         0       3  ...   8.0500   NaN         S\n",
       "\n",
       "[5 rows x 12 columns]"
      ]
     },
     "execution_count": 23,
     "metadata": {},
     "output_type": "execute_result"
    }
   ],
   "source": [
    "# 学習データを読み込む\n",
    "train = pd.read_csv('train.csv')\n",
    "print(train.shape) # 形状を確認\n",
    "train.head()  # 最初の5行を見る。 "
   ]
  },
  {
   "cell_type": "code",
   "execution_count": null,
   "metadata": {
    "colab": {
     "base_uri": "https://localhost:8080/",
     "height": 221
    },
    "executionInfo": {
     "elapsed": 25,
     "status": "ok",
     "timestamp": 1636445451235,
     "user": {
      "displayName": "松永大希",
      "photoUrl": "https://lh3.googleusercontent.com/a/default-user=s64",
      "userId": "15035745520490838496"
     },
     "user_tz": -540
    },
    "id": "ptzg9cqkh4Bc",
    "outputId": "f66f6dd7-b8de-4e67-b5ec-01dfd29223a5"
   },
   "outputs": [
    {
     "name": "stdout",
     "output_type": "stream",
     "text": [
      "(418, 11)\n"
     ]
    },
    {
     "data": {
      "text/html": [
       "<div>\n",
       "<style scoped>\n",
       "    .dataframe tbody tr th:only-of-type {\n",
       "        vertical-align: middle;\n",
       "    }\n",
       "\n",
       "    .dataframe tbody tr th {\n",
       "        vertical-align: top;\n",
       "    }\n",
       "\n",
       "    .dataframe thead th {\n",
       "        text-align: right;\n",
       "    }\n",
       "</style>\n",
       "<table border=\"1\" class=\"dataframe\">\n",
       "  <thead>\n",
       "    <tr style=\"text-align: right;\">\n",
       "      <th></th>\n",
       "      <th>PassengerId</th>\n",
       "      <th>Pclass</th>\n",
       "      <th>Name</th>\n",
       "      <th>Sex</th>\n",
       "      <th>Age</th>\n",
       "      <th>SibSp</th>\n",
       "      <th>Parch</th>\n",
       "      <th>Ticket</th>\n",
       "      <th>Fare</th>\n",
       "      <th>Cabin</th>\n",
       "      <th>Embarked</th>\n",
       "    </tr>\n",
       "  </thead>\n",
       "  <tbody>\n",
       "    <tr>\n",
       "      <th>0</th>\n",
       "      <td>892</td>\n",
       "      <td>3</td>\n",
       "      <td>Kelly, Mr. James</td>\n",
       "      <td>male</td>\n",
       "      <td>34.5</td>\n",
       "      <td>0</td>\n",
       "      <td>0</td>\n",
       "      <td>330911</td>\n",
       "      <td>7.8292</td>\n",
       "      <td>NaN</td>\n",
       "      <td>Q</td>\n",
       "    </tr>\n",
       "    <tr>\n",
       "      <th>1</th>\n",
       "      <td>893</td>\n",
       "      <td>3</td>\n",
       "      <td>Wilkes, Mrs. James (Ellen Needs)</td>\n",
       "      <td>female</td>\n",
       "      <td>47.0</td>\n",
       "      <td>1</td>\n",
       "      <td>0</td>\n",
       "      <td>363272</td>\n",
       "      <td>7.0000</td>\n",
       "      <td>NaN</td>\n",
       "      <td>S</td>\n",
       "    </tr>\n",
       "    <tr>\n",
       "      <th>2</th>\n",
       "      <td>894</td>\n",
       "      <td>2</td>\n",
       "      <td>Myles, Mr. Thomas Francis</td>\n",
       "      <td>male</td>\n",
       "      <td>62.0</td>\n",
       "      <td>0</td>\n",
       "      <td>0</td>\n",
       "      <td>240276</td>\n",
       "      <td>9.6875</td>\n",
       "      <td>NaN</td>\n",
       "      <td>Q</td>\n",
       "    </tr>\n",
       "    <tr>\n",
       "      <th>3</th>\n",
       "      <td>895</td>\n",
       "      <td>3</td>\n",
       "      <td>Wirz, Mr. Albert</td>\n",
       "      <td>male</td>\n",
       "      <td>27.0</td>\n",
       "      <td>0</td>\n",
       "      <td>0</td>\n",
       "      <td>315154</td>\n",
       "      <td>8.6625</td>\n",
       "      <td>NaN</td>\n",
       "      <td>S</td>\n",
       "    </tr>\n",
       "    <tr>\n",
       "      <th>4</th>\n",
       "      <td>896</td>\n",
       "      <td>3</td>\n",
       "      <td>Hirvonen, Mrs. Alexander (Helga E Lindqvist)</td>\n",
       "      <td>female</td>\n",
       "      <td>22.0</td>\n",
       "      <td>1</td>\n",
       "      <td>1</td>\n",
       "      <td>3101298</td>\n",
       "      <td>12.2875</td>\n",
       "      <td>NaN</td>\n",
       "      <td>S</td>\n",
       "    </tr>\n",
       "  </tbody>\n",
       "</table>\n",
       "</div>"
      ],
      "text/plain": [
       "   PassengerId  Pclass  ... Cabin Embarked\n",
       "0          892       3  ...   NaN        Q\n",
       "1          893       3  ...   NaN        S\n",
       "2          894       2  ...   NaN        Q\n",
       "3          895       3  ...   NaN        S\n",
       "4          896       3  ...   NaN        S\n",
       "\n",
       "[5 rows x 11 columns]"
      ]
     },
     "execution_count": 24,
     "metadata": {},
     "output_type": "execute_result"
    }
   ],
   "source": [
    "# テストデータを読み込む\n",
    "test = pd.read_csv('test.csv')\n",
    "print(test.shape) # 形状を確認\n",
    "test.head()  # 最初の5行を見る。 "
   ]
  },
  {
   "cell_type": "code",
   "execution_count": null,
   "metadata": {
    "colab": {
     "base_uri": "https://localhost:8080/"
    },
    "executionInfo": {
     "elapsed": 24,
     "status": "ok",
     "timestamp": 1636445451236,
     "user": {
      "displayName": "松永大希",
      "photoUrl": "https://lh3.googleusercontent.com/a/default-user=s64",
      "userId": "15035745520490838496"
     },
     "user_tz": -540
    },
    "id": "Iexy11VFiQra",
    "outputId": "ca77035f-736b-4004-ae58-976dc5cc36a8"
   },
   "outputs": [
    {
     "data": {
      "text/plain": [
       "PassengerId      int64\n",
       "Survived         int64\n",
       "Pclass           int64\n",
       "Name            object\n",
       "Sex             object\n",
       "Age            float64\n",
       "SibSp            int64\n",
       "Parch            int64\n",
       "Ticket          object\n",
       "Fare           float64\n",
       "Cabin           object\n",
       "Embarked        object\n",
       "dtype: object"
      ]
     },
     "execution_count": 25,
     "metadata": {},
     "output_type": "execute_result"
    }
   ],
   "source": [
    "## 型を確認する。\n",
    "train.dtypes"
   ]
  },
  {
   "cell_type": "code",
   "execution_count": null,
   "metadata": {
    "colab": {
     "base_uri": "https://localhost:8080/"
    },
    "executionInfo": {
     "elapsed": 21,
     "status": "ok",
     "timestamp": 1636445451236,
     "user": {
      "displayName": "松永大希",
      "photoUrl": "https://lh3.googleusercontent.com/a/default-user=s64",
      "userId": "15035745520490838496"
     },
     "user_tz": -540
    },
    "id": "8Sh0NzPZim-a",
    "outputId": "d82da40b-4dda-4905-dea7-4d26e9e5512e"
   },
   "outputs": [
    {
     "name": "stdout",
     "output_type": "stream",
     "text": [
      "PassengerId      0\n",
      "Survived         0\n",
      "Pclass           0\n",
      "Name             0\n",
      "Sex              0\n",
      "Age            177\n",
      "SibSp            0\n",
      "Parch            0\n",
      "Ticket           0\n",
      "Fare             0\n",
      "Cabin          687\n",
      "Embarked         2\n",
      "dtype: int64\n",
      "----------------------------------------\n",
      "PassengerId      0\n",
      "Pclass           0\n",
      "Name             0\n",
      "Sex              0\n",
      "Age             86\n",
      "SibSp            0\n",
      "Parch            0\n",
      "Ticket           0\n",
      "Fare             1\n",
      "Cabin          327\n",
      "Embarked         0\n",
      "dtype: int64\n"
     ]
    }
   ],
   "source": [
    "# 欠損値の数を確認する。\n",
    "print(train.isnull().sum())\n",
    "print('-'*40)\n",
    "print(test.isnull().sum())"
   ]
  },
  {
   "cell_type": "markdown",
   "metadata": {
    "id": "bec-v1edjj09"
   },
   "source": [
    "## 前処理\n",
    "\n",
    "データがobject型のままではモデルが処理できないのでエンコーディングを行う。今回は一番標準的と思われるLabel Encodingを行う。 \\\n",
    "\n",
    "なお、trainとtestでラベルの相違があったら困るので一度全データを結合してからエンコーディングする。"
   ]
  },
  {
   "cell_type": "code",
   "execution_count": null,
   "metadata": {
    "id": "NSq-eZm4l_VY"
   },
   "outputs": [],
   "source": [
    "## trainとtestを結合する。\n",
    "df_cat = pd.concat([train, test])"
   ]
  },
  {
   "cell_type": "code",
   "execution_count": null,
   "metadata": {
    "colab": {
     "base_uri": "https://localhost:8080/",
     "height": 204
    },
    "executionInfo": {
     "elapsed": 20,
     "status": "ok",
     "timestamp": 1636445451236,
     "user": {
      "displayName": "松永大希",
      "photoUrl": "https://lh3.googleusercontent.com/a/default-user=s64",
      "userId": "15035745520490838496"
     },
     "user_tz": -540
    },
    "id": "OB0Dim2Kit13",
    "outputId": "60a2a511-5aa2-46d8-8c9e-748e47e651a3"
   },
   "outputs": [
    {
     "data": {
      "text/html": [
       "<div>\n",
       "<style scoped>\n",
       "    .dataframe tbody tr th:only-of-type {\n",
       "        vertical-align: middle;\n",
       "    }\n",
       "\n",
       "    .dataframe tbody tr th {\n",
       "        vertical-align: top;\n",
       "    }\n",
       "\n",
       "    .dataframe thead th {\n",
       "        text-align: right;\n",
       "    }\n",
       "</style>\n",
       "<table border=\"1\" class=\"dataframe\">\n",
       "  <thead>\n",
       "    <tr style=\"text-align: right;\">\n",
       "      <th></th>\n",
       "      <th>PassengerId</th>\n",
       "      <th>Survived</th>\n",
       "      <th>Pclass</th>\n",
       "      <th>Name</th>\n",
       "      <th>Sex</th>\n",
       "      <th>Age</th>\n",
       "      <th>SibSp</th>\n",
       "      <th>Parch</th>\n",
       "      <th>Ticket</th>\n",
       "      <th>Fare</th>\n",
       "      <th>Cabin</th>\n",
       "      <th>Embarked</th>\n",
       "    </tr>\n",
       "  </thead>\n",
       "  <tbody>\n",
       "    <tr>\n",
       "      <th>0</th>\n",
       "      <td>1</td>\n",
       "      <td>0.0</td>\n",
       "      <td>3</td>\n",
       "      <td>Braund, Mr. Owen Harris</td>\n",
       "      <td>1</td>\n",
       "      <td>22.0</td>\n",
       "      <td>1</td>\n",
       "      <td>0</td>\n",
       "      <td>1</td>\n",
       "      <td>7.2500</td>\n",
       "      <td>1</td>\n",
       "      <td>1</td>\n",
       "    </tr>\n",
       "    <tr>\n",
       "      <th>1</th>\n",
       "      <td>2</td>\n",
       "      <td>1.0</td>\n",
       "      <td>1</td>\n",
       "      <td>Cumings, Mrs. John Bradley (Florence Briggs Th...</td>\n",
       "      <td>2</td>\n",
       "      <td>38.0</td>\n",
       "      <td>1</td>\n",
       "      <td>0</td>\n",
       "      <td>2</td>\n",
       "      <td>71.2833</td>\n",
       "      <td>2</td>\n",
       "      <td>2</td>\n",
       "    </tr>\n",
       "    <tr>\n",
       "      <th>2</th>\n",
       "      <td>3</td>\n",
       "      <td>1.0</td>\n",
       "      <td>3</td>\n",
       "      <td>Heikkinen, Miss. Laina</td>\n",
       "      <td>2</td>\n",
       "      <td>26.0</td>\n",
       "      <td>0</td>\n",
       "      <td>0</td>\n",
       "      <td>3</td>\n",
       "      <td>7.9250</td>\n",
       "      <td>1</td>\n",
       "      <td>1</td>\n",
       "    </tr>\n",
       "    <tr>\n",
       "      <th>3</th>\n",
       "      <td>4</td>\n",
       "      <td>1.0</td>\n",
       "      <td>1</td>\n",
       "      <td>Futrelle, Mrs. Jacques Heath (Lily May Peel)</td>\n",
       "      <td>2</td>\n",
       "      <td>35.0</td>\n",
       "      <td>1</td>\n",
       "      <td>0</td>\n",
       "      <td>4</td>\n",
       "      <td>53.1000</td>\n",
       "      <td>3</td>\n",
       "      <td>1</td>\n",
       "    </tr>\n",
       "    <tr>\n",
       "      <th>4</th>\n",
       "      <td>5</td>\n",
       "      <td>0.0</td>\n",
       "      <td>3</td>\n",
       "      <td>Allen, Mr. William Henry</td>\n",
       "      <td>1</td>\n",
       "      <td>35.0</td>\n",
       "      <td>0</td>\n",
       "      <td>0</td>\n",
       "      <td>5</td>\n",
       "      <td>8.0500</td>\n",
       "      <td>1</td>\n",
       "      <td>1</td>\n",
       "    </tr>\n",
       "  </tbody>\n",
       "</table>\n",
       "</div>"
      ],
      "text/plain": [
       "   PassengerId  Survived  Pclass  ...     Fare  Cabin  Embarked\n",
       "0            1       0.0       3  ...   7.2500      1         1\n",
       "1            2       1.0       1  ...  71.2833      2         2\n",
       "2            3       1.0       3  ...   7.9250      1         1\n",
       "3            4       1.0       1  ...  53.1000      3         1\n",
       "4            5       0.0       3  ...   8.0500      1         1\n",
       "\n",
       "[5 rows x 12 columns]"
      ]
     },
     "execution_count": 28,
     "metadata": {},
     "output_type": "execute_result"
    }
   ],
   "source": [
    "# object型のcolumnを定義する。\n",
    "obj_columns = ['Sex', 'Ticket', 'Cabin', 'Embarked']\n",
    "# LabelEncodingを適用する(category_encodersではOrdinalEncoderという名前なので注意)\n",
    "oe = ce.OrdinalEncoder(cols=obj_columns)\n",
    "df_cat_oe = oe.fit_transform(df_cat)\n",
    "df_cat_oe.head()"
   ]
  },
  {
   "cell_type": "markdown",
   "metadata": {
    "id": "adlzrSrsmp64"
   },
   "source": [
    "## モデル構築\n",
    "\n",
    "機械学習にはさまざまなモデルがあり、どのモデルが適切か、試行錯誤しなければならない。 \\\n",
    "\n",
    "...というのは建前であり基本的に最初はLightGBMを使うのが基本である。\n",
    "\n",
    "LightGBMの強みとして以下が挙げられる\n",
    "- 単純に多くのテーブルデータで最もパフォーマンスが優れている。(最近はCatBoostといい勝負)\n",
    "- 欠損値を無視できる。\n",
    "- エンコーディングされた数値の序列を無視できる(OnehotEncodingの必要がない。)\n",
    "- XGBoostと比較して学習が早い。\n",
    "\n",
    "というわけで今回はLightGBMを用いてモデルを構築する。"
   ]
  },
  {
   "cell_type": "code",
   "execution_count": null,
   "metadata": {
    "id": "34UoMgW4lwuB"
   },
   "outputs": [],
   "source": [
    "## df_cat_oeをtrainとtestに分離する。\n",
    "train = df_cat_oe[:len(train)]\n",
    "test = df_cat_oe[len(train):]"
   ]
  },
  {
   "cell_type": "code",
   "execution_count": null,
   "metadata": {
    "id": "01-woLPQoJdy"
   },
   "outputs": [],
   "source": [
    "# 学習に用いない特徴を定義する。\n",
    "drop_cols = ['PassengerId', 'Survived', 'Name']\n",
    "# 学習データを定義する。\n",
    "X = train.drop(drop_cols, axis=1)\n",
    "y = train['Survived'].values\n",
    "X_test = test.drop(drop_cols, axis=1)"
   ]
  },
  {
   "cell_type": "code",
   "execution_count": null,
   "metadata": {
    "id": "FTqUDqwupUFf"
   },
   "outputs": [],
   "source": [
    "from sklearn.model_selection import train_test_split\n",
    "# 評価用データを作成する。今回は一番簡単なHoldOut法で行う。\n",
    "X_train, X_val, y_train, y_val = train_test_split(X, y, test_size=0.2, shuffle=True, random_state=42)"
   ]
  },
  {
   "cell_type": "code",
   "execution_count": null,
   "metadata": {
    "colab": {
     "base_uri": "https://localhost:8080/"
    },
    "executionInfo": {
     "elapsed": 18,
     "status": "ok",
     "timestamp": 1636445451810,
     "user": {
      "displayName": "松永大希",
      "photoUrl": "https://lh3.googleusercontent.com/a/default-user=s64",
      "userId": "15035745520490838496"
     },
     "user_tz": -540
    },
    "id": "j30rGTtKphvU",
    "outputId": "6f5befcf-42d7-4912-ec2f-88bd6192b024"
   },
   "outputs": [
    {
     "name": "stdout",
     "output_type": "stream",
     "text": [
      "Training until validation scores don't improve for 100 rounds.\n",
      "[100]\tvalid_0's binary_logloss: 0.487999\n",
      "Early stopping, best iteration is:\n",
      "[45]\tvalid_0's binary_logloss: 0.424782\n"
     ]
    }
   ],
   "source": [
    "# lightgbmのデータセットを定義する。\n",
    "train_data = lgb.Dataset(X_train, y_train)\n",
    "val_data = lgb.Dataset(X_val, y_val)\n",
    "\n",
    "# lightgbmのパラメータを定義する。\n",
    "lgb_params = {\"objective\":\"binary\", \n",
    "            \"metric\":\"binary_logloss\", \n",
    "            \"verbosity\": -1}\n",
    "\n",
    "# 学習\n",
    "model = lgb.train(lgb_params, train_data,\n",
    "                  num_boost_round=100000,\n",
    "                  valid_sets=val_data,\n",
    "                  early_stopping_rounds=100,\n",
    "                  verbose_eval=100)"
   ]
  },
  {
   "cell_type": "code",
   "execution_count": null,
   "metadata": {
    "colab": {
     "base_uri": "https://localhost:8080/",
     "height": 312
    },
    "executionInfo": {
     "elapsed": 14,
     "status": "ok",
     "timestamp": 1636445451810,
     "user": {
      "displayName": "松永大希",
      "photoUrl": "https://lh3.googleusercontent.com/a/default-user=s64",
      "userId": "15035745520490838496"
     },
     "user_tz": -540
    },
    "id": "yFi1cBn0CF56",
    "outputId": "baad6035-e9b8-4975-da01-5a77793afa96"
   },
   "outputs": [
    {
     "data": {
      "text/plain": [
       "<AxesSubplot:title={'center':'Feature importance'}, xlabel='Feature importance', ylabel='Features'>"
      ]
     },
     "execution_count": 33,
     "metadata": {},
     "output_type": "execute_result"
    },
    {
     "data": {
      "image/png": "[encoded data removed]",
      "text/plain": [
       "<Figure size 432x288 with 1 Axes>"
      ]
     },
     "metadata": {
      "needs_background": "light"
     },
     "output_type": "display_data"
    }
   ],
   "source": [
    "# モデルの重要度を可視化する。\n",
    "lgb.plot_importance(model)"
   ]
  },
  {
   "cell_type": "markdown",
   "metadata": {
    "id": "pZzMYQp-ubXZ"
   },
   "source": [
    "### valデータの評価"
   ]
  },
  {
   "cell_type": "code",
   "execution_count": null,
   "metadata": {
    "colab": {
     "base_uri": "https://localhost:8080/"
    },
    "executionInfo": {
     "elapsed": 11,
     "status": "ok",
     "timestamp": 1636445451811,
     "user": {
      "displayName": "松永大希",
      "photoUrl": "https://lh3.googleusercontent.com/a/default-user=s64",
      "userId": "15035745520490838496"
     },
     "user_tz": -540
    },
    "id": "T43FbaVlrSxR",
    "outputId": "b8e78a31-6047-49f5-8734-67bf9409b2e8"
   },
   "outputs": [
    {
     "name": "stdout",
     "output_type": "stream",
     "text": [
      "[0.22989009 0.21821881 0.17277152 0.989741   0.35581494 0.95985593\n",
      " 0.77144736 0.15827364 0.74218066 0.91107061 0.23196751 0.06157138\n",
      " 0.10704732 0.21724627 0.20602525 0.98181736 0.67474587 0.62589961\n",
      " 0.09090879 0.04848863 0.28940549 0.30217387 0.5117384  0.07540766\n",
      " 0.10403098 0.01827762 0.24590957 0.1097798  0.19259532 0.6391547\n",
      " 0.05116215 0.71579618 0.18948905 0.56645686 0.11293254 0.13043332\n",
      " 0.40730954 0.72335073 0.98228744 0.01981766 0.10122453 0.23798151\n",
      " 0.04373817 0.08181696 0.64933379 0.21791003 0.1432497  0.05199649\n",
      " 0.37472765 0.46657169 0.90788938 0.98680398 0.10771337 0.68947984\n",
      " 0.02294465 0.92215295 0.22604385 0.93881104 0.96144428 0.78977288\n",
      " 0.20658218 0.87261542 0.96818741 0.03492403 0.03355246 0.96937156\n",
      " 0.12904094 0.38554612 0.15852273 0.98073275 0.96965903 0.97015283\n",
      " 0.63685372 0.98811649 0.09356393 0.04616075 0.61872089 0.97293113\n",
      " 0.97081438 0.83106246 0.00917611 0.93865895 0.98744706 0.05656486\n",
      " 0.05188881 0.04548847 0.94673579 0.98853363 0.02968956 0.03001802\n",
      " 0.62811339 0.05784705 0.56160882 0.06117698 0.10021774 0.22384497\n",
      " 0.45765715 0.18923249 0.96993844 0.30389025 0.16843876 0.03144767\n",
      " 0.89620355 0.02577805 0.15281712 0.36105684 0.96962926 0.17586564\n",
      " 0.11242494 0.22950477 0.9816231  0.19629263 0.98718906 0.38752515\n",
      " 0.23076019 0.05606417 0.03554381 0.45187161 0.93271163 0.05803527\n",
      " 0.06124892 0.94947668 0.89868534 0.84062339 0.1253548  0.3144497\n",
      " 0.98170571 0.28573936 0.38658319 0.04539414 0.7698105  0.22989009\n",
      " 0.00812538 0.56034484 0.4626816  0.20833424 0.99058378 0.24365363\n",
      " 0.03462038 0.36754582 0.04341778 0.96148339 0.07295218 0.03870362\n",
      " 0.06004521 0.985126   0.05135767 0.34710249 0.95521052 0.06478918\n",
      " 0.10705565 0.10743573 0.04770056 0.1354813  0.11780478 0.01466054\n",
      " 0.44657279 0.80694681 0.98162837 0.85123398 0.34495284 0.16029939\n",
      " 0.03721248 0.96263616 0.30992205 0.15372702 0.09179652 0.97211226\n",
      " 0.06219815 0.01618318 0.14547424 0.91737772 0.57716489 0.42122834\n",
      " 0.06633821 0.08567567 0.04441568 0.82704144 0.7456624 ]\n"
     ]
    }
   ],
   "source": [
    "from sklearn.metrics import accuracy_score\n",
    "# valデータを予測する。\n",
    "val_probs = model.predict(X_val, num_iteration=model.best_iteration)\n",
    "print(val_probs)"
   ]
  },
  {
   "cell_type": "markdown",
   "metadata": {
    "id": "5d_QQ-bRsbi8"
   },
   "source": [
    "モデルの出力はfloat型で出力される。\n",
    "ただし、今回は二値分類なので以下のルールでint型に変更する。 \\\n",
    "1. thershold=0.5\n",
    "2. 値がthresholdを下回ったら0\n",
    "3. それ以上の場合は1 \\\n",
    "\n",
    "これらの処理は\b、np.whereを用いると便利である。 \\\n",
    "\n",
    "ちなみに上級者はこのtheresholdの値を最適化したりする。"
   ]
  },
  {
   "cell_type": "code",
   "execution_count": null,
   "metadata": {
    "id": "xOJhm7uhtXtO"
   },
   "outputs": [],
   "source": [
    "thershold = 0.5\n",
    "# 予測を二値化する。\n",
    "val_preds = np.where(val_probs < thershold, 0, 1)"
   ]
  },
  {
   "cell_type": "markdown",
   "metadata": {
    "id": "n4Xja2q3r5Um"
   },
   "source": [
    "準備が終わったので精度を評価する。 \\\n",
    "評価指標はf1やfbetaなどが用いられることが多いがタイタニックコンペのルールではAccuracyスコアを用いるようなので(おそらく初心者向けだから?)、今回はそれに準じる。"
   ]
  },
  {
   "cell_type": "code",
   "execution_count": null,
   "metadata": {
    "colab": {
     "base_uri": "https://localhost:8080/"
    },
    "executionInfo": {
     "elapsed": 10,
     "status": "ok",
     "timestamp": 1636445451812,
     "user": {
      "displayName": "松永大希",
      "photoUrl": "https://lh3.googleusercontent.com/a/default-user=s64",
      "userId": "15035745520490838496"
     },
     "user_tz": -540
    },
    "id": "d9R6SkpNr4Kc",
    "outputId": "1adf3ccc-b654-4032-b154-ec57da94d00e"
   },
   "outputs": [
    {
     "name": "stdout",
     "output_type": "stream",
     "text": [
      "0.8268156424581006\n"
     ]
    }
   ],
   "source": [
    "from sklearn.metrics import accuracy_score\n",
    "# スコアを出力\n",
    "print(accuracy_score(y_val, val_preds))"
   ]
  },
  {
   "cell_type": "markdown",
   "metadata": {
    "id": "xBzLW6iEuTfg"
   },
   "source": [
    "### テストデータの予測とKaggleへの提出ファイルの作成。"
   ]
  },
  {
   "cell_type": "code",
   "execution_count": null,
   "metadata": {
    "id": "AVswoiNOuOSH"
   },
   "outputs": [],
   "source": [
    "# valデータと同じように予測\n",
    "test_probs = model.predict(X_test, num_iteration=model.best_iteration)\n",
    "# valデータと同じように予測を二値にする。\n",
    "thershold = 0.5\n",
    "test_preds = np.where(test_probs < thershold, 0, 1)"
   ]
  },
  {
   "cell_type": "code",
   "execution_count": null,
   "metadata": {
    "colab": {
     "base_uri": "https://localhost:8080/"
    },
    "executionInfo": {
     "elapsed": 541,
     "status": "ok",
     "timestamp": 1636445452345,
     "user": {
      "displayName": "松永大希",
      "photoUrl": "https://lh3.googleusercontent.com/a/default-user=s64",
      "userId": "15035745520490838496"
     },
     "user_tz": -540
    },
    "id": "w9Q3Sy-YvCDb",
    "outputId": "7bd0bf0b-3b5e-42c5-8c6d-638e0bf9f125"
   },
   "outputs": [
    {
     "name": "stdout",
     "output_type": "stream",
     "text": [
      "418\n",
      "[0 0 0 0 0 0 1 0 1 0 0 0 1 0 1 1 0 0 0 1 0 0 1 0 1 0 1 0 0 0 0 0 1 0 0 0 0\n",
      " 0 0 0 0 1 0 1 1 0 0 0 1 1 1 0 1 1 0 0 0 0 0 1 0 0 0 1 0 1 1 0 0 1 1 0 0 0\n",
      " 1 1 0 1 0 1 1 0 0 0 0 0 1 0 1 1 0 0 1 0 0 0 1 0 0 0 1 0 0 0 0 0 0 0 0 0 0\n",
      " 1 1 1 1 0 0 1 1 1 1 0 1 0 0 1 0 1 0 0 0 0 0 0 0 0 0 0 0 0 0 1 0 0 0 0 0 0\n",
      " 0 0 1 0 0 1 0 0 1 0 0 0 1 1 1 0 0 0 0 0 1 0 0 0 0 0 0 1 1 0 1 1 0 1 1 0 1\n",
      " 0 1 0 0 0 0 0 0 0 1 0 1 0 0 0 1 1 0 1 0 0 1 0 1 0 0 0 0 1 0 0 1 0 1 0 1 0\n",
      " 1 0 1 1 0 1 0 0 0 1 0 0 0 0 0 0 1 1 1 1 0 0 0 0 1 0 1 0 1 0 1 0 0 0 0 0 1\n",
      " 0 0 0 1 1 0 0 0 0 0 0 0 0 1 1 0 1 0 0 0 0 0 1 1 1 1 0 0 1 0 0 0 1 0 0 0 0\n",
      " 1 0 0 0 0 0 0 0 1 1 0 1 1 0 0 0 0 1 1 1 0 0 0 0 0 0 0 0 1 0 1 0 0 0 1 0 0\n",
      " 1 0 0 0 0 0 0 0 0 0 1 0 1 0 1 0 1 1 0 0 0 1 0 1 0 0 1 0 1 1 0 1 0 0 0 1 0\n",
      " 0 1 0 0 1 1 0 0 0 0 0 0 0 1 0 1 0 0 0 0 1 1 0 0 0 1 0 1 0 0 1 0 1 0 0 0 0\n",
      " 0 1 1 1 1 1 0 1 0 0 0]\n"
     ]
    }
   ],
   "source": [
    "print(len(test_preds))\n",
    "print(test_preds)"
   ]
  },
  {
   "cell_type": "code",
   "execution_count": null,
   "metadata": {
    "id": "w9mu3zU5vO7t"
   },
   "outputs": [],
   "source": [
    "# submissionのサンプルファイルを読み込む\n",
    "submit = pd.read_csv('gender_submission.csv')\n",
    "submit['Survived'] = test_preds"
   ]
  },
  {
   "cell_type": "code",
   "execution_count": null,
   "metadata": {
    "id": "ZkYIDf-BvDZK"
   },
   "outputs": [],
   "source": [
    "# 提出\n",
    "submit.to_csv('submit/my_submit1.csv', index=False)"
   ]
  },
  {
   "cell_type": "markdown",
   "metadata": {
    "id": "WAUHWqEB3IIE"
   },
   "source": [
    "### Cross Validationを作ろう"
   ]
  },
  {
   "cell_type": "markdown",
   "metadata": {
    "id": "hOYwT9pb6daY"
   },
   "source": [
    "valデータが一つだけでは正当な評価が難しい。 \\ \n",
    "また、全データで学習ができないなどの問題がある。 \\\n",
    "そこで、基本的にはHoldOutではなく、Cross Validation(CV)が用いられる。 \\\n",
    "基本的にはscikit-learnのKFoldで実装できるが分類問題では、ターゲットの比率を維持してKFoldできる。Stratified KFoldが用いられることが多い。"
   ]
  },
  {
   "cell_type": "code",
   "execution_count": null,
   "metadata": {
    "colab": {
     "base_uri": "https://localhost:8080/"
    },
    "executionInfo": {
     "elapsed": 9,
     "status": "ok",
     "timestamp": 1636445452346,
     "user": {
      "displayName": "松永大希",
      "photoUrl": "https://lh3.googleusercontent.com/a/default-user=s64",
      "userId": "15035745520490838496"
     },
     "user_tz": -540
    },
    "id": "jWkeblhhvx_G",
    "outputId": "43d9cbad-68e0-441a-fc04-b91ffcf05631"
   },
   "outputs": [
    {
     "name": "stdout",
     "output_type": "stream",
     "text": [
      "(array([  0,   1,   2,   3,   5,   7,   8,   9,  10,  11,  12,  14,  15,\n",
      "        16,  17,  18,  20,  21,  22,  23,  25,  27,  29,  32,  33,  35,\n",
      "        36,  37,  38,  39,  40,  41,  42,  44,  46,  47,  48,  49,  50,\n",
      "        51,  52,  54,  56,  57,  58,  59,  61,  62,  65,  67,  69,  70,\n",
      "        71,  72,  73,  74,  76,  77,  78,  80,  81,  82,  83,  84,  85,\n",
      "        86,  87,  88,  89,  91,  92,  93,  95,  96,  97,  98, 100, 101,\n",
      "       102, 104, 106, 107, 109, 110, 111, 112, 115, 116, 117, 119, 120,\n",
      "       121, 122, 123, 124, 125, 127, 129, 130, 132, 133, 135, 136, 137,\n",
      "       138, 139, 140, 142, 144, 145, 149, 151, 152, 154, 156, 157, 158,\n",
      "       159, 160, 161, 162, 163, 165, 166, 167, 168, 169, 171, 172, 175,\n",
      "       178, 179, 180, 181, 182, 183, 184, 185, 186, 187, 188, 189, 190,\n",
      "       191, 192, 193, 194, 195, 196, 197, 198, 199, 200, 201, 202, 204,\n",
      "       205, 206, 208, 209, 210, 211, 212, 213, 214, 215, 216, 217, 218,\n",
      "       219, 220, 221, 222, 223, 224, 225, 226, 227, 228, 229, 230, 231,\n",
      "       232, 233, 234, 236, 237, 239, 240, 241, 242, 243, 244, 245, 246,\n",
      "       247, 248, 250, 252, 253, 254, 255, 256, 257, 258, 259, 260, 261,\n",
      "       262, 263, 264, 265, 266, 267, 268, 269, 270, 271, 272, 274, 275,\n",
      "       276, 277, 278, 279, 280, 281, 284, 288, 289, 291, 292, 294, 295,\n",
      "       296, 297, 298, 299, 300, 301, 302, 303, 305, 307, 308, 309, 310,\n",
      "       311, 312, 315, 316, 317, 318, 319, 320, 321, 323, 325, 326, 327,\n",
      "       328, 329, 330, 332, 333, 334, 337, 338, 339, 340, 342, 344, 346,\n",
      "       349, 351, 352, 353, 354, 355, 356, 358, 359, 360, 361, 364, 366,\n",
      "       367, 368, 370, 373, 374, 375, 376, 377, 378, 379, 380, 382, 384,\n",
      "       385, 386, 387, 388, 389, 390, 391, 392, 393, 395, 396, 397, 398,\n",
      "       400, 401, 402, 403, 404, 405, 408, 409, 410, 411, 413, 414, 415,\n",
      "       417, 418, 419, 420, 421, 422, 423, 424, 427, 428, 430, 431, 432,\n",
      "       434, 436, 437, 438, 439, 441, 442, 443, 444, 445, 446, 447, 450,\n",
      "       451, 452, 453, 454, 455, 456, 457, 458, 459, 460, 462, 463, 464,\n",
      "       466, 467, 468, 470, 471, 472, 474, 475, 476, 478, 479, 480, 481,\n",
      "       482, 484, 485, 486, 487, 488, 489, 490, 491, 492, 494, 495, 496,\n",
      "       497, 499, 500, 501, 502, 503, 504, 505, 506, 508, 509, 510, 511,\n",
      "       512, 513, 514, 515, 516, 517, 519, 520, 521, 522, 524, 525, 526,\n",
      "       527, 528, 529, 530, 531, 532, 533, 534, 536, 537, 538, 540, 541,\n",
      "       542, 543, 544, 545, 546, 547, 548, 551, 552, 553, 554, 555, 556,\n",
      "       557, 559, 560, 561, 562, 563, 564, 565, 566, 567, 568, 569, 570,\n",
      "       571, 572, 573, 574, 575, 576, 578, 579, 580, 581, 582, 583, 584,\n",
      "       585, 586, 588, 589, 590, 591, 592, 593, 594, 595, 596, 597, 598,\n",
      "       599, 600, 601, 603, 604, 605, 606, 608, 609, 610, 612, 613, 615,\n",
      "       616, 618, 619, 620, 621, 622, 623, 624, 629, 630, 631, 632, 633,\n",
      "       634, 635, 636, 639, 640, 642, 643, 644, 645, 646, 648, 649, 650,\n",
      "       651, 653, 654, 655, 656, 657, 658, 659, 660, 661, 662, 663, 664,\n",
      "       666, 667, 669, 670, 671, 672, 673, 674, 675, 676, 677, 679, 680,\n",
      "       681, 682, 684, 687, 688, 689, 690, 691, 692, 693, 694, 695, 697,\n",
      "       698, 699, 700, 701, 702, 703, 704, 705, 706, 709, 710, 711, 712,\n",
      "       713, 714, 715, 716, 717, 719, 720, 721, 722, 725, 726, 727, 728,\n",
      "       730, 731, 733, 735, 736, 738, 739, 740, 741, 742, 743, 744, 745,\n",
      "       746, 747, 748, 749, 750, 751, 752, 753, 754, 755, 756, 757, 758,\n",
      "       759, 760, 761, 762, 763, 764, 766, 767, 768, 769, 770, 771, 772,\n",
      "       774, 775, 776, 777, 778, 781, 782, 783, 784, 786, 789, 791, 792,\n",
      "       794, 797, 798, 800, 802, 804, 805, 806, 807, 808, 809, 810, 812,\n",
      "       813, 815, 816, 817, 819, 820, 821, 823, 824, 825, 826, 827, 828,\n",
      "       829, 831, 832, 833, 834, 835, 836, 837, 838, 840, 841, 842, 843,\n",
      "       844, 846, 847, 849, 850, 851, 852, 853, 854, 855, 857, 858, 859,\n",
      "       860, 861, 863, 864, 865, 866, 867, 868, 869, 871, 872, 874, 876,\n",
      "       877, 878, 879, 880, 881, 882, 886, 887, 888, 889]), array([  4,   6,  13,  19,  24,  26,  28,  30,  31,  34,  43,  45,  53,\n",
      "        55,  60,  63,  64,  66,  68,  75,  79,  90,  94,  99, 103, 105,\n",
      "       108, 113, 114, 118, 126, 128, 131, 134, 141, 143, 146, 147, 148,\n",
      "       150, 153, 155, 164, 170, 173, 174, 176, 177, 203, 207, 235, 238,\n",
      "       249, 251, 273, 282, 283, 285, 286, 287, 290, 293, 304, 306, 313,\n",
      "       314, 322, 324, 331, 335, 336, 341, 343, 345, 347, 348, 350, 357,\n",
      "       362, 363, 365, 369, 371, 372, 381, 383, 394, 399, 406, 407, 412,\n",
      "       416, 425, 426, 429, 433, 435, 440, 448, 449, 461, 465, 469, 473,\n",
      "       477, 483, 493, 498, 507, 518, 523, 535, 539, 549, 550, 558, 577,\n",
      "       587, 602, 607, 611, 614, 617, 625, 626, 627, 628, 637, 638, 641,\n",
      "       647, 652, 665, 668, 678, 683, 685, 686, 696, 707, 708, 718, 723,\n",
      "       724, 729, 732, 734, 737, 765, 773, 779, 780, 785, 787, 788, 790,\n",
      "       793, 795, 796, 799, 801, 803, 811, 814, 818, 822, 830, 839, 845,\n",
      "       848, 856, 862, 870, 873, 875, 883, 884, 885, 890]))\n"
     ]
    }
   ],
   "source": [
    "from sklearn.model_selection import StratifiedKFold\n",
    "\n",
    "FOLD = 5\n",
    "# StratifiedKFoldのインスタンスを定義する。\n",
    "skf = StratifiedKFold(n_splits=FOLD, shuffle=True, random_state=42)\n",
    "# うまく分割できるているか中身を確認する。\n",
    "print(next(skf.split(X, y)))"
   ]
  },
  {
   "cell_type": "code",
   "execution_count": null,
   "metadata": {
    "colab": {
     "base_uri": "https://localhost:8080/"
    },
    "executionInfo": {
     "elapsed": 288,
     "status": "ok",
     "timestamp": 1636445452627,
     "user": {
      "displayName": "松永大希",
      "photoUrl": "https://lh3.googleusercontent.com/a/default-user=s64",
      "userId": "15035745520490838496"
     },
     "user_tz": -540
    },
    "id": "6Xr1GOu96a4D",
    "outputId": "b55b7ca5-51ff-4730-a0da-b74acd45b8f9"
   },
   "outputs": [
    {
     "name": "stdout",
     "output_type": "stream",
     "text": [
      "epoch1\n",
      "0.8603351955307262\n",
      "----------------------------------------\n",
      "epoch2\n",
      "0.8146067415730337\n",
      "----------------------------------------\n",
      "epoch3\n",
      "0.7808988764044944\n",
      "----------------------------------------\n",
      "epoch4\n",
      "0.8258426966292135\n",
      "----------------------------------------\n",
      "epoch5\n",
      "0.8370786516853933\n",
      "----------------------------------------\n",
      "oof score :  0.8237934904601572\n"
     ]
    }
   ],
   "source": [
    "oof_preds = np.zeros(len(X))\n",
    "test_probs = np.zeros(len(X_test))  # testデータの予測を格納するnumpy配列\n",
    "\n",
    "# lightgbmのパラメータを定義する。\n",
    "lgb_params = {\"objective\":\"binary\", \n",
    "            \"metric\":\"binary_logloss\", \n",
    "            \"verbosity\": -1}\n",
    "# 各FOLDで学習を行う。\n",
    "for i, (tr_idx, va_idx) in enumerate(skf.split(X, y)):\n",
    "  print(f'fold{i+1}')\n",
    "  # データを定義\n",
    "  X_train, X_val = X.iloc[tr_idx], X.iloc[va_idx]\n",
    "  y_train, y_val = y[tr_idx], y[va_idx]\n",
    "\n",
    "  # lightgbmのデータセットを定義する。\n",
    "  train_data = lgb.Dataset(X_train, y_train)\n",
    "  val_data = lgb.Dataset(X_val, y_val)\n",
    "\n",
    "  # 学習\n",
    "  model = lgb.train(lgb_params, train_data,\n",
    "                    num_boost_round=100000,\n",
    "                    valid_sets=val_data,\n",
    "                    early_stopping_rounds=100,\n",
    "                    verbose_eval=0)\n",
    "  \n",
    "  # valデータを予測する。\n",
    "  val_probs = model.predict(X_val, num_iteration=model.best_iteration)\n",
    "  \n",
    "  # 予測を二値化する。\n",
    "  threshold = 0.5\n",
    "  val_preds = np.where(val_probs < threshold, 0, 1)\n",
    "\n",
    "  # スコアを出力\n",
    "  print(accuracy_score(y_val, val_preds))\n",
    "\n",
    "  # 予測結果をoof_predsに格納\n",
    "  oof_preds[va_idx] = val_preds\n",
    "\n",
    "  # testデータを予測しtest_probsに加算\n",
    "  test_probs += model.predict(X_test, num_iteration=model.best_iteration)\n",
    "  print('-'*40)\n",
    "\n",
    "\n",
    "# test_probsをFOLD数で割る\n",
    "test_probs /= FOLD\n",
    "# 予測を二値化する\n",
    "test_preds = np.where(test_probs < threshold, 0, 1)\n",
    "\n",
    "# oofのスコアを算出\n",
    "print('oof score : ', accuracy_score(y, oof_preds))"
   ]
  },
  {
   "cell_type": "code",
   "execution_count": null,
   "metadata": {
    "colab": {
     "base_uri": "https://localhost:8080/"
    },
    "executionInfo": {
     "elapsed": 8,
     "status": "ok",
     "timestamp": 1636445452628,
     "user": {
      "displayName": "松永大希",
      "photoUrl": "https://lh3.googleusercontent.com/a/default-user=s64",
      "userId": "15035745520490838496"
     },
     "user_tz": -540
    },
    "id": "Y32ZaDB9Ei2d",
    "outputId": "a32c1f91-c8d0-426c-f1d5-ff380c66615d"
   },
   "outputs": [
    {
     "data": {
      "text/plain": [
       "array([0, 0, 0, 0, 0, 0, 0, 0, 1, 0, 0, 0, 1, 0, 1, 1, 0, 0, 0, 0, 0, 0,\n",
       "       1, 0, 1, 0, 1, 0, 1, 0, 0, 0, 0, 0, 0, 0, 0, 0, 0, 0, 0, 1, 0, 1,\n",
       "       1, 0, 1, 0, 1, 1, 1, 0, 1, 1, 0, 0, 0, 0, 0, 1, 0, 0, 0, 1, 1, 1,\n",
       "       1, 0, 1, 1, 1, 0, 0, 1, 1, 1, 0, 1, 0, 1, 1, 0, 0, 0, 0, 0, 1, 0,\n",
       "       1, 1, 0, 0, 1, 0, 0, 0, 1, 0, 0, 0, 1, 0, 0, 0, 1, 0, 0, 0, 0, 0,\n",
       "       0, 1, 1, 1, 1, 0, 0, 1, 1, 1, 1, 0, 1, 0, 0, 1, 0, 1, 0, 0, 0, 1,\n",
       "       0, 0, 0, 0, 0, 0, 0, 0, 0, 1, 0, 0, 0, 0, 0, 0, 0, 0, 1, 0, 0, 0,\n",
       "       0, 0, 1, 0, 1, 0, 1, 1, 1, 0, 0, 0, 0, 0, 1, 0, 0, 0, 0, 0, 0, 1,\n",
       "       1, 0, 1, 1, 0, 1, 1, 0, 1, 0, 1, 0, 0, 0, 0, 0, 0, 0, 1, 0, 1, 0,\n",
       "       0, 0, 1, 1, 0, 1, 0, 0, 0, 0, 1, 0, 0, 0, 0, 1, 0, 0, 1, 0, 1, 0,\n",
       "       1, 0, 1, 0, 1, 1, 0, 1, 0, 0, 0, 1, 0, 0, 0, 0, 0, 0, 1, 1, 1, 1,\n",
       "       0, 0, 0, 0, 1, 0, 1, 0, 1, 0, 1, 0, 0, 0, 0, 0, 1, 0, 0, 0, 1, 1,\n",
       "       0, 0, 0, 0, 0, 0, 0, 0, 1, 1, 0, 1, 0, 0, 0, 0, 0, 1, 1, 1, 1, 0,\n",
       "       0, 1, 0, 0, 0, 0, 0, 0, 0, 0, 1, 0, 0, 0, 0, 0, 0, 0, 1, 1, 0, 1,\n",
       "       0, 0, 0, 0, 0, 0, 1, 1, 0, 0, 0, 0, 0, 1, 0, 0, 1, 0, 1, 0, 0, 0,\n",
       "       1, 1, 0, 1, 0, 0, 0, 0, 0, 0, 0, 0, 0, 1, 0, 1, 0, 0, 0, 1, 1, 0,\n",
       "       0, 0, 1, 0, 1, 0, 0, 0, 0, 1, 1, 0, 1, 0, 0, 0, 1, 0, 0, 1, 0, 0,\n",
       "       1, 1, 0, 0, 0, 0, 0, 0, 0, 1, 0, 1, 0, 0, 0, 0, 1, 1, 0, 0, 0, 1,\n",
       "       0, 1, 0, 0, 1, 0, 1, 0, 1, 1, 0, 0, 1, 1, 1, 1, 0, 0, 1, 0, 0, 0])"
      ]
     },
     "execution_count": 43,
     "metadata": {},
     "output_type": "execute_result"
    }
   ],
   "source": [
    "test_preds"
   ]
  },
  {
   "cell_type": "code",
   "execution_count": null,
   "metadata": {
    "id": "Vc_T1yfkBWsa"
   },
   "outputs": [],
   "source": [
    "# submissionのサンプルファイルを読み込む\n",
    "submit = pd.read_csv('gender_submission.csv')\n",
    "submit['Survived'] = test_preds\n",
    "# 提出\n",
    "submit.to_csv('submit/my_submit2.csv', index=False)"
   ]
  },
  {
   "cell_type": "markdown",
   "metadata": {
    "id": "WJNd3FOGEITi"
   },
   "source": [
    "## 参考サイト\n",
    "- LightGBM公式ドキュメント : https://lightgbm.readthedocs.io/en/latest/\n",
    "ハイパーパラメータやモデルの学習時のオプションが明確に記載されているので、ぜひ覗いてみよう。"
   ]
  },
  {
   "cell_type": "code",
   "execution_count": null,
   "metadata": {},
   "outputs": [],
   "source": []
  }
 ],
 "metadata": {
  "colab": {
   "authorship_tag": "ABX9TyOfaeLRFasEC49aHP5BVryc",
   "collapsed_sections": [],
   "mount_file_id": "1KjLEWAqWaRAZkAPIwIec5eSiUv9l5NHn",
   "name": "Titanic_lightgbm_answer.ipynb",
   "provenance": []
  },
  "kernelspec": {
   "display_name": "Python 3 (ipykernel)",
   "language": "python",
   "name": "python3"
  },
  "language_info": {
   "codemirror_mode": {
    "name": "ipython",
    "version": 3
   },
   "file_extension": ".py",
   "mimetype": "text/x-python",
   "name": "python",
   "nbconvert_exporter": "python",
   "pygments_lexer": "ipython3",
   "version": "3.8.10"
  }
 },
 "nbformat": 4,
 "nbformat_minor": 4
}
