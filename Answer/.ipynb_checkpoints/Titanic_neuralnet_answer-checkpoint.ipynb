{
 "cells": [
  {
   "cell_type": "markdown",
   "metadata": {
    "id": "KdSjS7FEfzgk"
   },
   "source": [
    "## 準備\n",
    "\n",
    "1. KaggleのTitanic Datasetは必要なのでダウンロードしてGoogle Driveに上げる。 \\\n",
    "https://www.kaggle.com/c/titanic/data よりダウンロードが可能(Kaggleアカウントが必要) \\\n",
    "\n",
    "以下を`drive/MyDrive/Kaggle` 下に配置する。\n",
    "- gender_submission.csv\n",
    "- train.csv\n",
    "- test.csv\n",
    "\n",
    "2. ドライブをマウントする。 \\\n",
    "左のフォルダのアイコンからやる。"
   ]
  },
  {
   "cell_type": "markdown",
   "metadata": {
    "id": "oiRjWd2fgzWW"
   },
   "source": [
    "## 以下コード"
   ]
  },
  {
   "cell_type": "markdown",
   "metadata": {
    "id": "P8agfgPajDqG"
   },
   "source": [
    "### データの読み込み"
   ]
  },
  {
   "cell_type": "code",
   "execution_count": 54,
   "metadata": {
    "colab": {
     "base_uri": "https://localhost:8080/"
    },
    "executionInfo": {
     "elapsed": 6261,
     "status": "ok",
     "timestamp": 1636453146740,
     "user": {
      "displayName": "松永大希",
      "photoUrl": "https://lh3.googleusercontent.com/a/default-user=s64",
      "userId": "15035745520490838496"
     },
     "user_tz": -540
    },
    "id": "OcS-dUkveVNY",
    "outputId": "0aea9acf-cad4-48a7-bba0-b71313ebf97b"
   },
   "outputs": [
    {
     "name": "stdout",
     "output_type": "stream",
     "text": [
      "Requirement already satisfied: matplotlib==3.3.3 in /usr/local/lib/python3.7/dist-packages (3.3.3)\n",
      "Requirement already satisfied: pillow>=6.2.0 in /usr/local/lib/python3.7/dist-packages (from matplotlib==3.3.3) (7.1.2)\n",
      "Requirement already satisfied: kiwisolver>=1.0.1 in /usr/local/lib/python3.7/dist-packages (from matplotlib==3.3.3) (1.3.2)\n",
      "Requirement already satisfied: numpy>=1.15 in /usr/local/lib/python3.7/dist-packages (from matplotlib==3.3.3) (1.19.5)\n",
      "Requirement already satisfied: python-dateutil>=2.1 in /usr/local/lib/python3.7/dist-packages (from matplotlib==3.3.3) (2.8.2)\n",
      "Requirement already satisfied: pyparsing!=2.0.4,!=2.1.2,!=2.1.6,>=2.0.3 in /usr/local/lib/python3.7/dist-packages (from matplotlib==3.3.3) (2.4.7)\n",
      "Requirement already satisfied: cycler>=0.10 in /usr/local/lib/python3.7/dist-packages (from matplotlib==3.3.3) (0.10.0)\n",
      "Requirement already satisfied: six in /usr/local/lib/python3.7/dist-packages (from cycler>=0.10->matplotlib==3.3.3) (1.15.0)\n",
      "Requirement already satisfied: category_encoders in /usr/local/lib/python3.7/dist-packages (2.3.0)\n",
      "Requirement already satisfied: numpy>=1.14.0 in /usr/local/lib/python3.7/dist-packages (from category_encoders) (1.19.5)\n",
      "Requirement already satisfied: patsy>=0.5.1 in /usr/local/lib/python3.7/dist-packages (from category_encoders) (0.5.2)\n",
      "Requirement already satisfied: statsmodels>=0.9.0 in /usr/local/lib/python3.7/dist-packages (from category_encoders) (0.10.2)\n",
      "Requirement already satisfied: pandas>=0.21.1 in /usr/local/lib/python3.7/dist-packages (from category_encoders) (1.1.5)\n",
      "Requirement already satisfied: scikit-learn>=0.20.0 in /usr/local/lib/python3.7/dist-packages (from category_encoders) (0.22.2.post1)\n",
      "Requirement already satisfied: scipy>=1.0.0 in /usr/local/lib/python3.7/dist-packages (from category_encoders) (1.4.1)\n",
      "Requirement already satisfied: python-dateutil>=2.7.3 in /usr/local/lib/python3.7/dist-packages (from pandas>=0.21.1->category_encoders) (2.8.2)\n",
      "Requirement already satisfied: pytz>=2017.2 in /usr/local/lib/python3.7/dist-packages (from pandas>=0.21.1->category_encoders) (2018.9)\n",
      "Requirement already satisfied: six in /usr/local/lib/python3.7/dist-packages (from patsy>=0.5.1->category_encoders) (1.15.0)\n",
      "Requirement already satisfied: joblib>=0.11 in /usr/local/lib/python3.7/dist-packages (from scikit-learn>=0.20.0->category_encoders) (1.0.1)\n"
     ]
    }
   ],
   "source": [
    "# 必要なものをインストール\n",
    "!pip install matplotlib==3.3.3\n",
    "!pip install category_encoders"
   ]
  },
  {
   "cell_type": "code",
   "execution_count": 55,
   "metadata": {
    "colab": {
     "base_uri": "https://localhost:8080/"
    },
    "executionInfo": {
     "elapsed": 24,
     "status": "ok",
     "timestamp": 1636453146741,
     "user": {
      "displayName": "松永大希",
      "photoUrl": "https://lh3.googleusercontent.com/a/default-user=s64",
      "userId": "15035745520490838496"
     },
     "user_tz": -540
    },
    "id": "wLJ7wyxFg6bd",
    "outputId": "aa89cc4b-4902-45f8-c144-c8a6b2acc952"
   },
   "outputs": [
    {
     "name": "stdout",
     "output_type": "stream",
     "text": [
      "/content/drive/MyDrive/Kaggle\n"
     ]
    }
   ],
   "source": [
    "# データセットが入っているフォルダに移動\n",
    "%cd /content/drive/MyDrive/Kaggle"
   ]
  },
  {
   "cell_type": "code",
   "execution_count": 56,
   "metadata": {
    "executionInfo": {
     "elapsed": 18,
     "status": "ok",
     "timestamp": 1636453146741,
     "user": {
      "displayName": "松永大希",
      "photoUrl": "https://lh3.googleusercontent.com/a/default-user=s64",
      "userId": "15035745520490838496"
     },
     "user_tz": -540
    },
    "id": "yIB3gfzNeg2o"
   },
   "outputs": [],
   "source": [
    "# 必要なライブラリをインストール\n",
    "import numpy as np\n",
    "import pandas as pd\n",
    "import matplotlib.pyplot as plt\n",
    "import lightgbm as lgb\n",
    "import category_encoders as ce"
   ]
  },
  {
   "cell_type": "code",
   "execution_count": 4,
   "metadata": {},
   "outputs": [],
   "source": [
    "issubmit = True  # Kaggleにサブミットするかどうか"
   ]
  },
  {
   "cell_type": "code",
   "execution_count": 57,
   "metadata": {
    "colab": {
     "base_uri": "https://localhost:8080/",
     "height": 221
    },
    "executionInfo": {
     "elapsed": 19,
     "status": "ok",
     "timestamp": 1636453146742,
     "user": {
      "displayName": "松永大希",
      "photoUrl": "https://lh3.googleusercontent.com/a/default-user=s64",
      "userId": "15035745520490838496"
     },
     "user_tz": -540
    },
    "id": "qcNdaZKzhyeO",
    "outputId": "66b1b1b3-4b5a-475b-b68e-a05bc1166fea"
   },
   "outputs": [
    {
     "name": "stdout",
     "output_type": "stream",
     "text": [
      "(891, 12)\n"
     ]
    },
    {
     "data": {
      "text/html": [
       "<div>\n",
       "<style scoped>\n",
       "    .dataframe tbody tr th:only-of-type {\n",
       "        vertical-align: middle;\n",
       "    }\n",
       "\n",
       "    .dataframe tbody tr th {\n",
       "        vertical-align: top;\n",
       "    }\n",
       "\n",
       "    .dataframe thead th {\n",
       "        text-align: right;\n",
       "    }\n",
       "</style>\n",
       "<table border=\"1\" class=\"dataframe\">\n",
       "  <thead>\n",
       "    <tr style=\"text-align: right;\">\n",
       "      <th></th>\n",
       "      <th>PassengerId</th>\n",
       "      <th>Survived</th>\n",
       "      <th>Pclass</th>\n",
       "      <th>Name</th>\n",
       "      <th>Sex</th>\n",
       "      <th>Age</th>\n",
       "      <th>SibSp</th>\n",
       "      <th>Parch</th>\n",
       "      <th>Ticket</th>\n",
       "      <th>Fare</th>\n",
       "      <th>Cabin</th>\n",
       "      <th>Embarked</th>\n",
       "    </tr>\n",
       "  </thead>\n",
       "  <tbody>\n",
       "    <tr>\n",
       "      <th>0</th>\n",
       "      <td>1</td>\n",
       "      <td>0</td>\n",
       "      <td>3</td>\n",
       "      <td>Braund, Mr. Owen Harris</td>\n",
       "      <td>male</td>\n",
       "      <td>22.0</td>\n",
       "      <td>1</td>\n",
       "      <td>0</td>\n",
       "      <td>A/5 21171</td>\n",
       "      <td>7.2500</td>\n",
       "      <td>NaN</td>\n",
       "      <td>S</td>\n",
       "    </tr>\n",
       "    <tr>\n",
       "      <th>1</th>\n",
       "      <td>2</td>\n",
       "      <td>1</td>\n",
       "      <td>1</td>\n",
       "      <td>Cumings, Mrs. John Bradley (Florence Briggs Th...</td>\n",
       "      <td>female</td>\n",
       "      <td>38.0</td>\n",
       "      <td>1</td>\n",
       "      <td>0</td>\n",
       "      <td>PC 17599</td>\n",
       "      <td>71.2833</td>\n",
       "      <td>C85</td>\n",
       "      <td>C</td>\n",
       "    </tr>\n",
       "    <tr>\n",
       "      <th>2</th>\n",
       "      <td>3</td>\n",
       "      <td>1</td>\n",
       "      <td>3</td>\n",
       "      <td>Heikkinen, Miss. Laina</td>\n",
       "      <td>female</td>\n",
       "      <td>26.0</td>\n",
       "      <td>0</td>\n",
       "      <td>0</td>\n",
       "      <td>STON/O2. 3101282</td>\n",
       "      <td>7.9250</td>\n",
       "      <td>NaN</td>\n",
       "      <td>S</td>\n",
       "    </tr>\n",
       "    <tr>\n",
       "      <th>3</th>\n",
       "      <td>4</td>\n",
       "      <td>1</td>\n",
       "      <td>1</td>\n",
       "      <td>Futrelle, Mrs. Jacques Heath (Lily May Peel)</td>\n",
       "      <td>female</td>\n",
       "      <td>35.0</td>\n",
       "      <td>1</td>\n",
       "      <td>0</td>\n",
       "      <td>113803</td>\n",
       "      <td>53.1000</td>\n",
       "      <td>C123</td>\n",
       "      <td>S</td>\n",
       "    </tr>\n",
       "    <tr>\n",
       "      <th>4</th>\n",
       "      <td>5</td>\n",
       "      <td>0</td>\n",
       "      <td>3</td>\n",
       "      <td>Allen, Mr. William Henry</td>\n",
       "      <td>male</td>\n",
       "      <td>35.0</td>\n",
       "      <td>0</td>\n",
       "      <td>0</td>\n",
       "      <td>373450</td>\n",
       "      <td>8.0500</td>\n",
       "      <td>NaN</td>\n",
       "      <td>S</td>\n",
       "    </tr>\n",
       "  </tbody>\n",
       "</table>\n",
       "</div>"
      ],
      "text/plain": [
       "   PassengerId  Survived  Pclass  ...     Fare Cabin  Embarked\n",
       "0            1         0       3  ...   7.2500   NaN         S\n",
       "1            2         1       1  ...  71.2833   C85         C\n",
       "2            3         1       3  ...   7.9250   NaN         S\n",
       "3            4         1       1  ...  53.1000  C123         S\n",
       "4            5         0       3  ...   8.0500   NaN         S\n",
       "\n",
       "[5 rows x 12 columns]"
      ]
     },
     "execution_count": 57,
     "metadata": {},
     "output_type": "execute_result"
    }
   ],
   "source": [
    "# 学習データを読み込む\n",
    "train = pd.read_csv('train.csv')\n",
    "print(train.shape) # 形状を確認\n",
    "train.head()  # 最初の5行を見る。 "
   ]
  },
  {
   "cell_type": "code",
   "execution_count": 58,
   "metadata": {
    "colab": {
     "base_uri": "https://localhost:8080/",
     "height": 221
    },
    "executionInfo": {
     "elapsed": 14,
     "status": "ok",
     "timestamp": 1636453146742,
     "user": {
      "displayName": "松永大希",
      "photoUrl": "https://lh3.googleusercontent.com/a/default-user=s64",
      "userId": "15035745520490838496"
     },
     "user_tz": -540
    },
    "id": "ptzg9cqkh4Bc",
    "outputId": "c8d82b86-dc16-457d-9b41-54751ed98ba3"
   },
   "outputs": [
    {
     "name": "stdout",
     "output_type": "stream",
     "text": [
      "(418, 11)\n"
     ]
    },
    {
     "data": {
      "text/html": [
       "<div>\n",
       "<style scoped>\n",
       "    .dataframe tbody tr th:only-of-type {\n",
       "        vertical-align: middle;\n",
       "    }\n",
       "\n",
       "    .dataframe tbody tr th {\n",
       "        vertical-align: top;\n",
       "    }\n",
       "\n",
       "    .dataframe thead th {\n",
       "        text-align: right;\n",
       "    }\n",
       "</style>\n",
       "<table border=\"1\" class=\"dataframe\">\n",
       "  <thead>\n",
       "    <tr style=\"text-align: right;\">\n",
       "      <th></th>\n",
       "      <th>PassengerId</th>\n",
       "      <th>Pclass</th>\n",
       "      <th>Name</th>\n",
       "      <th>Sex</th>\n",
       "      <th>Age</th>\n",
       "      <th>SibSp</th>\n",
       "      <th>Parch</th>\n",
       "      <th>Ticket</th>\n",
       "      <th>Fare</th>\n",
       "      <th>Cabin</th>\n",
       "      <th>Embarked</th>\n",
       "    </tr>\n",
       "  </thead>\n",
       "  <tbody>\n",
       "    <tr>\n",
       "      <th>0</th>\n",
       "      <td>892</td>\n",
       "      <td>3</td>\n",
       "      <td>Kelly, Mr. James</td>\n",
       "      <td>male</td>\n",
       "      <td>34.5</td>\n",
       "      <td>0</td>\n",
       "      <td>0</td>\n",
       "      <td>330911</td>\n",
       "      <td>7.8292</td>\n",
       "      <td>NaN</td>\n",
       "      <td>Q</td>\n",
       "    </tr>\n",
       "    <tr>\n",
       "      <th>1</th>\n",
       "      <td>893</td>\n",
       "      <td>3</td>\n",
       "      <td>Wilkes, Mrs. James (Ellen Needs)</td>\n",
       "      <td>female</td>\n",
       "      <td>47.0</td>\n",
       "      <td>1</td>\n",
       "      <td>0</td>\n",
       "      <td>363272</td>\n",
       "      <td>7.0000</td>\n",
       "      <td>NaN</td>\n",
       "      <td>S</td>\n",
       "    </tr>\n",
       "    <tr>\n",
       "      <th>2</th>\n",
       "      <td>894</td>\n",
       "      <td>2</td>\n",
       "      <td>Myles, Mr. Thomas Francis</td>\n",
       "      <td>male</td>\n",
       "      <td>62.0</td>\n",
       "      <td>0</td>\n",
       "      <td>0</td>\n",
       "      <td>240276</td>\n",
       "      <td>9.6875</td>\n",
       "      <td>NaN</td>\n",
       "      <td>Q</td>\n",
       "    </tr>\n",
       "    <tr>\n",
       "      <th>3</th>\n",
       "      <td>895</td>\n",
       "      <td>3</td>\n",
       "      <td>Wirz, Mr. Albert</td>\n",
       "      <td>male</td>\n",
       "      <td>27.0</td>\n",
       "      <td>0</td>\n",
       "      <td>0</td>\n",
       "      <td>315154</td>\n",
       "      <td>8.6625</td>\n",
       "      <td>NaN</td>\n",
       "      <td>S</td>\n",
       "    </tr>\n",
       "    <tr>\n",
       "      <th>4</th>\n",
       "      <td>896</td>\n",
       "      <td>3</td>\n",
       "      <td>Hirvonen, Mrs. Alexander (Helga E Lindqvist)</td>\n",
       "      <td>female</td>\n",
       "      <td>22.0</td>\n",
       "      <td>1</td>\n",
       "      <td>1</td>\n",
       "      <td>3101298</td>\n",
       "      <td>12.2875</td>\n",
       "      <td>NaN</td>\n",
       "      <td>S</td>\n",
       "    </tr>\n",
       "  </tbody>\n",
       "</table>\n",
       "</div>"
      ],
      "text/plain": [
       "   PassengerId  Pclass  ... Cabin Embarked\n",
       "0          892       3  ...   NaN        Q\n",
       "1          893       3  ...   NaN        S\n",
       "2          894       2  ...   NaN        Q\n",
       "3          895       3  ...   NaN        S\n",
       "4          896       3  ...   NaN        S\n",
       "\n",
       "[5 rows x 11 columns]"
      ]
     },
     "execution_count": 58,
     "metadata": {},
     "output_type": "execute_result"
    }
   ],
   "source": [
    "# テストデータを読み込む\n",
    "test = pd.read_csv('test.csv')\n",
    "print(test.shape) # 形状を確認\n",
    "test.head()  # 最初の5行を見る。 "
   ]
  },
  {
   "cell_type": "code",
   "execution_count": 59,
   "metadata": {
    "colab": {
     "base_uri": "https://localhost:8080/"
    },
    "executionInfo": {
     "elapsed": 11,
     "status": "ok",
     "timestamp": 1636453146742,
     "user": {
      "displayName": "松永大希",
      "photoUrl": "https://lh3.googleusercontent.com/a/default-user=s64",
      "userId": "15035745520490838496"
     },
     "user_tz": -540
    },
    "id": "Iexy11VFiQra",
    "outputId": "1449a891-65be-4d03-d7a0-b377f9f35a2f"
   },
   "outputs": [
    {
     "data": {
      "text/plain": [
       "PassengerId      int64\n",
       "Survived         int64\n",
       "Pclass           int64\n",
       "Name            object\n",
       "Sex             object\n",
       "Age            float64\n",
       "SibSp            int64\n",
       "Parch            int64\n",
       "Ticket          object\n",
       "Fare           float64\n",
       "Cabin           object\n",
       "Embarked        object\n",
       "dtype: object"
      ]
     },
     "execution_count": 59,
     "metadata": {},
     "output_type": "execute_result"
    }
   ],
   "source": [
    "## 型を確認する。\n",
    "train.dtypes"
   ]
  },
  {
   "cell_type": "code",
   "execution_count": 60,
   "metadata": {
    "colab": {
     "base_uri": "https://localhost:8080/",
     "height": 297
    },
    "executionInfo": {
     "elapsed": 434,
     "status": "ok",
     "timestamp": 1636453147166,
     "user": {
      "displayName": "松永大希",
      "photoUrl": "https://lh3.googleusercontent.com/a/default-user=s64",
      "userId": "15035745520490838496"
     },
     "user_tz": -540
    },
    "id": "lRV697UykxKr",
    "outputId": "d052a54f-c89f-4644-f158-6a60d4aa6d4a"
   },
   "outputs": [
    {
     "data": {
      "text/html": [
       "<div>\n",
       "<style scoped>\n",
       "    .dataframe tbody tr th:only-of-type {\n",
       "        vertical-align: middle;\n",
       "    }\n",
       "\n",
       "    .dataframe tbody tr th {\n",
       "        vertical-align: top;\n",
       "    }\n",
       "\n",
       "    .dataframe thead th {\n",
       "        text-align: right;\n",
       "    }\n",
       "</style>\n",
       "<table border=\"1\" class=\"dataframe\">\n",
       "  <thead>\n",
       "    <tr style=\"text-align: right;\">\n",
       "      <th></th>\n",
       "      <th>PassengerId</th>\n",
       "      <th>Survived</th>\n",
       "      <th>Pclass</th>\n",
       "      <th>Age</th>\n",
       "      <th>SibSp</th>\n",
       "      <th>Parch</th>\n",
       "      <th>Fare</th>\n",
       "    </tr>\n",
       "  </thead>\n",
       "  <tbody>\n",
       "    <tr>\n",
       "      <th>count</th>\n",
       "      <td>891.000000</td>\n",
       "      <td>891.000000</td>\n",
       "      <td>891.000000</td>\n",
       "      <td>714.000000</td>\n",
       "      <td>891.000000</td>\n",
       "      <td>891.000000</td>\n",
       "      <td>891.000000</td>\n",
       "    </tr>\n",
       "    <tr>\n",
       "      <th>mean</th>\n",
       "      <td>446.000000</td>\n",
       "      <td>0.383838</td>\n",
       "      <td>2.308642</td>\n",
       "      <td>29.699118</td>\n",
       "      <td>0.523008</td>\n",
       "      <td>0.381594</td>\n",
       "      <td>32.204208</td>\n",
       "    </tr>\n",
       "    <tr>\n",
       "      <th>std</th>\n",
       "      <td>257.353842</td>\n",
       "      <td>0.486592</td>\n",
       "      <td>0.836071</td>\n",
       "      <td>14.526497</td>\n",
       "      <td>1.102743</td>\n",
       "      <td>0.806057</td>\n",
       "      <td>49.693429</td>\n",
       "    </tr>\n",
       "    <tr>\n",
       "      <th>min</th>\n",
       "      <td>1.000000</td>\n",
       "      <td>0.000000</td>\n",
       "      <td>1.000000</td>\n",
       "      <td>0.420000</td>\n",
       "      <td>0.000000</td>\n",
       "      <td>0.000000</td>\n",
       "      <td>0.000000</td>\n",
       "    </tr>\n",
       "    <tr>\n",
       "      <th>25%</th>\n",
       "      <td>223.500000</td>\n",
       "      <td>0.000000</td>\n",
       "      <td>2.000000</td>\n",
       "      <td>20.125000</td>\n",
       "      <td>0.000000</td>\n",
       "      <td>0.000000</td>\n",
       "      <td>7.910400</td>\n",
       "    </tr>\n",
       "    <tr>\n",
       "      <th>50%</th>\n",
       "      <td>446.000000</td>\n",
       "      <td>0.000000</td>\n",
       "      <td>3.000000</td>\n",
       "      <td>28.000000</td>\n",
       "      <td>0.000000</td>\n",
       "      <td>0.000000</td>\n",
       "      <td>14.454200</td>\n",
       "    </tr>\n",
       "    <tr>\n",
       "      <th>75%</th>\n",
       "      <td>668.500000</td>\n",
       "      <td>1.000000</td>\n",
       "      <td>3.000000</td>\n",
       "      <td>38.000000</td>\n",
       "      <td>1.000000</td>\n",
       "      <td>0.000000</td>\n",
       "      <td>31.000000</td>\n",
       "    </tr>\n",
       "    <tr>\n",
       "      <th>max</th>\n",
       "      <td>891.000000</td>\n",
       "      <td>1.000000</td>\n",
       "      <td>3.000000</td>\n",
       "      <td>80.000000</td>\n",
       "      <td>8.000000</td>\n",
       "      <td>6.000000</td>\n",
       "      <td>512.329200</td>\n",
       "    </tr>\n",
       "  </tbody>\n",
       "</table>\n",
       "</div>"
      ],
      "text/plain": [
       "       PassengerId    Survived      Pclass  ...       SibSp       Parch        Fare\n",
       "count   891.000000  891.000000  891.000000  ...  891.000000  891.000000  891.000000\n",
       "mean    446.000000    0.383838    2.308642  ...    0.523008    0.381594   32.204208\n",
       "std     257.353842    0.486592    0.836071  ...    1.102743    0.806057   49.693429\n",
       "min       1.000000    0.000000    1.000000  ...    0.000000    0.000000    0.000000\n",
       "25%     223.500000    0.000000    2.000000  ...    0.000000    0.000000    7.910400\n",
       "50%     446.000000    0.000000    3.000000  ...    0.000000    0.000000   14.454200\n",
       "75%     668.500000    1.000000    3.000000  ...    1.000000    0.000000   31.000000\n",
       "max     891.000000    1.000000    3.000000  ...    8.000000    6.000000  512.329200\n",
       "\n",
       "[8 rows x 7 columns]"
      ]
     },
     "execution_count": 60,
     "metadata": {},
     "output_type": "execute_result"
    }
   ],
   "source": [
    "# 各特徴量の詳細を表示\n",
    "train.describe()"
   ]
  },
  {
   "cell_type": "code",
   "execution_count": 61,
   "metadata": {
    "colab": {
     "base_uri": "https://localhost:8080/"
    },
    "executionInfo": {
     "elapsed": 19,
     "status": "ok",
     "timestamp": 1636453147167,
     "user": {
      "displayName": "松永大希",
      "photoUrl": "https://lh3.googleusercontent.com/a/default-user=s64",
      "userId": "15035745520490838496"
     },
     "user_tz": -540
    },
    "id": "8Sh0NzPZim-a",
    "outputId": "e2a20a0f-e629-4a67-d416-dfe4a8e8df15"
   },
   "outputs": [
    {
     "name": "stdout",
     "output_type": "stream",
     "text": [
      "PassengerId      0\n",
      "Survived         0\n",
      "Pclass           0\n",
      "Name             0\n",
      "Sex              0\n",
      "Age            177\n",
      "SibSp            0\n",
      "Parch            0\n",
      "Ticket           0\n",
      "Fare             0\n",
      "Cabin          687\n",
      "Embarked         2\n",
      "dtype: int64\n",
      "----------------------------------------\n",
      "PassengerId      0\n",
      "Pclass           0\n",
      "Name             0\n",
      "Sex              0\n",
      "Age             86\n",
      "SibSp            0\n",
      "Parch            0\n",
      "Ticket           0\n",
      "Fare             1\n",
      "Cabin          327\n",
      "Embarked         0\n",
      "dtype: int64\n"
     ]
    }
   ],
   "source": [
    "# 欠損値の数を確認する。\n",
    "print(train.isnull().sum())\n",
    "print('-'*40)\n",
    "print(test.isnull().sum())"
   ]
  },
  {
   "cell_type": "code",
   "execution_count": 62,
   "metadata": {
    "colab": {
     "base_uri": "https://localhost:8080/"
    },
    "executionInfo": {
     "elapsed": 15,
     "status": "ok",
     "timestamp": 1636453147167,
     "user": {
      "displayName": "松永大希",
      "photoUrl": "https://lh3.googleusercontent.com/a/default-user=s64",
      "userId": "15035745520490838496"
     },
     "user_tz": -540
    },
    "id": "aiRG2RrslFX6",
    "outputId": "858206b8-a255-4eed-fced-1aeaabeac40a"
   },
   "outputs": [
    {
     "data": {
      "text/plain": [
       "PassengerId    891\n",
       "Survived         2\n",
       "Pclass           3\n",
       "Name           891\n",
       "Sex              2\n",
       "Age             88\n",
       "SibSp            7\n",
       "Parch            7\n",
       "Ticket         681\n",
       "Fare           248\n",
       "Cabin          147\n",
       "Embarked         3\n",
       "dtype: int64"
      ]
     },
     "execution_count": 62,
     "metadata": {},
     "output_type": "execute_result"
    }
   ],
   "source": [
    "# 各特徴量の種類数を表示\n",
    "train.nunique()"
   ]
  },
  {
   "cell_type": "markdown",
   "metadata": {
    "id": "bec-v1edjj09"
   },
   "source": [
    "## 前処理\n",
    "\n",
    "データがobject型のままではモデルが処理できないのでエンコーディングを行う。OneHot Encodingを用いる。 \\\n",
    "\n",
    "また、ニューラルネットワークでは欠損値をそのまま扱うことができないので補填する。今回は、欠損値は全体の平均値で補填してみる。\n",
    "\n",
    "なお、trainとtestでラベルの相違があったら困るので一度全データを結合してからエンコーディングする。"
   ]
  },
  {
   "cell_type": "code",
   "execution_count": 63,
   "metadata": {
    "executionInfo": {
     "elapsed": 14,
     "status": "ok",
     "timestamp": 1636453147168,
     "user": {
      "displayName": "松永大希",
      "photoUrl": "https://lh3.googleusercontent.com/a/default-user=s64",
      "userId": "15035745520490838496"
     },
     "user_tz": -540
    },
    "id": "NSq-eZm4l_VY"
   },
   "outputs": [],
   "source": [
    "## trainとtestを結合する。\n",
    "df_cat = pd.concat([train, test])"
   ]
  },
  {
   "cell_type": "code",
   "execution_count": 64,
   "metadata": {
    "executionInfo": {
     "elapsed": 15,
     "status": "ok",
     "timestamp": 1636453147169,
     "user": {
      "displayName": "松永大希",
      "photoUrl": "https://lh3.googleusercontent.com/a/default-user=s64",
      "userId": "15035745520490838496"
     },
     "user_tz": -540
    },
    "id": "YJHk2C3BNRTV"
   },
   "outputs": [],
   "source": [
    "# 欠損値を補填する。\n",
    "null_columns = ['Age', 'Cabin']\n",
    "df_cat.fillna(df_cat.mean(), inplace=True)"
   ]
  },
  {
   "cell_type": "code",
   "execution_count": 65,
   "metadata": {
    "colab": {
     "base_uri": "https://localhost:8080/",
     "height": 525
    },
    "executionInfo": {
     "elapsed": 14,
     "status": "ok",
     "timestamp": 1636453147169,
     "user": {
      "displayName": "松永大希",
      "photoUrl": "https://lh3.googleusercontent.com/a/default-user=s64",
      "userId": "15035745520490838496"
     },
     "user_tz": -540
    },
    "id": "OB0Dim2Kit13",
    "outputId": "5da9d3ba-cc30-45c5-a0ff-929933abd9d1"
   },
   "outputs": [
    {
     "data": {
      "text/html": [
       "<div>\n",
       "<style scoped>\n",
       "    .dataframe tbody tr th:only-of-type {\n",
       "        vertical-align: middle;\n",
       "    }\n",
       "\n",
       "    .dataframe tbody tr th {\n",
       "        vertical-align: top;\n",
       "    }\n",
       "\n",
       "    .dataframe thead th {\n",
       "        text-align: right;\n",
       "    }\n",
       "</style>\n",
       "<table border=\"1\" class=\"dataframe\">\n",
       "  <thead>\n",
       "    <tr style=\"text-align: right;\">\n",
       "      <th></th>\n",
       "      <th>PassengerId</th>\n",
       "      <th>Survived</th>\n",
       "      <th>Pclass</th>\n",
       "      <th>Name</th>\n",
       "      <th>Sex_1</th>\n",
       "      <th>Sex_2</th>\n",
       "      <th>Age</th>\n",
       "      <th>SibSp</th>\n",
       "      <th>Parch</th>\n",
       "      <th>Ticket</th>\n",
       "      <th>Fare</th>\n",
       "      <th>Cabin_1</th>\n",
       "      <th>Cabin_2</th>\n",
       "      <th>Cabin_3</th>\n",
       "      <th>Cabin_4</th>\n",
       "      <th>Cabin_5</th>\n",
       "      <th>Cabin_6</th>\n",
       "      <th>Cabin_7</th>\n",
       "      <th>Cabin_8</th>\n",
       "      <th>Cabin_9</th>\n",
       "      <th>Cabin_10</th>\n",
       "      <th>Cabin_11</th>\n",
       "      <th>Cabin_12</th>\n",
       "      <th>Cabin_13</th>\n",
       "      <th>Cabin_14</th>\n",
       "      <th>Cabin_15</th>\n",
       "      <th>Cabin_16</th>\n",
       "      <th>Cabin_17</th>\n",
       "      <th>Cabin_18</th>\n",
       "      <th>Cabin_19</th>\n",
       "      <th>Cabin_20</th>\n",
       "      <th>Cabin_21</th>\n",
       "      <th>Cabin_22</th>\n",
       "      <th>Cabin_23</th>\n",
       "      <th>Cabin_24</th>\n",
       "      <th>Cabin_25</th>\n",
       "      <th>Cabin_26</th>\n",
       "      <th>Cabin_27</th>\n",
       "      <th>Cabin_28</th>\n",
       "      <th>Cabin_29</th>\n",
       "      <th>...</th>\n",
       "      <th>Cabin_152</th>\n",
       "      <th>Cabin_153</th>\n",
       "      <th>Cabin_154</th>\n",
       "      <th>Cabin_155</th>\n",
       "      <th>Cabin_156</th>\n",
       "      <th>Cabin_157</th>\n",
       "      <th>Cabin_158</th>\n",
       "      <th>Cabin_159</th>\n",
       "      <th>Cabin_160</th>\n",
       "      <th>Cabin_161</th>\n",
       "      <th>Cabin_162</th>\n",
       "      <th>Cabin_163</th>\n",
       "      <th>Cabin_164</th>\n",
       "      <th>Cabin_165</th>\n",
       "      <th>Cabin_166</th>\n",
       "      <th>Cabin_167</th>\n",
       "      <th>Cabin_168</th>\n",
       "      <th>Cabin_169</th>\n",
       "      <th>Cabin_170</th>\n",
       "      <th>Cabin_171</th>\n",
       "      <th>Cabin_172</th>\n",
       "      <th>Cabin_173</th>\n",
       "      <th>Cabin_174</th>\n",
       "      <th>Cabin_175</th>\n",
       "      <th>Cabin_176</th>\n",
       "      <th>Cabin_177</th>\n",
       "      <th>Cabin_178</th>\n",
       "      <th>Cabin_179</th>\n",
       "      <th>Cabin_180</th>\n",
       "      <th>Cabin_181</th>\n",
       "      <th>Cabin_182</th>\n",
       "      <th>Cabin_183</th>\n",
       "      <th>Cabin_184</th>\n",
       "      <th>Cabin_185</th>\n",
       "      <th>Cabin_186</th>\n",
       "      <th>Cabin_187</th>\n",
       "      <th>Embarked_1</th>\n",
       "      <th>Embarked_2</th>\n",
       "      <th>Embarked_3</th>\n",
       "      <th>Embarked_4</th>\n",
       "    </tr>\n",
       "  </thead>\n",
       "  <tbody>\n",
       "    <tr>\n",
       "      <th>0</th>\n",
       "      <td>1</td>\n",
       "      <td>0.0</td>\n",
       "      <td>3</td>\n",
       "      <td>Braund, Mr. Owen Harris</td>\n",
       "      <td>1</td>\n",
       "      <td>0</td>\n",
       "      <td>22.0</td>\n",
       "      <td>1</td>\n",
       "      <td>0</td>\n",
       "      <td>A/5 21171</td>\n",
       "      <td>7.2500</td>\n",
       "      <td>1</td>\n",
       "      <td>0</td>\n",
       "      <td>0</td>\n",
       "      <td>0</td>\n",
       "      <td>0</td>\n",
       "      <td>0</td>\n",
       "      <td>0</td>\n",
       "      <td>0</td>\n",
       "      <td>0</td>\n",
       "      <td>0</td>\n",
       "      <td>0</td>\n",
       "      <td>0</td>\n",
       "      <td>0</td>\n",
       "      <td>0</td>\n",
       "      <td>0</td>\n",
       "      <td>0</td>\n",
       "      <td>0</td>\n",
       "      <td>0</td>\n",
       "      <td>0</td>\n",
       "      <td>0</td>\n",
       "      <td>0</td>\n",
       "      <td>0</td>\n",
       "      <td>0</td>\n",
       "      <td>0</td>\n",
       "      <td>0</td>\n",
       "      <td>0</td>\n",
       "      <td>0</td>\n",
       "      <td>0</td>\n",
       "      <td>0</td>\n",
       "      <td>...</td>\n",
       "      <td>0</td>\n",
       "      <td>0</td>\n",
       "      <td>0</td>\n",
       "      <td>0</td>\n",
       "      <td>0</td>\n",
       "      <td>0</td>\n",
       "      <td>0</td>\n",
       "      <td>0</td>\n",
       "      <td>0</td>\n",
       "      <td>0</td>\n",
       "      <td>0</td>\n",
       "      <td>0</td>\n",
       "      <td>0</td>\n",
       "      <td>0</td>\n",
       "      <td>0</td>\n",
       "      <td>0</td>\n",
       "      <td>0</td>\n",
       "      <td>0</td>\n",
       "      <td>0</td>\n",
       "      <td>0</td>\n",
       "      <td>0</td>\n",
       "      <td>0</td>\n",
       "      <td>0</td>\n",
       "      <td>0</td>\n",
       "      <td>0</td>\n",
       "      <td>0</td>\n",
       "      <td>0</td>\n",
       "      <td>0</td>\n",
       "      <td>0</td>\n",
       "      <td>0</td>\n",
       "      <td>0</td>\n",
       "      <td>0</td>\n",
       "      <td>0</td>\n",
       "      <td>0</td>\n",
       "      <td>0</td>\n",
       "      <td>0</td>\n",
       "      <td>1</td>\n",
       "      <td>0</td>\n",
       "      <td>0</td>\n",
       "      <td>0</td>\n",
       "    </tr>\n",
       "    <tr>\n",
       "      <th>1</th>\n",
       "      <td>2</td>\n",
       "      <td>1.0</td>\n",
       "      <td>1</td>\n",
       "      <td>Cumings, Mrs. John Bradley (Florence Briggs Th...</td>\n",
       "      <td>0</td>\n",
       "      <td>1</td>\n",
       "      <td>38.0</td>\n",
       "      <td>1</td>\n",
       "      <td>0</td>\n",
       "      <td>PC 17599</td>\n",
       "      <td>71.2833</td>\n",
       "      <td>0</td>\n",
       "      <td>1</td>\n",
       "      <td>0</td>\n",
       "      <td>0</td>\n",
       "      <td>0</td>\n",
       "      <td>0</td>\n",
       "      <td>0</td>\n",
       "      <td>0</td>\n",
       "      <td>0</td>\n",
       "      <td>0</td>\n",
       "      <td>0</td>\n",
       "      <td>0</td>\n",
       "      <td>0</td>\n",
       "      <td>0</td>\n",
       "      <td>0</td>\n",
       "      <td>0</td>\n",
       "      <td>0</td>\n",
       "      <td>0</td>\n",
       "      <td>0</td>\n",
       "      <td>0</td>\n",
       "      <td>0</td>\n",
       "      <td>0</td>\n",
       "      <td>0</td>\n",
       "      <td>0</td>\n",
       "      <td>0</td>\n",
       "      <td>0</td>\n",
       "      <td>0</td>\n",
       "      <td>0</td>\n",
       "      <td>0</td>\n",
       "      <td>...</td>\n",
       "      <td>0</td>\n",
       "      <td>0</td>\n",
       "      <td>0</td>\n",
       "      <td>0</td>\n",
       "      <td>0</td>\n",
       "      <td>0</td>\n",
       "      <td>0</td>\n",
       "      <td>0</td>\n",
       "      <td>0</td>\n",
       "      <td>0</td>\n",
       "      <td>0</td>\n",
       "      <td>0</td>\n",
       "      <td>0</td>\n",
       "      <td>0</td>\n",
       "      <td>0</td>\n",
       "      <td>0</td>\n",
       "      <td>0</td>\n",
       "      <td>0</td>\n",
       "      <td>0</td>\n",
       "      <td>0</td>\n",
       "      <td>0</td>\n",
       "      <td>0</td>\n",
       "      <td>0</td>\n",
       "      <td>0</td>\n",
       "      <td>0</td>\n",
       "      <td>0</td>\n",
       "      <td>0</td>\n",
       "      <td>0</td>\n",
       "      <td>0</td>\n",
       "      <td>0</td>\n",
       "      <td>0</td>\n",
       "      <td>0</td>\n",
       "      <td>0</td>\n",
       "      <td>0</td>\n",
       "      <td>0</td>\n",
       "      <td>0</td>\n",
       "      <td>0</td>\n",
       "      <td>1</td>\n",
       "      <td>0</td>\n",
       "      <td>0</td>\n",
       "    </tr>\n",
       "    <tr>\n",
       "      <th>2</th>\n",
       "      <td>3</td>\n",
       "      <td>1.0</td>\n",
       "      <td>3</td>\n",
       "      <td>Heikkinen, Miss. Laina</td>\n",
       "      <td>0</td>\n",
       "      <td>1</td>\n",
       "      <td>26.0</td>\n",
       "      <td>0</td>\n",
       "      <td>0</td>\n",
       "      <td>STON/O2. 3101282</td>\n",
       "      <td>7.9250</td>\n",
       "      <td>1</td>\n",
       "      <td>0</td>\n",
       "      <td>0</td>\n",
       "      <td>0</td>\n",
       "      <td>0</td>\n",
       "      <td>0</td>\n",
       "      <td>0</td>\n",
       "      <td>0</td>\n",
       "      <td>0</td>\n",
       "      <td>0</td>\n",
       "      <td>0</td>\n",
       "      <td>0</td>\n",
       "      <td>0</td>\n",
       "      <td>0</td>\n",
       "      <td>0</td>\n",
       "      <td>0</td>\n",
       "      <td>0</td>\n",
       "      <td>0</td>\n",
       "      <td>0</td>\n",
       "      <td>0</td>\n",
       "      <td>0</td>\n",
       "      <td>0</td>\n",
       "      <td>0</td>\n",
       "      <td>0</td>\n",
       "      <td>0</td>\n",
       "      <td>0</td>\n",
       "      <td>0</td>\n",
       "      <td>0</td>\n",
       "      <td>0</td>\n",
       "      <td>...</td>\n",
       "      <td>0</td>\n",
       "      <td>0</td>\n",
       "      <td>0</td>\n",
       "      <td>0</td>\n",
       "      <td>0</td>\n",
       "      <td>0</td>\n",
       "      <td>0</td>\n",
       "      <td>0</td>\n",
       "      <td>0</td>\n",
       "      <td>0</td>\n",
       "      <td>0</td>\n",
       "      <td>0</td>\n",
       "      <td>0</td>\n",
       "      <td>0</td>\n",
       "      <td>0</td>\n",
       "      <td>0</td>\n",
       "      <td>0</td>\n",
       "      <td>0</td>\n",
       "      <td>0</td>\n",
       "      <td>0</td>\n",
       "      <td>0</td>\n",
       "      <td>0</td>\n",
       "      <td>0</td>\n",
       "      <td>0</td>\n",
       "      <td>0</td>\n",
       "      <td>0</td>\n",
       "      <td>0</td>\n",
       "      <td>0</td>\n",
       "      <td>0</td>\n",
       "      <td>0</td>\n",
       "      <td>0</td>\n",
       "      <td>0</td>\n",
       "      <td>0</td>\n",
       "      <td>0</td>\n",
       "      <td>0</td>\n",
       "      <td>0</td>\n",
       "      <td>1</td>\n",
       "      <td>0</td>\n",
       "      <td>0</td>\n",
       "      <td>0</td>\n",
       "    </tr>\n",
       "    <tr>\n",
       "      <th>3</th>\n",
       "      <td>4</td>\n",
       "      <td>1.0</td>\n",
       "      <td>1</td>\n",
       "      <td>Futrelle, Mrs. Jacques Heath (Lily May Peel)</td>\n",
       "      <td>0</td>\n",
       "      <td>1</td>\n",
       "      <td>35.0</td>\n",
       "      <td>1</td>\n",
       "      <td>0</td>\n",
       "      <td>113803</td>\n",
       "      <td>53.1000</td>\n",
       "      <td>0</td>\n",
       "      <td>0</td>\n",
       "      <td>1</td>\n",
       "      <td>0</td>\n",
       "      <td>0</td>\n",
       "      <td>0</td>\n",
       "      <td>0</td>\n",
       "      <td>0</td>\n",
       "      <td>0</td>\n",
       "      <td>0</td>\n",
       "      <td>0</td>\n",
       "      <td>0</td>\n",
       "      <td>0</td>\n",
       "      <td>0</td>\n",
       "      <td>0</td>\n",
       "      <td>0</td>\n",
       "      <td>0</td>\n",
       "      <td>0</td>\n",
       "      <td>0</td>\n",
       "      <td>0</td>\n",
       "      <td>0</td>\n",
       "      <td>0</td>\n",
       "      <td>0</td>\n",
       "      <td>0</td>\n",
       "      <td>0</td>\n",
       "      <td>0</td>\n",
       "      <td>0</td>\n",
       "      <td>0</td>\n",
       "      <td>0</td>\n",
       "      <td>...</td>\n",
       "      <td>0</td>\n",
       "      <td>0</td>\n",
       "      <td>0</td>\n",
       "      <td>0</td>\n",
       "      <td>0</td>\n",
       "      <td>0</td>\n",
       "      <td>0</td>\n",
       "      <td>0</td>\n",
       "      <td>0</td>\n",
       "      <td>0</td>\n",
       "      <td>0</td>\n",
       "      <td>0</td>\n",
       "      <td>0</td>\n",
       "      <td>0</td>\n",
       "      <td>0</td>\n",
       "      <td>0</td>\n",
       "      <td>0</td>\n",
       "      <td>0</td>\n",
       "      <td>0</td>\n",
       "      <td>0</td>\n",
       "      <td>0</td>\n",
       "      <td>0</td>\n",
       "      <td>0</td>\n",
       "      <td>0</td>\n",
       "      <td>0</td>\n",
       "      <td>0</td>\n",
       "      <td>0</td>\n",
       "      <td>0</td>\n",
       "      <td>0</td>\n",
       "      <td>0</td>\n",
       "      <td>0</td>\n",
       "      <td>0</td>\n",
       "      <td>0</td>\n",
       "      <td>0</td>\n",
       "      <td>0</td>\n",
       "      <td>0</td>\n",
       "      <td>1</td>\n",
       "      <td>0</td>\n",
       "      <td>0</td>\n",
       "      <td>0</td>\n",
       "    </tr>\n",
       "    <tr>\n",
       "      <th>4</th>\n",
       "      <td>5</td>\n",
       "      <td>0.0</td>\n",
       "      <td>3</td>\n",
       "      <td>Allen, Mr. William Henry</td>\n",
       "      <td>1</td>\n",
       "      <td>0</td>\n",
       "      <td>35.0</td>\n",
       "      <td>0</td>\n",
       "      <td>0</td>\n",
       "      <td>373450</td>\n",
       "      <td>8.0500</td>\n",
       "      <td>1</td>\n",
       "      <td>0</td>\n",
       "      <td>0</td>\n",
       "      <td>0</td>\n",
       "      <td>0</td>\n",
       "      <td>0</td>\n",
       "      <td>0</td>\n",
       "      <td>0</td>\n",
       "      <td>0</td>\n",
       "      <td>0</td>\n",
       "      <td>0</td>\n",
       "      <td>0</td>\n",
       "      <td>0</td>\n",
       "      <td>0</td>\n",
       "      <td>0</td>\n",
       "      <td>0</td>\n",
       "      <td>0</td>\n",
       "      <td>0</td>\n",
       "      <td>0</td>\n",
       "      <td>0</td>\n",
       "      <td>0</td>\n",
       "      <td>0</td>\n",
       "      <td>0</td>\n",
       "      <td>0</td>\n",
       "      <td>0</td>\n",
       "      <td>0</td>\n",
       "      <td>0</td>\n",
       "      <td>0</td>\n",
       "      <td>0</td>\n",
       "      <td>...</td>\n",
       "      <td>0</td>\n",
       "      <td>0</td>\n",
       "      <td>0</td>\n",
       "      <td>0</td>\n",
       "      <td>0</td>\n",
       "      <td>0</td>\n",
       "      <td>0</td>\n",
       "      <td>0</td>\n",
       "      <td>0</td>\n",
       "      <td>0</td>\n",
       "      <td>0</td>\n",
       "      <td>0</td>\n",
       "      <td>0</td>\n",
       "      <td>0</td>\n",
       "      <td>0</td>\n",
       "      <td>0</td>\n",
       "      <td>0</td>\n",
       "      <td>0</td>\n",
       "      <td>0</td>\n",
       "      <td>0</td>\n",
       "      <td>0</td>\n",
       "      <td>0</td>\n",
       "      <td>0</td>\n",
       "      <td>0</td>\n",
       "      <td>0</td>\n",
       "      <td>0</td>\n",
       "      <td>0</td>\n",
       "      <td>0</td>\n",
       "      <td>0</td>\n",
       "      <td>0</td>\n",
       "      <td>0</td>\n",
       "      <td>0</td>\n",
       "      <td>0</td>\n",
       "      <td>0</td>\n",
       "      <td>0</td>\n",
       "      <td>0</td>\n",
       "      <td>1</td>\n",
       "      <td>0</td>\n",
       "      <td>0</td>\n",
       "      <td>0</td>\n",
       "    </tr>\n",
       "  </tbody>\n",
       "</table>\n",
       "<p>5 rows × 202 columns</p>\n",
       "</div>"
      ],
      "text/plain": [
       "   PassengerId  Survived  Pclass  ... Embarked_2  Embarked_3  Embarked_4\n",
       "0            1       0.0       3  ...          0           0           0\n",
       "1            2       1.0       1  ...          1           0           0\n",
       "2            3       1.0       3  ...          0           0           0\n",
       "3            4       1.0       1  ...          0           0           0\n",
       "4            5       0.0       3  ...          0           0           0\n",
       "\n",
       "[5 rows x 202 columns]"
      ]
     },
     "execution_count": 65,
     "metadata": {},
     "output_type": "execute_result"
    }
   ],
   "source": [
    "# object型のcolumnを定義する。(NameとTicketは種類が多すぎるので削除)\n",
    "obj_columns = ['Sex', 'Cabin', 'Embarked']\n",
    "# OneHotEncodingを適用する(category_encodersではOneHotEncoderという名前である。)\n",
    "oe = ce.OneHotEncoder(cols=obj_columns)\n",
    "df_cat_oe = oe.fit_transform(df_cat)\n",
    "df_cat_oe.head()"
   ]
  },
  {
   "cell_type": "markdown",
   "metadata": {
    "id": "adlzrSrsmp64"
   },
   "source": [
    "## モデル構築\n",
    "\n",
    "今回は全結合ニューラルネットワーク(MLP)を用いる。\n",
    "MLPはLightGBMと比較すると精度は劣るが、別の角度からの分析が可能になるため、アンサンブルをする際のモデルの一つとしては有用である。\n",
    "MLPの実装はkerasを用いるのが楽である。 \\\n",
    "なお、MLPでは、値のスケーリングを行う。\n",
    "\n",
    "また、本ノートブックの最後にPytorchでの実装方法も紹介する。"
   ]
  },
  {
   "cell_type": "code",
   "execution_count": 66,
   "metadata": {
    "executionInfo": {
     "elapsed": 13,
     "status": "ok",
     "timestamp": 1636453147169,
     "user": {
      "displayName": "松永大希",
      "photoUrl": "https://lh3.googleusercontent.com/a/default-user=s64",
      "userId": "15035745520490838496"
     },
     "user_tz": -540
    },
    "id": "34UoMgW4lwuB"
   },
   "outputs": [],
   "source": [
    "## df_cat_oeをtrainとtestに分離する。\n",
    "train = df_cat_oe[:len(train)]\n",
    "test = df_cat_oe[len(train):]"
   ]
  },
  {
   "cell_type": "code",
   "execution_count": 67,
   "metadata": {
    "executionInfo": {
     "elapsed": 14,
     "status": "ok",
     "timestamp": 1636453147170,
     "user": {
      "displayName": "松永大希",
      "photoUrl": "https://lh3.googleusercontent.com/a/default-user=s64",
      "userId": "15035745520490838496"
     },
     "user_tz": -540
    },
    "id": "01-woLPQoJdy"
   },
   "outputs": [],
   "source": [
    "# 学習に用いない特徴を定義する。\n",
    "drop_cols = ['PassengerId', 'Survived', 'Name', 'Ticket']\n",
    "# 学習データを定義する。\n",
    "X = train.drop(drop_cols, axis=1)\n",
    "y = train['Survived'].values\n",
    "X_test = test.drop(drop_cols, axis=1)"
   ]
  },
  {
   "cell_type": "code",
   "execution_count": 68,
   "metadata": {
    "colab": {
     "base_uri": "https://localhost:8080/"
    },
    "executionInfo": {
     "elapsed": 13,
     "status": "ok",
     "timestamp": 1636453147170,
     "user": {
      "displayName": "松永大希",
      "photoUrl": "https://lh3.googleusercontent.com/a/default-user=s64",
      "userId": "15035745520490838496"
     },
     "user_tz": -540
    },
    "id": "ty4elajBksBW",
    "outputId": "89d5b246-8189-44b3-8eee-f5ba769d98e6"
   },
   "outputs": [
    {
     "data": {
      "text/plain": [
       "(891, 198)"
      ]
     },
     "execution_count": 68,
     "metadata": {},
     "output_type": "execute_result"
    }
   ],
   "source": [
    "X.shape"
   ]
  },
  {
   "cell_type": "code",
   "execution_count": 69,
   "metadata": {
    "executionInfo": {
     "elapsed": 12,
     "status": "ok",
     "timestamp": 1636453147170,
     "user": {
      "displayName": "松永大希",
      "photoUrl": "https://lh3.googleusercontent.com/a/default-user=s64",
      "userId": "15035745520490838496"
     },
     "user_tz": -540
    },
    "id": "FTqUDqwupUFf"
   },
   "outputs": [],
   "source": [
    "from sklearn.model_selection import train_test_split\n",
    "# 評価用データを作成する。一旦HoldOut法で行う。\n",
    "X_train, X_val, y_train, y_val = train_test_split(X, y, test_size=0.2, shuffle=True, random_state=42)"
   ]
  },
  {
   "cell_type": "code",
   "execution_count": 70,
   "metadata": {
    "executionInfo": {
     "elapsed": 11,
     "status": "ok",
     "timestamp": 1636453147170,
     "user": {
      "displayName": "松永大希",
      "photoUrl": "https://lh3.googleusercontent.com/a/default-user=s64",
      "userId": "15035745520490838496"
     },
     "user_tz": -540
    },
    "id": "dvUG5zvXhr-M"
   },
   "outputs": [],
   "source": [
    "from tensorflow.keras.models import Sequential\n",
    "from tensorflow.keras.layers import Dense, Activation, Dropout\n",
    "# モデルの構築をする。\n",
    "def build_model(hid_dim=256,\n",
    "                out_dim=1,\n",
    "                hid_activation='relu',\n",
    "                out_activation='sigmoid',\n",
    "                optimizer='SGD',\n",
    "                loss='binary_crossentropy',\n",
    "                metrics=['accuracy'],\n",
    "                drop_rate=0.1\n",
    "                ):\n",
    "  model = Sequential([\n",
    "      Dense(hid_dim),\n",
    "      Dropout(drop_rate),\n",
    "      Activation(hid_activation),\n",
    "      Dense(out_dim),\n",
    "      Activation(out_activation),\n",
    "  ])\n",
    "  model.compile(optimizer=optimizer, loss=loss, metrics=metrics)\n",
    "\n",
    "  return model\n",
    "\n",
    "# モデルを読み込む\n",
    "model = build_model()"
   ]
  },
  {
   "cell_type": "code",
   "execution_count": 71,
   "metadata": {
    "executionInfo": {
     "elapsed": 12,
     "status": "ok",
     "timestamp": 1636453147171,
     "user": {
      "displayName": "松永大希",
      "photoUrl": "https://lh3.googleusercontent.com/a/default-user=s64",
      "userId": "15035745520490838496"
     },
     "user_tz": -540
    },
    "id": "LkBd02MmoBTn"
   },
   "outputs": [],
   "source": [
    "from sklearn.preprocessing import StandardScaler\n",
    "\n",
    "sca = StandardScaler()\n",
    "X_train_sca = sca.fit_transform(X_train)\n",
    "X_val_sca = sca.transform(X_val)\n",
    "X_test_sca = sca.transform(X_test)"
   ]
  },
  {
   "cell_type": "code",
   "execution_count": 72,
   "metadata": {
    "colab": {
     "base_uri": "https://localhost:8080/"
    },
    "executionInfo": {
     "elapsed": 3162,
     "status": "ok",
     "timestamp": 1636453150321,
     "user": {
      "displayName": "松永大希",
      "photoUrl": "https://lh3.googleusercontent.com/a/default-user=s64",
      "userId": "15035745520490838496"
     },
     "user_tz": -540
    },
    "id": "j30rGTtKphvU",
    "outputId": "d3e2c40c-b334-4e7f-a232-d42d889971c1"
   },
   "outputs": [
    {
     "name": "stdout",
     "output_type": "stream",
     "text": [
      "Epoch 1/20\n",
      "45/45 [==============================] - 1s 5ms/step - loss: 0.6936 - accuracy: 0.6433 - val_loss: 0.6391 - val_accuracy: 0.6983\n",
      "Epoch 2/20\n",
      "45/45 [==============================] - 0s 2ms/step - loss: 0.5952 - accuracy: 0.7612 - val_loss: 0.5855 - val_accuracy: 0.7877\n",
      "Epoch 3/20\n",
      "45/45 [==============================] - 0s 2ms/step - loss: 0.5377 - accuracy: 0.8062 - val_loss: 0.5522 - val_accuracy: 0.7989\n",
      "Epoch 4/20\n",
      "45/45 [==============================] - 0s 3ms/step - loss: 0.5018 - accuracy: 0.8216 - val_loss: 0.5248 - val_accuracy: 0.7933\n",
      "Epoch 5/20\n",
      "45/45 [==============================] - 0s 2ms/step - loss: 0.4690 - accuracy: 0.8258 - val_loss: 0.5075 - val_accuracy: 0.7933\n",
      "Epoch 6/20\n",
      "45/45 [==============================] - 0s 3ms/step - loss: 0.4459 - accuracy: 0.8413 - val_loss: 0.4933 - val_accuracy: 0.7877\n",
      "Epoch 7/20\n",
      "45/45 [==============================] - 0s 2ms/step - loss: 0.4288 - accuracy: 0.8385 - val_loss: 0.4849 - val_accuracy: 0.7877\n",
      "Epoch 8/20\n",
      "45/45 [==============================] - 0s 2ms/step - loss: 0.4110 - accuracy: 0.8427 - val_loss: 0.4767 - val_accuracy: 0.7877\n",
      "Epoch 9/20\n",
      "45/45 [==============================] - 0s 2ms/step - loss: 0.4014 - accuracy: 0.8469 - val_loss: 0.4711 - val_accuracy: 0.7877\n",
      "Epoch 10/20\n",
      "45/45 [==============================] - 0s 2ms/step - loss: 0.3926 - accuracy: 0.8469 - val_loss: 0.4672 - val_accuracy: 0.7877\n",
      "Epoch 11/20\n",
      "45/45 [==============================] - 0s 2ms/step - loss: 0.3912 - accuracy: 0.8455 - val_loss: 0.4632 - val_accuracy: 0.7877\n",
      "Epoch 12/20\n",
      "45/45 [==============================] - 0s 2ms/step - loss: 0.3797 - accuracy: 0.8525 - val_loss: 0.4602 - val_accuracy: 0.7877\n",
      "Epoch 13/20\n",
      "45/45 [==============================] - 0s 2ms/step - loss: 0.3763 - accuracy: 0.8525 - val_loss: 0.4587 - val_accuracy: 0.7821\n",
      "Epoch 14/20\n",
      "45/45 [==============================] - 0s 3ms/step - loss: 0.3743 - accuracy: 0.8553 - val_loss: 0.4565 - val_accuracy: 0.7821\n",
      "Epoch 15/20\n",
      "45/45 [==============================] - 0s 3ms/step - loss: 0.3730 - accuracy: 0.8483 - val_loss: 0.4552 - val_accuracy: 0.7765\n",
      "Epoch 16/20\n",
      "45/45 [==============================] - 0s 2ms/step - loss: 0.3695 - accuracy: 0.8539 - val_loss: 0.4541 - val_accuracy: 0.7821\n",
      "Epoch 17/20\n",
      "45/45 [==============================] - 0s 2ms/step - loss: 0.3642 - accuracy: 0.8511 - val_loss: 0.4529 - val_accuracy: 0.7821\n",
      "Epoch 18/20\n",
      "45/45 [==============================] - 0s 2ms/step - loss: 0.3658 - accuracy: 0.8525 - val_loss: 0.4528 - val_accuracy: 0.7821\n",
      "Epoch 19/20\n",
      "45/45 [==============================] - 0s 2ms/step - loss: 0.3638 - accuracy: 0.8553 - val_loss: 0.4522 - val_accuracy: 0.7821\n",
      "Epoch 20/20\n",
      "45/45 [==============================] - 0s 2ms/step - loss: 0.3567 - accuracy: 0.8581 - val_loss: 0.4517 - val_accuracy: 0.7821\n"
     ]
    },
    {
     "data": {
      "text/plain": [
       "<keras.callbacks.History at 0x7f94d3672fd0>"
      ]
     },
     "execution_count": 72,
     "metadata": {},
     "output_type": "execute_result"
    }
   ],
   "source": [
    "# 学習\n",
    "model.fit(X_train_sca, y_train, \n",
    "          batch_size=16,\n",
    "          epochs=20,\n",
    "          verbose=1,\n",
    "          validation_data=(X_val_sca, y_val))"
   ]
  },
  {
   "cell_type": "markdown",
   "metadata": {
    "id": "pZzMYQp-ubXZ"
   },
   "source": [
    "### valデータの評価"
   ]
  },
  {
   "cell_type": "code",
   "execution_count": 73,
   "metadata": {
    "colab": {
     "base_uri": "https://localhost:8080/"
    },
    "executionInfo": {
     "elapsed": 6,
     "status": "ok",
     "timestamp": 1636453150322,
     "user": {
      "displayName": "松永大希",
      "photoUrl": "https://lh3.googleusercontent.com/a/default-user=s64",
      "userId": "15035745520490838496"
     },
     "user_tz": -540
    },
    "id": "T43FbaVlrSxR",
    "outputId": "6a34969b-f266-46ab-ee8b-d6ab224c02fc"
   },
   "outputs": [
    {
     "name": "stdout",
     "output_type": "stream",
     "text": [
      "[0.15555125 0.14320901 0.13352561 0.8237741  0.74619824 0.8675711\n",
      " 0.69100726 0.10827485 0.7201429  0.8459327  0.9022866  0.0902181\n",
      " 0.4262549  0.1798228  0.13344106 0.83356524 0.25589055 0.69110703\n",
      " 0.15535575 0.31112996 0.12439114 0.20724788 0.6016199  0.13418537\n",
      " 0.11457542 0.10738128 0.24571642 0.14446062 0.12446111 0.59972554\n",
      " 0.13613099 0.6338477  0.30352402 0.6034243  0.1388649  0.1676516\n",
      " 0.28719747 0.69100726 0.86973923 0.1119177  0.14967066 0.09816149\n",
      " 0.11197728 0.15345609 0.64579004 0.15157205 0.13626692 0.127083\n",
      " 0.12403724 0.26292452 0.72492933 0.78801847 0.07122558 0.92901176\n",
      " 0.09297499 0.8576747  0.14079925 0.3499589  0.7632434  0.7132024\n",
      " 0.13094428 0.8002683  0.75161415 0.2180298  0.15345609 0.73800266\n",
      " 0.2180365  0.11371925 0.21946236 0.9814964  0.7473546  0.98914754\n",
      " 0.38963258 0.82108593 0.12648085 0.0927563  0.68950033 0.85371846\n",
      " 0.7518063  0.530675   0.06764016 0.9847493  0.8376641  0.15344793\n",
      " 0.271441   0.16584492 0.98163843 0.8648014  0.18376407 0.11166909\n",
      " 0.22522053 0.40373898 0.24960512 0.15344253 0.1119177  0.11582071\n",
      " 0.2825185  0.08878383 0.94094574 0.11788958 0.14620215 0.10287228\n",
      " 0.9968387  0.09839252 0.11080599 0.10487759 0.7219465  0.2914054\n",
      " 0.11232129 0.29655606 0.83086514 0.1319344  0.9964561  0.2998485\n",
      " 0.49373084 0.13450137 0.19706318 0.61409473 0.75680256 0.38924268\n",
      " 0.1335155  0.84647495 0.79416144 0.37928817 0.12194449 0.26933542\n",
      " 0.96017814 0.46528083 0.6942388  0.13107106 0.69117    0.15555125\n",
      " 0.14158627 0.6916923  0.26267582 0.74536586 0.8978659  0.11368209\n",
      " 0.09280348 0.6158222  0.1312488  0.73383766 0.15237    0.12803197\n",
      " 0.47735175 0.7367047  0.14695701 0.09347805 0.86298877 0.09160399\n",
      " 0.18150792 0.12422365 0.13872325 0.65800244 0.11197728 0.11159602\n",
      " 0.13844949 0.6910545  0.7476932  0.6027089  0.21596429 0.21841398\n",
      " 0.12849042 0.86706126 0.15391919 0.21149418 0.16870877 0.830371\n",
      " 0.12866193 0.10284647 0.43534333 0.76826495 0.29987106 0.76382506\n",
      " 0.14140296 0.18039781 0.32912093 0.77719    0.3696127 ]\n"
     ]
    }
   ],
   "source": [
    "from sklearn.metrics import accuracy_score\n",
    "# valデータを予測する。(スケーリングしたデータを使おう。)\n",
    "val_probs = model.predict(X_val_sca)\n",
    "# 形状を(179)にする\n",
    "val_probs = val_probs.squeeze()\n",
    "print(val_probs)"
   ]
  },
  {
   "cell_type": "markdown",
   "metadata": {
    "id": "5d_QQ-bRsbi8"
   },
   "source": [
    "モデルの出力は(targetの数, 1)で出力される。\n",
    "これを、以下のルールで変更する。 \\\n",
    "1. 出力の形状を(targetの数)に直す(np.squeeze()を用いる。)\n",
    "2. thershold=0.5\n",
    "3. 値がthresholdを下回ったら0\n",
    "4. それ以上の場合は1 \\"
   ]
  },
  {
   "cell_type": "code",
   "execution_count": 74,
   "metadata": {
    "executionInfo": {
     "elapsed": 17,
     "status": "ok",
     "timestamp": 1636453150726,
     "user": {
      "displayName": "松永大希",
      "photoUrl": "https://lh3.googleusercontent.com/a/default-user=s64",
      "userId": "15035745520490838496"
     },
     "user_tz": -540
    },
    "id": "xOJhm7uhtXtO"
   },
   "outputs": [],
   "source": [
    "thershold = 0.5\n",
    "# 予測を二値化する。\n",
    "val_preds = np.where(val_probs < thershold, 0, 1)"
   ]
  },
  {
   "cell_type": "markdown",
   "metadata": {
    "id": "n4Xja2q3r5Um"
   },
   "source": [
    "Accuracyスコアで精度を計算する。"
   ]
  },
  {
   "cell_type": "code",
   "execution_count": 75,
   "metadata": {
    "colab": {
     "base_uri": "https://localhost:8080/"
    },
    "executionInfo": {
     "elapsed": 15,
     "status": "ok",
     "timestamp": 1636453150726,
     "user": {
      "displayName": "松永大希",
      "photoUrl": "https://lh3.googleusercontent.com/a/default-user=s64",
      "userId": "15035745520490838496"
     },
     "user_tz": -540
    },
    "id": "d9R6SkpNr4Kc",
    "outputId": "fb20b3e6-957d-4d8c-f100-d3db9d7d2f21"
   },
   "outputs": [
    {
     "name": "stdout",
     "output_type": "stream",
     "text": [
      "0.7821229050279329\n"
     ]
    }
   ],
   "source": [
    "from sklearn.metrics import accuracy_score\n",
    "# スコアを出力\n",
    "print(accuracy_score(y_val, val_preds))"
   ]
  },
  {
   "cell_type": "markdown",
   "metadata": {
    "id": "xBzLW6iEuTfg"
   },
   "source": [
    "### テストデータの予測とKaggleへの提出ファイルの作成。"
   ]
  },
  {
   "cell_type": "code",
   "execution_count": 76,
   "metadata": {
    "executionInfo": {
     "elapsed": 11,
     "status": "ok",
     "timestamp": 1636453150727,
     "user": {
      "displayName": "松永大希",
      "photoUrl": "https://lh3.googleusercontent.com/a/default-user=s64",
      "userId": "15035745520490838496"
     },
     "user_tz": -540
    },
    "id": "AVswoiNOuOSH"
   },
   "outputs": [],
   "source": [
    "# valデータと同じように予測\n",
    "test_probs = model.predict(X_test_sca)\n",
    "# test_probsの形状を直す。\n",
    "test_probs = test_probs.squeeze()\n",
    "# valデータと同じように予測を二値にする。\n",
    "thershold = 0.5\n",
    "test_preds = np.where(test_probs < thershold, 0, 1)"
   ]
  },
  {
   "cell_type": "code",
   "execution_count": 77,
   "metadata": {
    "colab": {
     "base_uri": "https://localhost:8080/"
    },
    "executionInfo": {
     "elapsed": 11,
     "status": "ok",
     "timestamp": 1636453150727,
     "user": {
      "displayName": "松永大希",
      "photoUrl": "https://lh3.googleusercontent.com/a/default-user=s64",
      "userId": "15035745520490838496"
     },
     "user_tz": -540
    },
    "id": "w9Q3Sy-YvCDb",
    "outputId": "58505e03-8f05-4007-e820-ebd8e29a4b06"
   },
   "outputs": [
    {
     "name": "stdout",
     "output_type": "stream",
     "text": [
      "418\n",
      "[0 1 0 0 1 0 1 0 1 0 0 0 1 0 0 1 0 0 1 1 0 0 1 0 1 0 1 0 0 0 0 0 1 1 0 0 1\n",
      " 1 0 0 0 0 0 1 1 0 0 0 1 1 0 0 1 1 0 0 0 0 0 1 0 0 0 1 1 1 1 0 0 1 1 0 1 0\n",
      " 1 1 0 1 0 1 0 0 0 0 0 0 1 1 1 0 1 0 0 0 0 0 0 0 1 0 1 0 0 0 1 0 0 0 0 0 0\n",
      " 1 1 1 1 0 0 0 0 1 1 0 1 0 0 1 0 1 0 0 0 0 0 0 0 0 0 0 1 0 0 1 1 0 0 0 0 0\n",
      " 0 0 1 0 0 1 0 0 1 1 0 1 1 0 1 0 0 1 0 0 1 1 0 0 0 0 0 1 1 0 1 1 0 0 0 0 0\n",
      " 0 1 0 0 0 0 0 0 0 0 0 1 1 0 1 1 0 1 1 0 0 1 0 1 0 0 0 0 1 0 0 1 0 1 0 1 0\n",
      " 1 0 1 1 0 1 0 0 0 1 0 0 1 0 1 0 1 0 1 1 0 0 0 0 1 0 1 1 1 0 0 0 0 0 0 0 1\n",
      " 0 0 0 1 1 0 0 0 0 1 0 0 0 1 1 0 1 0 0 0 0 1 0 1 1 1 0 0 0 0 0 0 1 0 1 0 0\n",
      " 1 0 0 0 0 1 0 0 1 1 0 0 0 1 0 0 0 1 1 1 0 0 0 0 0 0 1 0 1 0 1 0 0 0 1 0 0\n",
      " 1 0 1 0 0 0 0 0 0 0 1 0 1 0 1 0 1 1 0 0 0 1 0 1 0 0 1 0 1 1 0 1 0 0 1 1 0\n",
      " 0 1 0 0 1 1 1 0 0 0 0 0 1 1 0 1 0 0 0 0 0 1 0 0 0 1 0 1 0 0 1 0 1 0 0 0 0\n",
      " 0 1 1 1 1 1 0 1 0 0 0]\n"
     ]
    }
   ],
   "source": [
    "print(len(test_preds))\n",
    "print(test_preds)"
   ]
  },
  {
   "cell_type": "code",
   "execution_count": 78,
   "metadata": {
    "executionInfo": {
     "elapsed": 10,
     "status": "ok",
     "timestamp": 1636453150728,
     "user": {
      "displayName": "松永大希",
      "photoUrl": "https://lh3.googleusercontent.com/a/default-user=s64",
      "userId": "15035745520490838496"
     },
     "user_tz": -540
    },
    "id": "w9mu3zU5vO7t"
   },
   "outputs": [],
   "source": [
    "if issubmit:\n",
    "    os.makedirs('submit/', exist_ok=True)\n",
    "    # submissionのサンプルファイルを読み込む\n",
    "    submit = pd.read_csv('gender_submission.csv')\n",
    "    submit['Survived'] = test_preds\n",
    "    # 提出\n",
    "    submit.to_csv('submit/my_submit3.csv', index=False)"
   ]
  },
  {
   "cell_type": "markdown",
   "metadata": {
    "id": "WAUHWqEB3IIE"
   },
   "source": [
    "### Cross Validationを作ろう"
   ]
  },
  {
   "cell_type": "markdown",
   "metadata": {
    "id": "3ls-KvaAsDly"
   },
   "source": [
    "今回は、穴埋め形式ではなく一から実装してもらうことにする。 \\\n",
    "LightGBMのCross Validationのコードをコピペして、ニューラルネットワーク専用コードに編集すれば効率良く実装できる。(もちろん一から実装した方が勉強にはなる。)"
   ]
  },
  {
   "cell_type": "code",
   "execution_count": 80,
   "metadata": {
    "colab": {
     "base_uri": "https://localhost:8080/"
    },
    "executionInfo": {
     "elapsed": 10871,
     "status": "ok",
     "timestamp": 1636453161590,
     "user": {
      "displayName": "松永大希",
      "photoUrl": "https://lh3.googleusercontent.com/a/default-user=s64",
      "userId": "15035745520490838496"
     },
     "user_tz": -540
    },
    "id": "6Xr1GOu96a4D",
    "outputId": "c3200fcc-d9de-4613-892d-fbb9fd3b5750"
   },
   "outputs": [
    {
     "name": "stdout",
     "output_type": "stream",
     "text": [
      "epoch1\n",
      "0.7988826815642458\n",
      "----------------------------------------\n",
      "epoch2\n",
      "0.8202247191011236\n",
      "----------------------------------------\n",
      "epoch3\n",
      "0.8033707865168539\n",
      "----------------------------------------\n",
      "epoch4\n",
      "0.8539325842696629\n",
      "----------------------------------------\n",
      "epoch5\n",
      "0.8314606741573034\n",
      "----------------------------------------\n",
      "oof score :  0.8215488215488216\n"
     ]
    }
   ],
   "source": [
    "from sklearn.model_selection import StratifiedKFold\n",
    "\n",
    "FOLD = 5\n",
    "# StratifiedKFoldのインスタンスを定義する。\n",
    "skf = StratifiedKFold(n_splits=FOLD, shuffle=True, random_state=42)\n",
    "\n",
    "oof_preds = np.zeros(len(X))\n",
    "test_probs = np.zeros(len(X_test))  # testデータの予測を格納するnumpy配列\n",
    "\n",
    "# 各FOLDで学習を行う。\n",
    "for i, (tr_idx, va_idx) in enumerate(skf.split(X, y)):\n",
    "  print(f'epoch{i+1}')\n",
    "  # データを定義\n",
    "  X_train, X_val = X.iloc[tr_idx], X.iloc[va_idx]\n",
    "  y_train, y_val = y[tr_idx], y[va_idx]\n",
    "  \n",
    "  # データのスケーリングを行う。\n",
    "  sca = StandardScaler()\n",
    "  X_train_sca = sca.fit_transform(X_train)\n",
    "  X_val_sca = sca.transform(X_val)\n",
    "  X_test_sca = sca.transform(X_test)\n",
    "\n",
    "  # 学習\n",
    "  model.fit(X_train_sca, y_train, \n",
    "            batch_size=16,\n",
    "            epochs=20,\n",
    "            verbose=0,\n",
    "            validation_data=(X_val_sca, y_val))\n",
    "  \n",
    "  # valデータを予測する。\n",
    "  val_probs = model.predict(X_val_sca).squeeze()\n",
    "  \n",
    "  # 予測を二値化する。\n",
    "  threshold = 0.5\n",
    "  val_preds = np.where(val_probs < threshold, 0, 1)\n",
    "\n",
    "  # スコアを出力\n",
    "  print(accuracy_score(y_val, val_preds))\n",
    "\n",
    "  # 予測結果をoof_predsに格納\n",
    "  oof_preds[va_idx] = val_preds\n",
    "\n",
    "  # testデータを予測しtest_probsに加算\n",
    "  test_probs += model.predict(X_test_sca).squeeze()\n",
    "  print('-'*40)\n",
    "\n",
    "\n",
    "# test_probsをFOLD数で割る\n",
    "test_probs /= FOLD\n",
    "# 予測を二値化する\n",
    "test_preds = np.where(test_probs < threshold, 0, 1)\n",
    "\n",
    "# oofのスコアを算出\n",
    "print('oof score : ', accuracy_score(y, oof_preds))"
   ]
  },
  {
   "cell_type": "code",
   "execution_count": 81,
   "metadata": {
    "colab": {
     "base_uri": "https://localhost:8080/"
    },
    "executionInfo": {
     "elapsed": 12,
     "status": "ok",
     "timestamp": 1636453161590,
     "user": {
      "displayName": "松永大希",
      "photoUrl": "https://lh3.googleusercontent.com/a/default-user=s64",
      "userId": "15035745520490838496"
     },
     "user_tz": -540
    },
    "id": "Y32ZaDB9Ei2d",
    "outputId": "d27df5fe-2842-4873-a64d-7c592cf782ae"
   },
   "outputs": [
    {
     "data": {
      "text/plain": [
       "array([0, 0, 0, 0, 0, 0, 1, 0, 1, 0, 0, 0, 1, 0, 0, 1, 0, 0, 0, 1, 0, 0,\n",
       "       1, 1, 1, 0, 1, 0, 0, 0, 0, 0, 0, 0, 0, 0, 0, 1, 0, 0, 0, 0, 0, 1,\n",
       "       1, 0, 0, 0, 1, 0, 0, 0, 1, 1, 0, 0, 0, 0, 0, 1, 0, 0, 0, 1, 1, 1,\n",
       "       1, 0, 0, 1, 1, 0, 1, 0, 1, 1, 0, 1, 0, 1, 0, 0, 0, 0, 0, 0, 1, 1,\n",
       "       1, 1, 0, 0, 0, 0, 0, 0, 0, 0, 1, 0, 1, 0, 0, 0, 1, 0, 0, 0, 0, 0,\n",
       "       0, 1, 1, 1, 1, 0, 0, 1, 0, 1, 1, 0, 1, 0, 0, 1, 0, 1, 0, 0, 0, 0,\n",
       "       0, 0, 0, 0, 0, 0, 1, 0, 0, 1, 1, 0, 0, 0, 0, 0, 0, 0, 1, 0, 0, 0,\n",
       "       0, 0, 1, 1, 0, 1, 1, 0, 1, 0, 0, 0, 0, 0, 1, 1, 0, 0, 0, 0, 0, 1,\n",
       "       1, 0, 1, 1, 0, 0, 0, 0, 1, 0, 1, 0, 0, 0, 0, 0, 0, 0, 1, 0, 1, 1,\n",
       "       0, 0, 1, 1, 1, 1, 0, 0, 1, 0, 1, 0, 0, 0, 0, 1, 0, 0, 1, 0, 1, 0,\n",
       "       1, 0, 1, 0, 1, 1, 0, 1, 0, 0, 0, 1, 0, 0, 1, 0, 1, 0, 1, 0, 1, 1,\n",
       "       1, 0, 0, 1, 1, 0, 1, 1, 1, 0, 0, 0, 0, 0, 0, 0, 1, 0, 0, 0, 1, 1,\n",
       "       0, 0, 0, 0, 0, 0, 0, 0, 1, 1, 0, 1, 0, 0, 0, 0, 1, 0, 1, 1, 1, 0,\n",
       "       0, 0, 0, 0, 0, 1, 0, 1, 0, 0, 1, 0, 0, 0, 0, 0, 0, 0, 1, 1, 0, 0,\n",
       "       1, 0, 0, 0, 0, 1, 1, 1, 1, 0, 0, 0, 0, 0, 1, 0, 1, 0, 1, 0, 0, 0,\n",
       "       1, 0, 0, 1, 0, 1, 0, 0, 0, 0, 0, 0, 0, 1, 0, 1, 0, 1, 0, 1, 1, 0,\n",
       "       0, 0, 1, 0, 1, 0, 0, 0, 0, 1, 1, 0, 1, 0, 0, 1, 1, 0, 0, 1, 0, 0,\n",
       "       1, 1, 0, 0, 0, 0, 0, 0, 1, 0, 0, 1, 0, 0, 0, 0, 0, 1, 0, 0, 0, 1,\n",
       "       0, 1, 0, 0, 1, 0, 1, 0, 0, 0, 0, 0, 1, 1, 1, 1, 1, 0, 1, 0, 0, 0])"
      ]
     },
     "execution_count": 81,
     "metadata": {},
     "output_type": "execute_result"
    }
   ],
   "source": [
    "test_preds"
   ]
  },
  {
   "cell_type": "code",
   "execution_count": 82,
   "metadata": {
    "executionInfo": {
     "elapsed": 10,
     "status": "ok",
     "timestamp": 1636453161590,
     "user": {
      "displayName": "松永大希",
      "photoUrl": "https://lh3.googleusercontent.com/a/default-user=s64",
      "userId": "15035745520490838496"
     },
     "user_tz": -540
    },
    "id": "Vc_T1yfkBWsa"
   },
   "outputs": [],
   "source": [
    "if issubmit:\n",
    "    os.makedirs('submit/', exist_ok=True)\n",
    "    # submissionのサンプルファイルを読み込む\n",
    "    submit = pd.read_csv('gender_submission.csv')\n",
    "    submit['Survived'] = test_preds\n",
    "    # 提出\n",
    "    submit.to_csv('submit/my_submit4.csv', index=False)"
   ]
  },
  {
   "cell_type": "markdown",
   "metadata": {
    "id": "hs5t64SdxK3p"
   },
   "source": [
    "## Pytorchで実装しよう\n",
    "\n",
    "Pytorchは学術研究で広く用いられるフレームワークである。 \\\n",
    "実装を1からカスタマイズする必要があるので簡単な全結合ネットワークだとkerasの方が何かと便利だが、高度なディープラーニングなどで真価を発揮するため、実装してみる。"
   ]
  },
  {
   "cell_type": "code",
   "execution_count": 83,
   "metadata": {
    "executionInfo": {
     "elapsed": 10,
     "status": "ok",
     "timestamp": 1636453161590,
     "user": {
      "displayName": "松永大希",
      "photoUrl": "https://lh3.googleusercontent.com/a/default-user=s64",
      "userId": "15035745520490838496"
     },
     "user_tz": -540
    },
    "id": "WJNd3FOGEITi"
   },
   "outputs": [],
   "source": [
    "import torch\n",
    "from torch import nn\n",
    "from torch.utils.data import Dataset, DataLoader\n",
    "\n",
    "# Pytorchモデルを定義する。\n",
    "class MLP(nn.Module):\n",
    "\n",
    "  def __init__(self, input_dim, hid_dim=256, out_dim=1, drop_rate=0.1):\n",
    "    # nn.Moduleクラスを継承する。\n",
    "    super(MLP, self).__init__()\n",
    "    # モデルのパーツを定義する。\n",
    "    self.layer = nn.Sequential(\n",
    "      nn.Linear(input_dim, hid_dim),\n",
    "      nn.Dropout(drop_rate),\n",
    "      nn.ReLU(),\n",
    "      nn.Linear(hid_dim, out_dim),\n",
    "      nn.Sigmoid()\n",
    "    )\n",
    "\n",
    "  def forward(self, x):\n",
    "    # モデルの順伝搬を行う。\n",
    "    return self.layer(x).squeeze()\n",
    "\n"
   ]
  },
  {
   "cell_type": "code",
   "execution_count": 84,
   "metadata": {
    "colab": {
     "base_uri": "https://localhost:8080/"
    },
    "executionInfo": {
     "elapsed": 11,
     "status": "ok",
     "timestamp": 1636453161591,
     "user": {
      "displayName": "松永大希",
      "photoUrl": "https://lh3.googleusercontent.com/a/default-user=s64",
      "userId": "15035745520490838496"
     },
     "user_tz": -540
    },
    "id": "e1zLESAPy9r6",
    "outputId": "fd16468a-a60e-421d-bef5-759c3e77c2e6"
   },
   "outputs": [
    {
     "name": "stdout",
     "output_type": "stream",
     "text": [
      "198\n",
      "torch.Size([16])\n"
     ]
    }
   ],
   "source": [
    "# モデルの挙動を確認\n",
    "sample_x = torch.randn([16, 198])\n",
    "print(sample_x.size(1))\n",
    "sample_model = MLP(sample_x.size(1))\n",
    "sample_out = sample_model(sample_x)\n",
    "print(sample_out.shape)"
   ]
  },
  {
   "cell_type": "code",
   "execution_count": 85,
   "metadata": {
    "executionInfo": {
     "elapsed": 10,
     "status": "ok",
     "timestamp": 1636453161591,
     "user": {
      "displayName": "松永大希",
      "photoUrl": "https://lh3.googleusercontent.com/a/default-user=s64",
      "userId": "15035745520490838496"
     },
     "user_tz": -540
    },
    "id": "VmXjiOH3zSXP"
   },
   "outputs": [],
   "source": [
    "# pytorchのデータセットを作る。\n",
    "class MLPDataset(Dataset):\n",
    "\n",
    "  def __init__(self, X, y=None, test=False):\n",
    "    super().__init__()\n",
    "    self.X = X\n",
    "    self.test = test\n",
    "    if not test:\n",
    "      self.y = y\n",
    "\n",
    "  def __len__(self): \n",
    "    return len(self.X)\n",
    "\n",
    "  def __getitem__(self, idx):\n",
    "    # X, yをtorch.Tensorに変換\n",
    "    X_torch = torch.Tensor(self.X.values)\n",
    "    if not self.test:\n",
    "      y_torch = torch.Tensor(self.y)\n",
    "      return [X_torch[idx], y_torch[idx]]\n",
    "    else:\n",
    "      return [X_torch[idx]]\n"
   ]
  },
  {
   "cell_type": "code",
   "execution_count": 86,
   "metadata": {
    "colab": {
     "base_uri": "https://localhost:8080/"
    },
    "executionInfo": {
     "elapsed": 9,
     "status": "ok",
     "timestamp": 1636453161591,
     "user": {
      "displayName": "松永大希",
      "photoUrl": "https://lh3.googleusercontent.com/a/default-user=s64",
      "userId": "15035745520490838496"
     },
     "user_tz": -540
    },
    "id": "jeOVkgVs1C1z",
    "outputId": "b6fd37d4-648c-4f86-843a-ce86b4587772"
   },
   "outputs": [
    {
     "data": {
      "text/plain": [
       "[tensor([ 3.0000,  1.0000,  0.0000, 22.0000,  1.0000,  0.0000,  7.2500,  1.0000,\n",
       "          0.0000,  0.0000,  0.0000,  0.0000,  0.0000,  0.0000,  0.0000,  0.0000,\n",
       "          0.0000,  0.0000,  0.0000,  0.0000,  0.0000,  0.0000,  0.0000,  0.0000,\n",
       "          0.0000,  0.0000,  0.0000,  0.0000,  0.0000,  0.0000,  0.0000,  0.0000,\n",
       "          0.0000,  0.0000,  0.0000,  0.0000,  0.0000,  0.0000,  0.0000,  0.0000,\n",
       "          0.0000,  0.0000,  0.0000,  0.0000,  0.0000,  0.0000,  0.0000,  0.0000,\n",
       "          0.0000,  0.0000,  0.0000,  0.0000,  0.0000,  0.0000,  0.0000,  0.0000,\n",
       "          0.0000,  0.0000,  0.0000,  0.0000,  0.0000,  0.0000,  0.0000,  0.0000,\n",
       "          0.0000,  0.0000,  0.0000,  0.0000,  0.0000,  0.0000,  0.0000,  0.0000,\n",
       "          0.0000,  0.0000,  0.0000,  0.0000,  0.0000,  0.0000,  0.0000,  0.0000,\n",
       "          0.0000,  0.0000,  0.0000,  0.0000,  0.0000,  0.0000,  0.0000,  0.0000,\n",
       "          0.0000,  0.0000,  0.0000,  0.0000,  0.0000,  0.0000,  0.0000,  0.0000,\n",
       "          0.0000,  0.0000,  0.0000,  0.0000,  0.0000,  0.0000,  0.0000,  0.0000,\n",
       "          0.0000,  0.0000,  0.0000,  0.0000,  0.0000,  0.0000,  0.0000,  0.0000,\n",
       "          0.0000,  0.0000,  0.0000,  0.0000,  0.0000,  0.0000,  0.0000,  0.0000,\n",
       "          0.0000,  0.0000,  0.0000,  0.0000,  0.0000,  0.0000,  0.0000,  0.0000,\n",
       "          0.0000,  0.0000,  0.0000,  0.0000,  0.0000,  0.0000,  0.0000,  0.0000,\n",
       "          0.0000,  0.0000,  0.0000,  0.0000,  0.0000,  0.0000,  0.0000,  0.0000,\n",
       "          0.0000,  0.0000,  0.0000,  0.0000,  0.0000,  0.0000,  0.0000,  0.0000,\n",
       "          0.0000,  0.0000,  0.0000,  0.0000,  0.0000,  0.0000,  0.0000,  0.0000,\n",
       "          0.0000,  0.0000,  0.0000,  0.0000,  0.0000,  0.0000,  0.0000,  0.0000,\n",
       "          0.0000,  0.0000,  0.0000,  0.0000,  0.0000,  0.0000,  0.0000,  0.0000,\n",
       "          0.0000,  0.0000,  0.0000,  0.0000,  0.0000,  0.0000,  0.0000,  0.0000,\n",
       "          0.0000,  0.0000,  0.0000,  0.0000,  0.0000,  0.0000,  0.0000,  0.0000,\n",
       "          0.0000,  0.0000,  1.0000,  0.0000,  0.0000,  0.0000]), tensor(0.)]"
      ]
     },
     "execution_count": 86,
     "metadata": {},
     "output_type": "execute_result"
    }
   ],
   "source": [
    "# Datasetの動作確認\n",
    "sample_dataset = MLPDataset(X, y)\n",
    "sample_dataset[0]"
   ]
  },
  {
   "cell_type": "code",
   "execution_count": 87,
   "metadata": {
    "colab": {
     "base_uri": "https://localhost:8080/"
    },
    "executionInfo": {
     "elapsed": 9,
     "status": "ok",
     "timestamp": 1636453161591,
     "user": {
      "displayName": "松永大希",
      "photoUrl": "https://lh3.googleusercontent.com/a/default-user=s64",
      "userId": "15035745520490838496"
     },
     "user_tz": -540
    },
    "id": "FJ_tvfjG1NIP",
    "outputId": "dda81aee-23d0-44ff-9d00-ab6ecb7c0358"
   },
   "outputs": [
    {
     "name": "stdout",
     "output_type": "stream",
     "text": [
      "torch.Size([16, 198])\n",
      "torch.Size([16])\n"
     ]
    }
   ],
   "source": [
    "# dataloaderを定義\n",
    "sample_dataloader = DataLoader(sample_dataset, batch_size=16, shuffle=True)\n",
    "for sd in sample_dataloader:\n",
    "  print(sd[0].shape)\n",
    "  print(sd[1].shape)\n",
    "  break"
   ]
  },
  {
   "cell_type": "markdown",
   "metadata": {
    "id": "EKUWp3iZ2kDP"
   },
   "source": [
    "## Pytorchで学習"
   ]
  },
  {
   "cell_type": "code",
   "execution_count": 88,
   "metadata": {
    "executionInfo": {
     "elapsed": 375,
     "status": "ok",
     "timestamp": 1636453161958,
     "user": {
      "displayName": "松永大希",
      "photoUrl": "https://lh3.googleusercontent.com/a/default-user=s64",
      "userId": "15035745520490838496"
     },
     "user_tz": -540
    },
    "id": "s8sRdEYG3TRT"
   },
   "outputs": [],
   "source": [
    "def torch_train(model, train_dataset, valid_dataset, criterion, optimizer,\n",
    "                epochs=20, batch_size=16, verbose=0, threshold=0.5):\n",
    "  # pytorchで学習を行う。\n",
    "  for epoch in range(epochs):\n",
    "    # 学習モードにする。\n",
    "    model.train()\n",
    "    # train_dataloaderを定義する。\n",
    "    train_dataloader = DataLoader(train_dataset, batch_size=batch_size, shuffle=True)\n",
    "    # train_lossを記録する。\n",
    "    train_loss = 0.0\n",
    "    for td in train_dataloader:\n",
    "      # optimizerの勾配をリセット\n",
    "      optimizer.zero_grad()\n",
    "      # inputとtargetを定義\n",
    "      input = td[0]\n",
    "      target = td[1]\n",
    "      output = model(input)\n",
    "      # lossを求める。\n",
    "      loss = criterion(output, target)\n",
    "      train_loss += loss.item()\n",
    "      # 逆伝搬\n",
    "      loss.backward()\n",
    "      # optimizerを更新\n",
    "      optimizer.step()\n",
    "\n",
    "    # 評価モードにする。\n",
    "    model.eval()\n",
    "    # valid_dataloderを定義する\n",
    "    valid_dataloader = DataLoader(valid_dataset, batch_size=batch_size, shuffle=False)\n",
    "    # outputとtargetを格納するリスト(accuracyの計算で使う。)\n",
    "    targets = []\n",
    "    outputs = []\n",
    "    # lossを記録する。\n",
    "    valid_loss = 0.0\n",
    "    # 勾配計算をしないようにする。\n",
    "    with torch.no_grad():\n",
    "      for vd in valid_dataloader:\n",
    "        input = vd[0]\n",
    "        target = vd[1]\n",
    "        output = model(input)\n",
    "        loss = criterion(output, target)\n",
    "        # target, output, lossを記録する。\n",
    "        targets.extend(target.numpy())\n",
    "        outputs.extend(output.numpy())\n",
    "        valid_loss += loss.item()\n",
    "    outputs = np.where(np.array(outputs) < threshold, 0, 1)\n",
    "    valid_accuracy = accuracy_score(outputs, targets)\n",
    "    if verbose != 0 and (epoch) % verbose == 0:\n",
    "      print(f'epoch{epoch+1}')\n",
    "      print(\"train loss : {}        valid_loss : {}       valid_accuracy : {}\".format(train_loss, valid_loss, valid_accuracy))\n",
    "\n",
    "  return model\n",
    "\n",
    "def torch_predict(model, test_dataset, batch_size=16, threshold=0.5):\n",
    "  # pytorchで学習したモデルを利用して予測を行う。\n",
    "  model.eval()\n",
    "  test_dataloader = DataLoader(test_dataset, batch_size=batch_size, shuffle=False)\n",
    "  test_probs = []  # 予測値を格納するリスト\n",
    "  # 勾配計算をしないようにする。\n",
    "  with torch.no_grad():\n",
    "    for ted in test_dataloader:\n",
    "      input = ted[0]\n",
    "      output = model(input)\n",
    "      test_probs.extend(output.numpy())\n",
    "  test_preds = np.where(np.array(test_probs) < threshold, 0, 1)\n",
    "  return test_preds"
   ]
  },
  {
   "cell_type": "code",
   "execution_count": 89,
   "metadata": {
    "colab": {
     "base_uri": "https://localhost:8080/"
    },
    "executionInfo": {
     "elapsed": 10039,
     "status": "ok",
     "timestamp": 1636453171994,
     "user": {
      "displayName": "松永大希",
      "photoUrl": "https://lh3.googleusercontent.com/a/default-user=s64",
      "userId": "15035745520490838496"
     },
     "user_tz": -540
    },
    "id": "mC65SBR8B-9A",
    "outputId": "054eaa2d-a6f0-488b-c6e8-6f3c5e0d5d69"
   },
   "outputs": [
    {
     "name": "stdout",
     "output_type": "stream",
     "text": [
      "epoch1\n",
      "train loss : 29.052180230617523        valid_loss : 6.094848453998566       valid_accuracy : 0.776536312849162\n",
      "epoch2\n",
      "train loss : 25.014594167470932        valid_loss : 6.225804626941681       valid_accuracy : 0.770949720670391\n",
      "epoch3\n",
      "train loss : 23.061429053544998        valid_loss : 5.970846593379974       valid_accuracy : 0.7821229050279329\n",
      "epoch4\n",
      "train loss : 21.693679824471474        valid_loss : 5.787984237074852       valid_accuracy : 0.8212290502793296\n",
      "epoch5\n",
      "train loss : 21.842391073703766        valid_loss : 5.457716062664986       valid_accuracy : 0.776536312849162\n",
      "epoch6\n",
      "train loss : 20.3119033575058        valid_loss : 5.897383958101273       valid_accuracy : 0.8044692737430168\n",
      "epoch7\n",
      "train loss : 20.321448355913162        valid_loss : 5.5431570410728455       valid_accuracy : 0.770949720670391\n",
      "epoch8\n",
      "train loss : 20.3828115016222        valid_loss : 6.00776469707489       valid_accuracy : 0.770949720670391\n",
      "epoch9\n",
      "train loss : 19.623865351080894        valid_loss : 5.589214399456978       valid_accuracy : 0.776536312849162\n",
      "epoch10\n",
      "train loss : 19.71426136791706        valid_loss : 5.595263719558716       valid_accuracy : 0.770949720670391\n",
      "epoch11\n",
      "train loss : 19.27539460361004        valid_loss : 5.525822341442108       valid_accuracy : 0.7877094972067039\n",
      "epoch12\n",
      "train loss : 20.85302658379078        valid_loss : 5.489954397082329       valid_accuracy : 0.7988826815642458\n",
      "epoch13\n",
      "train loss : 19.814750656485558        valid_loss : 5.575706243515015       valid_accuracy : 0.7932960893854749\n",
      "epoch14\n",
      "train loss : 19.61016593873501        valid_loss : 5.79731248319149       valid_accuracy : 0.7988826815642458\n",
      "epoch15\n",
      "train loss : 19.56155675649643        valid_loss : 6.191217541694641       valid_accuracy : 0.776536312849162\n",
      "epoch16\n",
      "train loss : 21.518090069293976        valid_loss : 5.6650252640247345       valid_accuracy : 0.7821229050279329\n",
      "epoch17\n",
      "train loss : 19.195221439003944        valid_loss : 5.859801262617111       valid_accuracy : 0.776536312849162\n",
      "epoch18\n",
      "train loss : 18.31402187049389        valid_loss : 5.761821463704109       valid_accuracy : 0.7877094972067039\n",
      "epoch19\n",
      "train loss : 17.80540381371975        valid_loss : 5.838359624147415       valid_accuracy : 0.7821229050279329\n",
      "epoch20\n",
      "train loss : 19.259899109601974        valid_loss : 5.748010531067848       valid_accuracy : 0.7932960893854749\n",
      "[0 0 0 0 0 0 0 0 1 0 0 0 1 0 1 1 0 0 0 0 0 0 1 0 1 0 1 0 0 0 0 0 0 0 0 0 0\n",
      " 0 0 0 0 0 0 1 1 0 0 0 1 0 0 0 0 1 0 0 0 0 0 1 0 0 0 1 1 1 1 0 0 1 0 0 0 0\n",
      " 1 1 0 1 0 0 0 1 0 0 0 0 0 0 0 0 0 0 1 0 0 0 1 0 0 0 1 0 0 0 1 0 0 0 0 0 0\n",
      " 0 1 1 1 0 0 1 0 1 1 0 1 0 0 1 0 0 0 0 0 0 0 0 0 0 0 0 0 0 0 1 1 0 0 0 0 0\n",
      " 0 0 1 0 0 0 0 0 1 0 0 0 0 0 1 0 0 0 0 0 1 0 0 0 0 0 0 1 1 0 1 1 0 0 1 0 1\n",
      " 0 1 0 0 0 0 0 0 0 1 0 1 0 0 0 1 1 1 1 0 0 0 0 1 0 0 0 0 0 0 0 0 0 1 0 1 0\n",
      " 1 0 1 0 0 0 0 0 0 1 0 0 0 0 0 0 0 1 1 0 0 0 0 0 1 0 1 0 1 0 1 0 0 0 0 0 1\n",
      " 0 0 0 0 1 0 0 0 0 0 0 0 0 1 0 0 1 0 0 0 0 0 0 0 1 1 0 0 0 0 0 0 0 0 0 0 0\n",
      " 1 0 0 0 0 0 0 0 0 1 0 0 0 0 0 0 0 0 1 1 1 0 0 0 0 0 0 0 1 0 1 0 0 0 0 0 0\n",
      " 1 0 1 0 0 0 0 0 0 0 1 0 1 0 0 0 1 1 0 0 0 1 0 1 0 0 0 0 1 1 0 1 0 0 1 1 0\n",
      " 0 1 0 0 1 1 0 0 0 0 0 0 0 0 0 1 0 0 0 0 1 1 0 0 0 1 0 1 0 0 1 0 1 0 0 0 0\n",
      " 1 0 1 0 1 0 0 1 0 0 0]\n"
     ]
    }
   ],
   "source": [
    "from torch.nn import BCELoss\n",
    "from torch.optim import SGD, Adam\n",
    "# ハイパーパラメータを設定\n",
    "EPOCHS = 20\n",
    "HID_DIM = 256\n",
    "DROP_RATE = 0.1\n",
    "BATCH_SIZE=16\n",
    "feature_dim = X.shape[1]\n",
    "\n",
    "# 評価用データを作成する。一旦HoldOut法で行う。\n",
    "X_train, X_val, y_train, y_val = train_test_split(X, y, test_size=0.2, shuffle=True, random_state=42)\n",
    "\n",
    "# datasetを定義する。\n",
    "train_dataset = MLPDataset(X_train, y_train)\n",
    "valid_dataset = MLPDataset(X_val, y_val)\n",
    "test_dataset = MLPDataset(X_test, test=True)\n",
    "\n",
    "# モデルを定義する。\n",
    "model = MLP(feature_dim, hid_dim=HID_DIM, drop_rate=DROP_RATE)\n",
    "# 損失関数と最適化関数を定義する。\n",
    "criterion = BCELoss()\n",
    "optimizer = Adam(model.parameters(), lr=0.01)\n",
    "\n",
    "# modelを学習する。\n",
    "model = torch_train(model, train_dataset, valid_dataset, criterion, optimizer,\n",
    "                    epochs=EPOCHS, batch_size=BATCH_SIZE, verbose=1)\n",
    "# 予測する。\n",
    "test_preds = torch_predict(model, test_dataset, batch_size=BATCH_SIZE)\n",
    "print(test_preds)"
   ]
  },
  {
   "cell_type": "code",
   "execution_count": 90,
   "metadata": {
    "executionInfo": {
     "elapsed": 23,
     "status": "ok",
     "timestamp": 1636453171995,
     "user": {
      "displayName": "松永大希",
      "photoUrl": "https://lh3.googleusercontent.com/a/default-user=s64",
      "userId": "15035745520490838496"
     },
     "user_tz": -540
    },
    "id": "k5FWn4cRCVem"
   },
   "outputs": [],
   "source": [
    "if issubmit:\n",
    "    os.makedirs('submit/', exist_ok=True)\n",
    "    # submissionのサンプルファイルを読み込む\n",
    "    submit = pd.read_csv('gender_submission.csv')\n",
    "    # サンプルファイルのtargetカラムをtest_predsに置き換える。\n",
    "    submit['Survived'] = test_preds\n",
    "    # 提出\n",
    "    submit.to_csv('submit/my_submit5.csv', index=False)"
   ]
  },
  {
   "cell_type": "markdown",
   "metadata": {
    "id": "beUDPSVlDJEo"
   },
   "source": [
    "## Cross Validationを実装する。\n",
    "\n",
    "pytorchの学習と予測は独自で、関数化してあるため実装は、そこまで難しくないはずである。"
   ]
  },
  {
   "cell_type": "code",
   "execution_count": 91,
   "metadata": {
    "colab": {
     "base_uri": "https://localhost:8080/"
    },
    "executionInfo": {
     "elapsed": 49873,
     "status": "ok",
     "timestamp": 1636453221847,
     "user": {
      "displayName": "松永大希",
      "photoUrl": "https://lh3.googleusercontent.com/a/default-user=s64",
      "userId": "15035745520490838496"
     },
     "user_tz": -540
    },
    "id": "LnIlwOd6CTD6",
    "outputId": "b54c127d-c59d-498d-9243-2ccdd51ac575"
   },
   "outputs": [
    {
     "name": "stdout",
     "output_type": "stream",
     "text": [
      "fold1\n",
      "0.770949720670391\n",
      "----------------------------------------\n",
      "fold2\n",
      "0.8146067415730337\n",
      "----------------------------------------\n",
      "fold3\n",
      "0.8033707865168539\n",
      "----------------------------------------\n",
      "fold4\n",
      "0.7808988764044944\n",
      "----------------------------------------\n",
      "fold5\n",
      "0.8089887640449438\n",
      "----------------------------------------\n",
      "oof score :  0.7957351290684624\n"
     ]
    }
   ],
   "source": [
    "from sklearn.model_selection import StratifiedKFold\n",
    "\n",
    "# ハイパーパラメータを設定\n",
    "EPOCHS = 20\n",
    "HID_DIM = 256\n",
    "DROP_RATE = 0.1\n",
    "BATCH_SIZE=16\n",
    "feature_dim = X.shape[1]\n",
    "\n",
    "FOLD = 5\n",
    "# StratifiedKFoldのインスタンスを定義する。\n",
    "skf = StratifiedKFold(n_splits=FOLD, shuffle=True, random_state=42)\n",
    "\n",
    "oof_preds = np.zeros(len(X))\n",
    "test_probs = np.zeros(len(X_test))  # testデータの予測を格納するnumpy配列\n",
    "\n",
    "# 各FOLDで学習を行う。\n",
    "for i, (tr_idx, va_idx) in enumerate(skf.split(X, y)):\n",
    "  print(f'fold{i+1}')\n",
    "  # データを定義\n",
    "  X_train, X_val = X.iloc[tr_idx], X.iloc[va_idx]\n",
    "  y_train, y_val = y[tr_idx], y[va_idx]\n",
    "  \n",
    "  # データのスケーリングを行う。\n",
    "  sca = StandardScaler()\n",
    "  X_train_sca = sca.fit_transform(X_train)\n",
    "  X_val_sca = sca.transform(X_val)\n",
    "  X_test_sca = sca.transform(X_test)\n",
    "\n",
    "  # データセットを作成する。\n",
    "  train_dataset = MLPDataset(X_train, y_train)\n",
    "  valid_dataset = MLPDataset(X_val, y_val)\n",
    "  test_dataset = MLPDataset(X_test, test=True)\n",
    "\n",
    "  # モデルを定義する。\n",
    "  model = MLP(feature_dim, hid_dim=HID_DIM, drop_rate=DROP_RATE)\n",
    "  # 損失関数と最適化関数を定義する。\n",
    "  criterion = BCELoss()\n",
    "  optimizer = Adam(model.parameters(), lr=0.01)\n",
    "\n",
    "  # 学習\n",
    "  model = torch_train(model, train_dataset,\n",
    "                      valid_dataset, \n",
    "                      criterion,\n",
    "                      optimizer,\n",
    "                      epochs=EPOCHS, \n",
    "                      batch_size=BATCH_SIZE,\n",
    "                      verbose=0)\n",
    "  \n",
    "  # valデータを予測する。\n",
    "  threshold = 0.5\n",
    "  val_preds = torch_predict(model, valid_dataset,\n",
    "                            batch_size=BATCH_SIZE,\n",
    "                            threshold=threshold)\n",
    "\n",
    "  # スコアを出力\n",
    "  print(accuracy_score(y_val, val_preds))\n",
    "\n",
    "  # 予測結果をoof_predsに格納\n",
    "  oof_preds[va_idx] = val_preds\n",
    "\n",
    "  # testデータを予測しtest_probsに加算\n",
    "  test_probs += torch_predict(model, test_dataset,\n",
    "                            batch_size=BATCH_SIZE,\n",
    "                            threshold=threshold)\n",
    "  print('-'*40)\n",
    "\n",
    "# test_probsをFOLD数で割る\n",
    "test_probs /= FOLD\n",
    "# 予測を二値化する\n",
    "test_preds = np.where(test_probs < threshold, 0, 1)\n",
    "\n",
    "# oofのスコアを算出\n",
    "print('oof score : ', accuracy_score(y, oof_preds))"
   ]
  },
  {
   "cell_type": "code",
   "execution_count": 92,
   "metadata": {
    "executionInfo": {
     "elapsed": 11,
     "status": "ok",
     "timestamp": 1636453221848,
     "user": {
      "displayName": "松永大希",
      "photoUrl": "https://lh3.googleusercontent.com/a/default-user=s64",
      "userId": "15035745520490838496"
     },
     "user_tz": -540
    },
    "id": "9o-c8LGWFGFD"
   },
   "outputs": [],
   "source": [
    "if issubmit:\n",
    "    os.makedirs('submit/', exist_ok=True)\n",
    "    # submissionのサンプルファイルを読み込む\n",
    "    submit = pd.read_csv('gender_submission.csv')\n",
    "    # サンプルファイルのtargetカラムをtest_predsに置き換える。\n",
    "    submit['Survived'] = test_preds\n",
    "    # 提出\n",
    "    submit.to_csv('submit/my_submit6.csv', index=False)"
   ]
  },
  {
   "cell_type": "markdown",
   "metadata": {
    "id": "012MiKLm7etK"
   },
   "source": [
    "## 参考サイト\n",
    "- Kerasの公式ドキュメント : https://keras.io/ja/\n",
    "- Pytorchの公式ドキュメント : https://pytorch.org/docs/stable/index.html\n",
    "- Pytorchでテーブルデータを処理する方法 : https://towardsdatascience.com/deep-learning-using-pytorch-for-tabular-data-c68017d8b480"
   ]
  }
 ],
 "metadata": {
  "colab": {
   "authorship_tag": "ABX9TyNyexX2xa9nf0zk7z7he/9x",
   "collapsed_sections": [],
   "mount_file_id": "1gra5z3nnx17HZTHBtChXlbwOQ0Gwmt6J",
   "name": "Titanic_neuralnet_answer.ipynb",
   "provenance": []
  },
  "kernelspec": {
   "display_name": "Python 3 (ipykernel)",
   "language": "python",
   "name": "python3"
  },
  "language_info": {
   "codemirror_mode": {
    "name": "ipython",
    "version": 3
   },
   "file_extension": ".py",
   "mimetype": "text/x-python",
   "name": "python",
   "nbconvert_exporter": "python",
   "pygments_lexer": "ipython3",
   "version": "3.8.10"
  }
 },
 "nbformat": 4,
 "nbformat_minor": 4
}
