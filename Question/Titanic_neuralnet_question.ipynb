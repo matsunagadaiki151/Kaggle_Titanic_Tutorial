{
 "cells": [
  {
   "cell_type": "markdown",
   "metadata": {
    "id": "KdSjS7FEfzgk"
   },
   "source": [
    "## 準備\n",
    "\n",
    "1. KaggleのTitanic Datasetは必要なのでダウンロードしてGoogle Driveに上げる。 \\\n",
    "https://www.kaggle.com/c/titanic/data よりダウンロードが可能(Kaggleアカウントが必要) \n",
    "\n",
    "以下を`drive/MyDrive/Kaggle` 下に配置する。\n",
    "- gender_submission.csv\n",
    "- train.csv\n",
    "- test.csv\n",
    "\n",
    "2. ドライブをマウントする。 \\\n",
    "左のフォルダのアイコンからやる。"
   ]
  },
  {
   "cell_type": "markdown",
   "metadata": {
    "id": "oiRjWd2fgzWW"
   },
   "source": [
    "## 以下コード"
   ]
  },
  {
   "cell_type": "markdown",
   "metadata": {
    "id": "P8agfgPajDqG"
   },
   "source": [
    "### データの読み込み"
   ]
  },
  {
   "cell_type": "code",
   "execution_count": null,
   "metadata": {
    "colab": {
     "base_uri": "https://localhost:8080/"
    },
    "executionInfo": {
     "elapsed": 6505,
     "status": "ok",
     "timestamp": 1636450257388,
     "user": {
      "displayName": "松永大希",
      "photoUrl": "https://lh3.googleusercontent.com/a/default-user=s64",
      "userId": "15035745520490838496"
     },
     "user_tz": -540
    },
    "id": "OcS-dUkveVNY",
    "outputId": "94f20bd1-48ba-4361-f4e0-47de3c0fb654"
   },
   "outputs": [
    {
     "name": "stdout",
     "output_type": "stream",
     "text": [
      "Requirement already satisfied: matplotlib==3.3.3 in /usr/local/lib/python3.7/dist-packages (3.3.3)\n",
      "Requirement already satisfied: cycler>=0.10 in /usr/local/lib/python3.7/dist-packages (from matplotlib==3.3.3) (0.10.0)\n",
      "Requirement already satisfied: python-dateutil>=2.1 in /usr/local/lib/python3.7/dist-packages (from matplotlib==3.3.3) (2.8.2)\n",
      "Requirement already satisfied: numpy>=1.15 in /usr/local/lib/python3.7/dist-packages (from matplotlib==3.3.3) (1.19.5)\n",
      "Requirement already satisfied: kiwisolver>=1.0.1 in /usr/local/lib/python3.7/dist-packages (from matplotlib==3.3.3) (1.3.2)\n",
      "Requirement already satisfied: pillow>=6.2.0 in /usr/local/lib/python3.7/dist-packages (from matplotlib==3.3.3) (7.1.2)\n",
      "Requirement already satisfied: pyparsing!=2.0.4,!=2.1.2,!=2.1.6,>=2.0.3 in /usr/local/lib/python3.7/dist-packages (from matplotlib==3.3.3) (2.4.7)\n",
      "Requirement already satisfied: six in /usr/local/lib/python3.7/dist-packages (from cycler>=0.10->matplotlib==3.3.3) (1.15.0)\n",
      "Requirement already satisfied: category_encoders in /usr/local/lib/python3.7/dist-packages (2.3.0)\n",
      "Requirement already satisfied: numpy>=1.14.0 in /usr/local/lib/python3.7/dist-packages (from category_encoders) (1.19.5)\n",
      "Requirement already satisfied: scipy>=1.0.0 in /usr/local/lib/python3.7/dist-packages (from category_encoders) (1.4.1)\n",
      "Requirement already satisfied: patsy>=0.5.1 in /usr/local/lib/python3.7/dist-packages (from category_encoders) (0.5.2)\n",
      "Requirement already satisfied: scikit-learn>=0.20.0 in /usr/local/lib/python3.7/dist-packages (from category_encoders) (0.22.2.post1)\n",
      "Requirement already satisfied: statsmodels>=0.9.0 in /usr/local/lib/python3.7/dist-packages (from category_encoders) (0.10.2)\n",
      "Requirement already satisfied: pandas>=0.21.1 in /usr/local/lib/python3.7/dist-packages (from category_encoders) (1.1.5)\n",
      "Requirement already satisfied: python-dateutil>=2.7.3 in /usr/local/lib/python3.7/dist-packages (from pandas>=0.21.1->category_encoders) (2.8.2)\n",
      "Requirement already satisfied: pytz>=2017.2 in /usr/local/lib/python3.7/dist-packages (from pandas>=0.21.1->category_encoders) (2018.9)\n",
      "Requirement already satisfied: six in /usr/local/lib/python3.7/dist-packages (from patsy>=0.5.1->category_encoders) (1.15.0)\n",
      "Requirement already satisfied: joblib>=0.11 in /usr/local/lib/python3.7/dist-packages (from scikit-learn>=0.20.0->category_encoders) (1.0.1)\n"
     ]
    }
   ],
   "source": [
    "# 必要なものをインストール\n",
    "!pip install matplotlib==3.3.3\n",
    "!pip install category_encoders"
   ]
  },
  {
   "cell_type": "code",
   "execution_count": null,
   "metadata": {
    "colab": {
     "base_uri": "https://localhost:8080/"
    },
    "executionInfo": {
     "elapsed": 8,
     "status": "ok",
     "timestamp": 1636450257388,
     "user": {
      "displayName": "松永大希",
      "photoUrl": "https://lh3.googleusercontent.com/a/default-user=s64",
      "userId": "15035745520490838496"
     },
     "user_tz": -540
    },
    "id": "wLJ7wyxFg6bd",
    "outputId": "4608522d-34fc-4d30-8e57-659ec18e5a2e"
   },
   "outputs": [
    {
     "name": "stdout",
     "output_type": "stream",
     "text": [
      "/content/drive/MyDrive/Kaggle\n"
     ]
    }
   ],
   "source": [
    "# データセットが入っているフォルダに移動\n",
    "%cd /content/drive/MyDrive/Kaggle"
   ]
  },
  {
   "cell_type": "code",
   "execution_count": null,
   "metadata": {
    "colab": {
     "base_uri": "https://localhost:8080/"
    },
    "executionInfo": {
     "elapsed": 436,
     "status": "ok",
     "timestamp": 1636450257820,
     "user": {
      "displayName": "松永大希",
      "photoUrl": "https://lh3.googleusercontent.com/a/default-user=s64",
      "userId": "15035745520490838496"
     },
     "user_tz": -540
    },
    "id": "yIB3gfzNeg2o",
    "outputId": "a30ab925-db08-4f7e-fe56-fe29988c3978"
   },
   "outputs": [
    {
     "name": "stderr",
     "output_type": "stream",
     "text": [
      "/usr/local/lib/python3.7/dist-packages/statsmodels/tools/_testing.py:19: FutureWarning: pandas.util.testing is deprecated. Use the functions in the public API at pandas.testing instead.\n",
      "  import pandas.util.testing as tm\n"
     ]
    }
   ],
   "source": [
    "# 必要なライブラリをインストール\n",
    "import numpy as np\n",
    "import pandas as pd\n",
    "import matplotlib.pyplot as plt\n",
    "import lightgbm as lgb\n",
    "import category_encoders as ce"
   ]
  },
  {
   "cell_type": "code",
   "execution_count": null,
   "metadata": {
    "colab": {
     "base_uri": "https://localhost:8080/",
     "height": 221
    },
    "executionInfo": {
     "elapsed": 7,
     "status": "ok",
     "timestamp": 1636450257820,
     "user": {
      "displayName": "松永大希",
      "photoUrl": "https://lh3.googleusercontent.com/a/default-user=s64",
      "userId": "15035745520490838496"
     },
     "user_tz": -540
    },
    "id": "qcNdaZKzhyeO",
    "outputId": "86f42381-6e71-4d71-8e3f-535c5576c160"
   },
   "outputs": [
    {
     "name": "stdout",
     "output_type": "stream",
     "text": [
      "(891, 12)\n"
     ]
    },
    {
     "data": {
      "text/html": [
       "<div>\n",
       "<style scoped>\n",
       "    .dataframe tbody tr th:only-of-type {\n",
       "        vertical-align: middle;\n",
       "    }\n",
       "\n",
       "    .dataframe tbody tr th {\n",
       "        vertical-align: top;\n",
       "    }\n",
       "\n",
       "    .dataframe thead th {\n",
       "        text-align: right;\n",
       "    }\n",
       "</style>\n",
       "<table border=\"1\" class=\"dataframe\">\n",
       "  <thead>\n",
       "    <tr style=\"text-align: right;\">\n",
       "      <th></th>\n",
       "      <th>PassengerId</th>\n",
       "      <th>Survived</th>\n",
       "      <th>Pclass</th>\n",
       "      <th>Name</th>\n",
       "      <th>Sex</th>\n",
       "      <th>Age</th>\n",
       "      <th>SibSp</th>\n",
       "      <th>Parch</th>\n",
       "      <th>Ticket</th>\n",
       "      <th>Fare</th>\n",
       "      <th>Cabin</th>\n",
       "      <th>Embarked</th>\n",
       "    </tr>\n",
       "  </thead>\n",
       "  <tbody>\n",
       "    <tr>\n",
       "      <th>0</th>\n",
       "      <td>1</td>\n",
       "      <td>0</td>\n",
       "      <td>3</td>\n",
       "      <td>Braund, Mr. Owen Harris</td>\n",
       "      <td>male</td>\n",
       "      <td>22.0</td>\n",
       "      <td>1</td>\n",
       "      <td>0</td>\n",
       "      <td>A/5 21171</td>\n",
       "      <td>7.2500</td>\n",
       "      <td>NaN</td>\n",
       "      <td>S</td>\n",
       "    </tr>\n",
       "    <tr>\n",
       "      <th>1</th>\n",
       "      <td>2</td>\n",
       "      <td>1</td>\n",
       "      <td>1</td>\n",
       "      <td>Cumings, Mrs. John Bradley (Florence Briggs Th...</td>\n",
       "      <td>female</td>\n",
       "      <td>38.0</td>\n",
       "      <td>1</td>\n",
       "      <td>0</td>\n",
       "      <td>PC 17599</td>\n",
       "      <td>71.2833</td>\n",
       "      <td>C85</td>\n",
       "      <td>C</td>\n",
       "    </tr>\n",
       "    <tr>\n",
       "      <th>2</th>\n",
       "      <td>3</td>\n",
       "      <td>1</td>\n",
       "      <td>3</td>\n",
       "      <td>Heikkinen, Miss. Laina</td>\n",
       "      <td>female</td>\n",
       "      <td>26.0</td>\n",
       "      <td>0</td>\n",
       "      <td>0</td>\n",
       "      <td>STON/O2. 3101282</td>\n",
       "      <td>7.9250</td>\n",
       "      <td>NaN</td>\n",
       "      <td>S</td>\n",
       "    </tr>\n",
       "    <tr>\n",
       "      <th>3</th>\n",
       "      <td>4</td>\n",
       "      <td>1</td>\n",
       "      <td>1</td>\n",
       "      <td>Futrelle, Mrs. Jacques Heath (Lily May Peel)</td>\n",
       "      <td>female</td>\n",
       "      <td>35.0</td>\n",
       "      <td>1</td>\n",
       "      <td>0</td>\n",
       "      <td>113803</td>\n",
       "      <td>53.1000</td>\n",
       "      <td>C123</td>\n",
       "      <td>S</td>\n",
       "    </tr>\n",
       "    <tr>\n",
       "      <th>4</th>\n",
       "      <td>5</td>\n",
       "      <td>0</td>\n",
       "      <td>3</td>\n",
       "      <td>Allen, Mr. William Henry</td>\n",
       "      <td>male</td>\n",
       "      <td>35.0</td>\n",
       "      <td>0</td>\n",
       "      <td>0</td>\n",
       "      <td>373450</td>\n",
       "      <td>8.0500</td>\n",
       "      <td>NaN</td>\n",
       "      <td>S</td>\n",
       "    </tr>\n",
       "  </tbody>\n",
       "</table>\n",
       "</div>"
      ],
      "text/plain": [
       "   PassengerId  Survived  Pclass  ...     Fare Cabin  Embarked\n",
       "0            1         0       3  ...   7.2500   NaN         S\n",
       "1            2         1       1  ...  71.2833   C85         C\n",
       "2            3         1       3  ...   7.9250   NaN         S\n",
       "3            4         1       1  ...  53.1000  C123         S\n",
       "4            5         0       3  ...   8.0500   NaN         S\n",
       "\n",
       "[5 rows x 12 columns]"
      ]
     },
     "execution_count": 4,
     "metadata": {},
     "output_type": "execute_result"
    }
   ],
   "source": [
    "# 学習用データを読み込む\n",
    "# 形状を確認\n",
    "# 最初の5行を見る。\n",
    "---write your code(3 rows)---"
   ]
  },
  {
   "cell_type": "code",
   "execution_count": null,
   "metadata": {
    "colab": {
     "base_uri": "https://localhost:8080/",
     "height": 221
    },
    "executionInfo": {
     "elapsed": 371,
     "status": "ok",
     "timestamp": 1636450258188,
     "user": {
      "displayName": "松永大希",
      "photoUrl": "https://lh3.googleusercontent.com/a/default-user=s64",
      "userId": "15035745520490838496"
     },
     "user_tz": -540
    },
    "id": "ptzg9cqkh4Bc",
    "outputId": "39e9abea-9f07-4794-d842-c1304ea7e981"
   },
   "outputs": [
    {
     "name": "stdout",
     "output_type": "stream",
     "text": [
      "(418, 11)\n"
     ]
    },
    {
     "data": {
      "text/html": [
       "<div>\n",
       "<style scoped>\n",
       "    .dataframe tbody tr th:only-of-type {\n",
       "        vertical-align: middle;\n",
       "    }\n",
       "\n",
       "    .dataframe tbody tr th {\n",
       "        vertical-align: top;\n",
       "    }\n",
       "\n",
       "    .dataframe thead th {\n",
       "        text-align: right;\n",
       "    }\n",
       "</style>\n",
       "<table border=\"1\" class=\"dataframe\">\n",
       "  <thead>\n",
       "    <tr style=\"text-align: right;\">\n",
       "      <th></th>\n",
       "      <th>PassengerId</th>\n",
       "      <th>Pclass</th>\n",
       "      <th>Name</th>\n",
       "      <th>Sex</th>\n",
       "      <th>Age</th>\n",
       "      <th>SibSp</th>\n",
       "      <th>Parch</th>\n",
       "      <th>Ticket</th>\n",
       "      <th>Fare</th>\n",
       "      <th>Cabin</th>\n",
       "      <th>Embarked</th>\n",
       "    </tr>\n",
       "  </thead>\n",
       "  <tbody>\n",
       "    <tr>\n",
       "      <th>0</th>\n",
       "      <td>892</td>\n",
       "      <td>3</td>\n",
       "      <td>Kelly, Mr. James</td>\n",
       "      <td>male</td>\n",
       "      <td>34.5</td>\n",
       "      <td>0</td>\n",
       "      <td>0</td>\n",
       "      <td>330911</td>\n",
       "      <td>7.8292</td>\n",
       "      <td>NaN</td>\n",
       "      <td>Q</td>\n",
       "    </tr>\n",
       "    <tr>\n",
       "      <th>1</th>\n",
       "      <td>893</td>\n",
       "      <td>3</td>\n",
       "      <td>Wilkes, Mrs. James (Ellen Needs)</td>\n",
       "      <td>female</td>\n",
       "      <td>47.0</td>\n",
       "      <td>1</td>\n",
       "      <td>0</td>\n",
       "      <td>363272</td>\n",
       "      <td>7.0000</td>\n",
       "      <td>NaN</td>\n",
       "      <td>S</td>\n",
       "    </tr>\n",
       "    <tr>\n",
       "      <th>2</th>\n",
       "      <td>894</td>\n",
       "      <td>2</td>\n",
       "      <td>Myles, Mr. Thomas Francis</td>\n",
       "      <td>male</td>\n",
       "      <td>62.0</td>\n",
       "      <td>0</td>\n",
       "      <td>0</td>\n",
       "      <td>240276</td>\n",
       "      <td>9.6875</td>\n",
       "      <td>NaN</td>\n",
       "      <td>Q</td>\n",
       "    </tr>\n",
       "    <tr>\n",
       "      <th>3</th>\n",
       "      <td>895</td>\n",
       "      <td>3</td>\n",
       "      <td>Wirz, Mr. Albert</td>\n",
       "      <td>male</td>\n",
       "      <td>27.0</td>\n",
       "      <td>0</td>\n",
       "      <td>0</td>\n",
       "      <td>315154</td>\n",
       "      <td>8.6625</td>\n",
       "      <td>NaN</td>\n",
       "      <td>S</td>\n",
       "    </tr>\n",
       "    <tr>\n",
       "      <th>4</th>\n",
       "      <td>896</td>\n",
       "      <td>3</td>\n",
       "      <td>Hirvonen, Mrs. Alexander (Helga E Lindqvist)</td>\n",
       "      <td>female</td>\n",
       "      <td>22.0</td>\n",
       "      <td>1</td>\n",
       "      <td>1</td>\n",
       "      <td>3101298</td>\n",
       "      <td>12.2875</td>\n",
       "      <td>NaN</td>\n",
       "      <td>S</td>\n",
       "    </tr>\n",
       "  </tbody>\n",
       "</table>\n",
       "</div>"
      ],
      "text/plain": [
       "   PassengerId  Pclass  ... Cabin Embarked\n",
       "0          892       3  ...   NaN        Q\n",
       "1          893       3  ...   NaN        S\n",
       "2          894       2  ...   NaN        Q\n",
       "3          895       3  ...   NaN        S\n",
       "4          896       3  ...   NaN        S\n",
       "\n",
       "[5 rows x 11 columns]"
      ]
     },
     "execution_count": 5,
     "metadata": {},
     "output_type": "execute_result"
    }
   ],
   "source": [
    "# テストデータを読み込む\n",
    "# 形状を確認\n",
    "# 最後の5行を見る。\n",
    "---write your code(3 rows)---"
   ]
  },
  {
   "cell_type": "code",
   "execution_count": null,
   "metadata": {
    "colab": {
     "base_uri": "https://localhost:8080/"
    },
    "executionInfo": {
     "elapsed": 17,
     "status": "ok",
     "timestamp": 1636450258190,
     "user": {
      "displayName": "松永大希",
      "photoUrl": "https://lh3.googleusercontent.com/a/default-user=s64",
      "userId": "15035745520490838496"
     },
     "user_tz": -540
    },
    "id": "Iexy11VFiQra",
    "outputId": "37fc65b8-2493-4df6-bcb1-dabbc42806e7"
   },
   "outputs": [
    {
     "data": {
      "text/plain": [
       "PassengerId      int64\n",
       "Survived         int64\n",
       "Pclass           int64\n",
       "Name            object\n",
       "Sex             object\n",
       "Age            float64\n",
       "SibSp            int64\n",
       "Parch            int64\n",
       "Ticket          object\n",
       "Fare           float64\n",
       "Cabin           object\n",
       "Embarked        object\n",
       "dtype: object"
      ]
     },
     "execution_count": 6,
     "metadata": {},
     "output_type": "execute_result"
    }
   ],
   "source": [
    "## 型を確認する。\n",
    "---write your code---"
   ]
  },
  {
   "cell_type": "code",
   "execution_count": null,
   "metadata": {
    "colab": {
     "base_uri": "https://localhost:8080/"
    },
    "executionInfo": {
     "elapsed": 18,
     "status": "ok",
     "timestamp": 1636450258195,
     "user": {
      "displayName": "松永大希",
      "photoUrl": "https://lh3.googleusercontent.com/a/default-user=s64",
      "userId": "15035745520490838496"
     },
     "user_tz": -540
    },
    "id": "8Sh0NzPZim-a",
    "outputId": "8f8c0b59-4c10-4758-b53b-0e89dc8388ea"
   },
   "outputs": [
    {
     "name": "stdout",
     "output_type": "stream",
     "text": [
      "PassengerId      0\n",
      "Survived         0\n",
      "Pclass           0\n",
      "Name             0\n",
      "Sex              0\n",
      "Age            177\n",
      "SibSp            0\n",
      "Parch            0\n",
      "Ticket           0\n",
      "Fare             0\n",
      "Cabin          687\n",
      "Embarked         2\n",
      "dtype: int64\n",
      "----------------------------------------\n",
      "PassengerId      0\n",
      "Pclass           0\n",
      "Name             0\n",
      "Sex              0\n",
      "Age             86\n",
      "SibSp            0\n",
      "Parch            0\n",
      "Ticket           0\n",
      "Fare             1\n",
      "Cabin          327\n",
      "Embarked         0\n",
      "dtype: int64\n"
     ]
    }
   ],
   "source": [
    "# 学習データの欠損値の数を確認する。\n",
    "---write your code---\n",
    "print('-'*40)\n",
    "# テストデータの欠損値の数を確認する。\n",
    "---write your code---"
   ]
  },
  {
   "cell_type": "markdown",
   "metadata": {
    "id": "bec-v1edjj09"
   },
   "source": [
    "## 前処理\n",
    "\n",
    "データがobject型のままではモデルが処理できないのでエンコーディングを行う。OneHot Encodingを用いる。 \n",
    "\n",
    "また、ニューラルネットワークでは欠損値をそのまま扱うことができないので補填する。今回は、欠損値は全体の平均値で補填してみる。\n",
    "\n",
    "なお、trainとtestでラベルの相違があったら困るので一度全データを結合してからエンコーディングする。"
   ]
  },
  {
   "cell_type": "code",
   "execution_count": null,
   "metadata": {
    "id": "NSq-eZm4l_VY"
   },
   "outputs": [],
   "source": [
    "## trainとtestを結合する。\n",
    "---write your code---"
   ]
  },
  {
   "cell_type": "code",
   "execution_count": null,
   "metadata": {
    "id": "YJHk2C3BNRTV"
   },
   "outputs": [],
   "source": [
    "# 欠損値を補填する。\n",
    "null_columns = ['Age', 'Cabin']\n",
    "df_cat.fillna(df_cat.mean(), inplace=True)"
   ]
  },
  {
   "cell_type": "code",
   "execution_count": null,
   "metadata": {
    "colab": {
     "base_uri": "https://localhost:8080/",
     "height": 525
    },
    "executionInfo": {
     "elapsed": 351,
     "status": "ok",
     "timestamp": 1636450258533,
     "user": {
      "displayName": "松永大希",
      "photoUrl": "https://lh3.googleusercontent.com/a/default-user=s64",
      "userId": "15035745520490838496"
     },
     "user_tz": -540
    },
    "id": "OB0Dim2Kit13",
    "outputId": "e4722f0f-badf-493a-ec68-0e37ca7546fa"
   },
   "outputs": [
    {
     "data": {
      "text/html": [
       "<div>\n",
       "<style scoped>\n",
       "    .dataframe tbody tr th:only-of-type {\n",
       "        vertical-align: middle;\n",
       "    }\n",
       "\n",
       "    .dataframe tbody tr th {\n",
       "        vertical-align: top;\n",
       "    }\n",
       "\n",
       "    .dataframe thead th {\n",
       "        text-align: right;\n",
       "    }\n",
       "</style>\n",
       "<table border=\"1\" class=\"dataframe\">\n",
       "  <thead>\n",
       "    <tr style=\"text-align: right;\">\n",
       "      <th></th>\n",
       "      <th>PassengerId</th>\n",
       "      <th>Survived</th>\n",
       "      <th>Pclass</th>\n",
       "      <th>Name</th>\n",
       "      <th>Sex_1</th>\n",
       "      <th>Sex_2</th>\n",
       "      <th>Age</th>\n",
       "      <th>SibSp</th>\n",
       "      <th>Parch</th>\n",
       "      <th>Ticket</th>\n",
       "      <th>Fare</th>\n",
       "      <th>Cabin_1</th>\n",
       "      <th>Cabin_2</th>\n",
       "      <th>Cabin_3</th>\n",
       "      <th>Cabin_4</th>\n",
       "      <th>Cabin_5</th>\n",
       "      <th>Cabin_6</th>\n",
       "      <th>Cabin_7</th>\n",
       "      <th>Cabin_8</th>\n",
       "      <th>Cabin_9</th>\n",
       "      <th>Cabin_10</th>\n",
       "      <th>Cabin_11</th>\n",
       "      <th>Cabin_12</th>\n",
       "      <th>Cabin_13</th>\n",
       "      <th>Cabin_14</th>\n",
       "      <th>Cabin_15</th>\n",
       "      <th>Cabin_16</th>\n",
       "      <th>Cabin_17</th>\n",
       "      <th>Cabin_18</th>\n",
       "      <th>Cabin_19</th>\n",
       "      <th>Cabin_20</th>\n",
       "      <th>Cabin_21</th>\n",
       "      <th>Cabin_22</th>\n",
       "      <th>Cabin_23</th>\n",
       "      <th>Cabin_24</th>\n",
       "      <th>Cabin_25</th>\n",
       "      <th>Cabin_26</th>\n",
       "      <th>Cabin_27</th>\n",
       "      <th>Cabin_28</th>\n",
       "      <th>Cabin_29</th>\n",
       "      <th>...</th>\n",
       "      <th>Cabin_152</th>\n",
       "      <th>Cabin_153</th>\n",
       "      <th>Cabin_154</th>\n",
       "      <th>Cabin_155</th>\n",
       "      <th>Cabin_156</th>\n",
       "      <th>Cabin_157</th>\n",
       "      <th>Cabin_158</th>\n",
       "      <th>Cabin_159</th>\n",
       "      <th>Cabin_160</th>\n",
       "      <th>Cabin_161</th>\n",
       "      <th>Cabin_162</th>\n",
       "      <th>Cabin_163</th>\n",
       "      <th>Cabin_164</th>\n",
       "      <th>Cabin_165</th>\n",
       "      <th>Cabin_166</th>\n",
       "      <th>Cabin_167</th>\n",
       "      <th>Cabin_168</th>\n",
       "      <th>Cabin_169</th>\n",
       "      <th>Cabin_170</th>\n",
       "      <th>Cabin_171</th>\n",
       "      <th>Cabin_172</th>\n",
       "      <th>Cabin_173</th>\n",
       "      <th>Cabin_174</th>\n",
       "      <th>Cabin_175</th>\n",
       "      <th>Cabin_176</th>\n",
       "      <th>Cabin_177</th>\n",
       "      <th>Cabin_178</th>\n",
       "      <th>Cabin_179</th>\n",
       "      <th>Cabin_180</th>\n",
       "      <th>Cabin_181</th>\n",
       "      <th>Cabin_182</th>\n",
       "      <th>Cabin_183</th>\n",
       "      <th>Cabin_184</th>\n",
       "      <th>Cabin_185</th>\n",
       "      <th>Cabin_186</th>\n",
       "      <th>Cabin_187</th>\n",
       "      <th>Embarked_1</th>\n",
       "      <th>Embarked_2</th>\n",
       "      <th>Embarked_3</th>\n",
       "      <th>Embarked_4</th>\n",
       "    </tr>\n",
       "  </thead>\n",
       "  <tbody>\n",
       "    <tr>\n",
       "      <th>0</th>\n",
       "      <td>1</td>\n",
       "      <td>0.0</td>\n",
       "      <td>3</td>\n",
       "      <td>Braund, Mr. Owen Harris</td>\n",
       "      <td>1</td>\n",
       "      <td>0</td>\n",
       "      <td>22.0</td>\n",
       "      <td>1</td>\n",
       "      <td>0</td>\n",
       "      <td>A/5 21171</td>\n",
       "      <td>7.2500</td>\n",
       "      <td>1</td>\n",
       "      <td>0</td>\n",
       "      <td>0</td>\n",
       "      <td>0</td>\n",
       "      <td>0</td>\n",
       "      <td>0</td>\n",
       "      <td>0</td>\n",
       "      <td>0</td>\n",
       "      <td>0</td>\n",
       "      <td>0</td>\n",
       "      <td>0</td>\n",
       "      <td>0</td>\n",
       "      <td>0</td>\n",
       "      <td>0</td>\n",
       "      <td>0</td>\n",
       "      <td>0</td>\n",
       "      <td>0</td>\n",
       "      <td>0</td>\n",
       "      <td>0</td>\n",
       "      <td>0</td>\n",
       "      <td>0</td>\n",
       "      <td>0</td>\n",
       "      <td>0</td>\n",
       "      <td>0</td>\n",
       "      <td>0</td>\n",
       "      <td>0</td>\n",
       "      <td>0</td>\n",
       "      <td>0</td>\n",
       "      <td>0</td>\n",
       "      <td>...</td>\n",
       "      <td>0</td>\n",
       "      <td>0</td>\n",
       "      <td>0</td>\n",
       "      <td>0</td>\n",
       "      <td>0</td>\n",
       "      <td>0</td>\n",
       "      <td>0</td>\n",
       "      <td>0</td>\n",
       "      <td>0</td>\n",
       "      <td>0</td>\n",
       "      <td>0</td>\n",
       "      <td>0</td>\n",
       "      <td>0</td>\n",
       "      <td>0</td>\n",
       "      <td>0</td>\n",
       "      <td>0</td>\n",
       "      <td>0</td>\n",
       "      <td>0</td>\n",
       "      <td>0</td>\n",
       "      <td>0</td>\n",
       "      <td>0</td>\n",
       "      <td>0</td>\n",
       "      <td>0</td>\n",
       "      <td>0</td>\n",
       "      <td>0</td>\n",
       "      <td>0</td>\n",
       "      <td>0</td>\n",
       "      <td>0</td>\n",
       "      <td>0</td>\n",
       "      <td>0</td>\n",
       "      <td>0</td>\n",
       "      <td>0</td>\n",
       "      <td>0</td>\n",
       "      <td>0</td>\n",
       "      <td>0</td>\n",
       "      <td>0</td>\n",
       "      <td>1</td>\n",
       "      <td>0</td>\n",
       "      <td>0</td>\n",
       "      <td>0</td>\n",
       "    </tr>\n",
       "    <tr>\n",
       "      <th>1</th>\n",
       "      <td>2</td>\n",
       "      <td>1.0</td>\n",
       "      <td>1</td>\n",
       "      <td>Cumings, Mrs. John Bradley (Florence Briggs Th...</td>\n",
       "      <td>0</td>\n",
       "      <td>1</td>\n",
       "      <td>38.0</td>\n",
       "      <td>1</td>\n",
       "      <td>0</td>\n",
       "      <td>PC 17599</td>\n",
       "      <td>71.2833</td>\n",
       "      <td>0</td>\n",
       "      <td>1</td>\n",
       "      <td>0</td>\n",
       "      <td>0</td>\n",
       "      <td>0</td>\n",
       "      <td>0</td>\n",
       "      <td>0</td>\n",
       "      <td>0</td>\n",
       "      <td>0</td>\n",
       "      <td>0</td>\n",
       "      <td>0</td>\n",
       "      <td>0</td>\n",
       "      <td>0</td>\n",
       "      <td>0</td>\n",
       "      <td>0</td>\n",
       "      <td>0</td>\n",
       "      <td>0</td>\n",
       "      <td>0</td>\n",
       "      <td>0</td>\n",
       "      <td>0</td>\n",
       "      <td>0</td>\n",
       "      <td>0</td>\n",
       "      <td>0</td>\n",
       "      <td>0</td>\n",
       "      <td>0</td>\n",
       "      <td>0</td>\n",
       "      <td>0</td>\n",
       "      <td>0</td>\n",
       "      <td>0</td>\n",
       "      <td>...</td>\n",
       "      <td>0</td>\n",
       "      <td>0</td>\n",
       "      <td>0</td>\n",
       "      <td>0</td>\n",
       "      <td>0</td>\n",
       "      <td>0</td>\n",
       "      <td>0</td>\n",
       "      <td>0</td>\n",
       "      <td>0</td>\n",
       "      <td>0</td>\n",
       "      <td>0</td>\n",
       "      <td>0</td>\n",
       "      <td>0</td>\n",
       "      <td>0</td>\n",
       "      <td>0</td>\n",
       "      <td>0</td>\n",
       "      <td>0</td>\n",
       "      <td>0</td>\n",
       "      <td>0</td>\n",
       "      <td>0</td>\n",
       "      <td>0</td>\n",
       "      <td>0</td>\n",
       "      <td>0</td>\n",
       "      <td>0</td>\n",
       "      <td>0</td>\n",
       "      <td>0</td>\n",
       "      <td>0</td>\n",
       "      <td>0</td>\n",
       "      <td>0</td>\n",
       "      <td>0</td>\n",
       "      <td>0</td>\n",
       "      <td>0</td>\n",
       "      <td>0</td>\n",
       "      <td>0</td>\n",
       "      <td>0</td>\n",
       "      <td>0</td>\n",
       "      <td>0</td>\n",
       "      <td>1</td>\n",
       "      <td>0</td>\n",
       "      <td>0</td>\n",
       "    </tr>\n",
       "    <tr>\n",
       "      <th>2</th>\n",
       "      <td>3</td>\n",
       "      <td>1.0</td>\n",
       "      <td>3</td>\n",
       "      <td>Heikkinen, Miss. Laina</td>\n",
       "      <td>0</td>\n",
       "      <td>1</td>\n",
       "      <td>26.0</td>\n",
       "      <td>0</td>\n",
       "      <td>0</td>\n",
       "      <td>STON/O2. 3101282</td>\n",
       "      <td>7.9250</td>\n",
       "      <td>1</td>\n",
       "      <td>0</td>\n",
       "      <td>0</td>\n",
       "      <td>0</td>\n",
       "      <td>0</td>\n",
       "      <td>0</td>\n",
       "      <td>0</td>\n",
       "      <td>0</td>\n",
       "      <td>0</td>\n",
       "      <td>0</td>\n",
       "      <td>0</td>\n",
       "      <td>0</td>\n",
       "      <td>0</td>\n",
       "      <td>0</td>\n",
       "      <td>0</td>\n",
       "      <td>0</td>\n",
       "      <td>0</td>\n",
       "      <td>0</td>\n",
       "      <td>0</td>\n",
       "      <td>0</td>\n",
       "      <td>0</td>\n",
       "      <td>0</td>\n",
       "      <td>0</td>\n",
       "      <td>0</td>\n",
       "      <td>0</td>\n",
       "      <td>0</td>\n",
       "      <td>0</td>\n",
       "      <td>0</td>\n",
       "      <td>0</td>\n",
       "      <td>...</td>\n",
       "      <td>0</td>\n",
       "      <td>0</td>\n",
       "      <td>0</td>\n",
       "      <td>0</td>\n",
       "      <td>0</td>\n",
       "      <td>0</td>\n",
       "      <td>0</td>\n",
       "      <td>0</td>\n",
       "      <td>0</td>\n",
       "      <td>0</td>\n",
       "      <td>0</td>\n",
       "      <td>0</td>\n",
       "      <td>0</td>\n",
       "      <td>0</td>\n",
       "      <td>0</td>\n",
       "      <td>0</td>\n",
       "      <td>0</td>\n",
       "      <td>0</td>\n",
       "      <td>0</td>\n",
       "      <td>0</td>\n",
       "      <td>0</td>\n",
       "      <td>0</td>\n",
       "      <td>0</td>\n",
       "      <td>0</td>\n",
       "      <td>0</td>\n",
       "      <td>0</td>\n",
       "      <td>0</td>\n",
       "      <td>0</td>\n",
       "      <td>0</td>\n",
       "      <td>0</td>\n",
       "      <td>0</td>\n",
       "      <td>0</td>\n",
       "      <td>0</td>\n",
       "      <td>0</td>\n",
       "      <td>0</td>\n",
       "      <td>0</td>\n",
       "      <td>1</td>\n",
       "      <td>0</td>\n",
       "      <td>0</td>\n",
       "      <td>0</td>\n",
       "    </tr>\n",
       "    <tr>\n",
       "      <th>3</th>\n",
       "      <td>4</td>\n",
       "      <td>1.0</td>\n",
       "      <td>1</td>\n",
       "      <td>Futrelle, Mrs. Jacques Heath (Lily May Peel)</td>\n",
       "      <td>0</td>\n",
       "      <td>1</td>\n",
       "      <td>35.0</td>\n",
       "      <td>1</td>\n",
       "      <td>0</td>\n",
       "      <td>113803</td>\n",
       "      <td>53.1000</td>\n",
       "      <td>0</td>\n",
       "      <td>0</td>\n",
       "      <td>1</td>\n",
       "      <td>0</td>\n",
       "      <td>0</td>\n",
       "      <td>0</td>\n",
       "      <td>0</td>\n",
       "      <td>0</td>\n",
       "      <td>0</td>\n",
       "      <td>0</td>\n",
       "      <td>0</td>\n",
       "      <td>0</td>\n",
       "      <td>0</td>\n",
       "      <td>0</td>\n",
       "      <td>0</td>\n",
       "      <td>0</td>\n",
       "      <td>0</td>\n",
       "      <td>0</td>\n",
       "      <td>0</td>\n",
       "      <td>0</td>\n",
       "      <td>0</td>\n",
       "      <td>0</td>\n",
       "      <td>0</td>\n",
       "      <td>0</td>\n",
       "      <td>0</td>\n",
       "      <td>0</td>\n",
       "      <td>0</td>\n",
       "      <td>0</td>\n",
       "      <td>0</td>\n",
       "      <td>...</td>\n",
       "      <td>0</td>\n",
       "      <td>0</td>\n",
       "      <td>0</td>\n",
       "      <td>0</td>\n",
       "      <td>0</td>\n",
       "      <td>0</td>\n",
       "      <td>0</td>\n",
       "      <td>0</td>\n",
       "      <td>0</td>\n",
       "      <td>0</td>\n",
       "      <td>0</td>\n",
       "      <td>0</td>\n",
       "      <td>0</td>\n",
       "      <td>0</td>\n",
       "      <td>0</td>\n",
       "      <td>0</td>\n",
       "      <td>0</td>\n",
       "      <td>0</td>\n",
       "      <td>0</td>\n",
       "      <td>0</td>\n",
       "      <td>0</td>\n",
       "      <td>0</td>\n",
       "      <td>0</td>\n",
       "      <td>0</td>\n",
       "      <td>0</td>\n",
       "      <td>0</td>\n",
       "      <td>0</td>\n",
       "      <td>0</td>\n",
       "      <td>0</td>\n",
       "      <td>0</td>\n",
       "      <td>0</td>\n",
       "      <td>0</td>\n",
       "      <td>0</td>\n",
       "      <td>0</td>\n",
       "      <td>0</td>\n",
       "      <td>0</td>\n",
       "      <td>1</td>\n",
       "      <td>0</td>\n",
       "      <td>0</td>\n",
       "      <td>0</td>\n",
       "    </tr>\n",
       "    <tr>\n",
       "      <th>4</th>\n",
       "      <td>5</td>\n",
       "      <td>0.0</td>\n",
       "      <td>3</td>\n",
       "      <td>Allen, Mr. William Henry</td>\n",
       "      <td>1</td>\n",
       "      <td>0</td>\n",
       "      <td>35.0</td>\n",
       "      <td>0</td>\n",
       "      <td>0</td>\n",
       "      <td>373450</td>\n",
       "      <td>8.0500</td>\n",
       "      <td>1</td>\n",
       "      <td>0</td>\n",
       "      <td>0</td>\n",
       "      <td>0</td>\n",
       "      <td>0</td>\n",
       "      <td>0</td>\n",
       "      <td>0</td>\n",
       "      <td>0</td>\n",
       "      <td>0</td>\n",
       "      <td>0</td>\n",
       "      <td>0</td>\n",
       "      <td>0</td>\n",
       "      <td>0</td>\n",
       "      <td>0</td>\n",
       "      <td>0</td>\n",
       "      <td>0</td>\n",
       "      <td>0</td>\n",
       "      <td>0</td>\n",
       "      <td>0</td>\n",
       "      <td>0</td>\n",
       "      <td>0</td>\n",
       "      <td>0</td>\n",
       "      <td>0</td>\n",
       "      <td>0</td>\n",
       "      <td>0</td>\n",
       "      <td>0</td>\n",
       "      <td>0</td>\n",
       "      <td>0</td>\n",
       "      <td>0</td>\n",
       "      <td>...</td>\n",
       "      <td>0</td>\n",
       "      <td>0</td>\n",
       "      <td>0</td>\n",
       "      <td>0</td>\n",
       "      <td>0</td>\n",
       "      <td>0</td>\n",
       "      <td>0</td>\n",
       "      <td>0</td>\n",
       "      <td>0</td>\n",
       "      <td>0</td>\n",
       "      <td>0</td>\n",
       "      <td>0</td>\n",
       "      <td>0</td>\n",
       "      <td>0</td>\n",
       "      <td>0</td>\n",
       "      <td>0</td>\n",
       "      <td>0</td>\n",
       "      <td>0</td>\n",
       "      <td>0</td>\n",
       "      <td>0</td>\n",
       "      <td>0</td>\n",
       "      <td>0</td>\n",
       "      <td>0</td>\n",
       "      <td>0</td>\n",
       "      <td>0</td>\n",
       "      <td>0</td>\n",
       "      <td>0</td>\n",
       "      <td>0</td>\n",
       "      <td>0</td>\n",
       "      <td>0</td>\n",
       "      <td>0</td>\n",
       "      <td>0</td>\n",
       "      <td>0</td>\n",
       "      <td>0</td>\n",
       "      <td>0</td>\n",
       "      <td>0</td>\n",
       "      <td>1</td>\n",
       "      <td>0</td>\n",
       "      <td>0</td>\n",
       "      <td>0</td>\n",
       "    </tr>\n",
       "  </tbody>\n",
       "</table>\n",
       "<p>5 rows × 202 columns</p>\n",
       "</div>"
      ],
      "text/plain": [
       "   PassengerId  Survived  Pclass  ... Embarked_2  Embarked_3  Embarked_4\n",
       "0            1       0.0       3  ...          0           0           0\n",
       "1            2       1.0       1  ...          1           0           0\n",
       "2            3       1.0       3  ...          0           0           0\n",
       "3            4       1.0       1  ...          0           0           0\n",
       "4            5       0.0       3  ...          0           0           0\n",
       "\n",
       "[5 rows x 202 columns]"
      ]
     },
     "execution_count": 12,
     "metadata": {},
     "output_type": "execute_result"
    }
   ],
   "source": [
    "# object型のcolumnを定義する。(NameとTicketは種類が多すぎるので削除)\n",
    "obj_columns = ['Sex', 'Cabin', 'Embarked']\n",
    "# OneHotEncodingのインスタンスを作成する。(category_encodersではOneHotEncoderという名前である。)\n",
    "oe = ---\n",
    "# onehot encodingをdf_catに適用する。\n",
    "df_cat_oe = ---\n",
    "df_cat_oe.head()"
   ]
  },
  {
   "cell_type": "markdown",
   "metadata": {
    "id": "adlzrSrsmp64"
   },
   "source": [
    "## モデル構築\n",
    "\n",
    "今回は全結合ニューラルネットワーク(MLP)を用いる。\n",
    "MLPはLightGBMと比較すると精度は劣るが、別の角度からの分析が可能になるため、アンサンブルをする際のモデルの一つとしては有用である。\n",
    "MLPの実装はkerasを用いるのが楽である。 \\\n",
    "なお、MLPでは、値のスケーリングを行う。\n",
    "\n",
    "また、本ノートブックの最後にPytorchでの実装方法も紹介する。"
   ]
  },
  {
   "cell_type": "code",
   "execution_count": null,
   "metadata": {
    "id": "34UoMgW4lwuB"
   },
   "outputs": [],
   "source": [
    "## df_cat_oeをtrainとtestに分離する。\n",
    "---write your code(2 rows)---"
   ]
  },
  {
   "cell_type": "code",
   "execution_count": null,
   "metadata": {
    "id": "01-woLPQoJdy"
   },
   "outputs": [],
   "source": [
    "# 学習に用いない特徴を定義する。\n",
    "drop_cols = ['PassengerId', 'Survived', 'Name', 'Ticket']\n",
    "# 学習データとテストデータを定義する(X, y, X_test)。\n",
    "---write your code(3 rows)---"
   ]
  },
  {
   "cell_type": "code",
   "execution_count": null,
   "metadata": {
    "id": "FTqUDqwupUFf"
   },
   "outputs": [],
   "source": [
    "from sklearn.model_selection import train_test_split\n",
    "# 評価用データを作成する。一旦HoldOut法で行う。(random_stateは42にする。)\n",
    "---write your code---"
   ]
  },
  {
   "cell_type": "code",
   "execution_count": null,
   "metadata": {
    "id": "dvUG5zvXhr-M"
   },
   "outputs": [],
   "source": [
    "from tensorflow.keras.models import Sequential\n",
    "from tensorflow.keras.layers import Dense, Activation, Dropout\n",
    "# モデルの構築をする。\n",
    "def build_model(hid_dim=256,\n",
    "                out_dim=1,\n",
    "                hid_activation='relu',\n",
    "                out_activation='sigmoid',\n",
    "                optimizer='SGD',\n",
    "                loss='binary_crossentropy',\n",
    "                metrics=['accuracy'],\n",
    "                drop_rate=0.1\n",
    "                ):\n",
    "  model = Sequential([\n",
    "      Dense(hid_dim),\n",
    "      Dropout(drop_rate),\n",
    "      Activation(hid_activation),\n",
    "      Dense(out_dim),\n",
    "      Activation(out_activation),\n",
    "  ])\n",
    "  model.compile(optimizer=optimizer, loss=loss, metrics=metrics)\n",
    "\n",
    "  return model\n",
    "\n",
    "# モデルを読み込む\n",
    "model = build_model()"
   ]
  },
  {
   "cell_type": "code",
   "execution_count": null,
   "metadata": {
    "id": "BvXh6s9RJG-B"
   },
   "outputs": [],
   "source": [
    "---上のコードを写経してみよう---"
   ]
  },
  {
   "cell_type": "code",
   "execution_count": null,
   "metadata": {
    "id": "LkBd02MmoBTn"
   },
   "outputs": [],
   "source": [
    "from sklearn.preprocessing import StandardScaler\n",
    "\n",
    "# 入力データを標準化する。\n",
    "sca = StandardScaler()\n",
    "# X_trainにscalerをfitさせ、適用する。\n",
    "X_train_sca = sca.fit_transform(X_train)\n",
    "# X_valにscalerを適用する。\n",
    "X_val_sca = sca.transform(---)\n",
    "---write your code---  # X_testにscalerを適用する。"
   ]
  },
  {
   "cell_type": "code",
   "execution_count": null,
   "metadata": {
    "colab": {
     "base_uri": "https://localhost:8080/"
    },
    "executionInfo": {
     "elapsed": 3434,
     "status": "ok",
     "timestamp": 1636450263950,
     "user": {
      "displayName": "松永大希",
      "photoUrl": "https://lh3.googleusercontent.com/a/default-user=s64",
      "userId": "15035745520490838496"
     },
     "user_tz": -540
    },
    "id": "j30rGTtKphvU",
    "outputId": "88213824-f891-40cd-e8a9-ef70cc7bb51a"
   },
   "outputs": [
    {
     "name": "stdout",
     "output_type": "stream",
     "text": [
      "Epoch 1/20\n",
      "45/45 [==============================] - 1s 7ms/step - loss: 0.7447 - accuracy: 0.6124 - val_loss: 0.6338 - val_accuracy: 0.7430\n",
      "Epoch 2/20\n",
      "45/45 [==============================] - 0s 2ms/step - loss: 0.6327 - accuracy: 0.7570 - val_loss: 0.5772 - val_accuracy: 0.7877\n",
      "Epoch 3/20\n",
      "45/45 [==============================] - 0s 3ms/step - loss: 0.5557 - accuracy: 0.7893 - val_loss: 0.5413 - val_accuracy: 0.7933\n",
      "Epoch 4/20\n",
      "45/45 [==============================] - 0s 2ms/step - loss: 0.5080 - accuracy: 0.8160 - val_loss: 0.5159 - val_accuracy: 0.7821\n",
      "Epoch 5/20\n",
      "45/45 [==============================] - 0s 2ms/step - loss: 0.4758 - accuracy: 0.8076 - val_loss: 0.4986 - val_accuracy: 0.7933\n",
      "Epoch 6/20\n",
      "45/45 [==============================] - 0s 2ms/step - loss: 0.4543 - accuracy: 0.8301 - val_loss: 0.4866 - val_accuracy: 0.7877\n",
      "Epoch 7/20\n",
      "45/45 [==============================] - 0s 2ms/step - loss: 0.4292 - accuracy: 0.8329 - val_loss: 0.4778 - val_accuracy: 0.7877\n",
      "Epoch 8/20\n",
      "45/45 [==============================] - 0s 2ms/step - loss: 0.4162 - accuracy: 0.8371 - val_loss: 0.4720 - val_accuracy: 0.7877\n",
      "Epoch 9/20\n",
      "45/45 [==============================] - 0s 3ms/step - loss: 0.4013 - accuracy: 0.8441 - val_loss: 0.4662 - val_accuracy: 0.7877\n",
      "Epoch 10/20\n",
      "45/45 [==============================] - 0s 2ms/step - loss: 0.3906 - accuracy: 0.8539 - val_loss: 0.4628 - val_accuracy: 0.7877\n",
      "Epoch 11/20\n",
      "45/45 [==============================] - 0s 2ms/step - loss: 0.3828 - accuracy: 0.8511 - val_loss: 0.4598 - val_accuracy: 0.7821\n",
      "Epoch 12/20\n",
      "45/45 [==============================] - 0s 3ms/step - loss: 0.3830 - accuracy: 0.8511 - val_loss: 0.4571 - val_accuracy: 0.7821\n",
      "Epoch 13/20\n",
      "45/45 [==============================] - 0s 2ms/step - loss: 0.3779 - accuracy: 0.8525 - val_loss: 0.4552 - val_accuracy: 0.7821\n",
      "Epoch 14/20\n",
      "45/45 [==============================] - 0s 2ms/step - loss: 0.3750 - accuracy: 0.8539 - val_loss: 0.4537 - val_accuracy: 0.7821\n",
      "Epoch 15/20\n",
      "45/45 [==============================] - 0s 2ms/step - loss: 0.3659 - accuracy: 0.8581 - val_loss: 0.4529 - val_accuracy: 0.7821\n",
      "Epoch 16/20\n",
      "45/45 [==============================] - 0s 2ms/step - loss: 0.3647 - accuracy: 0.8581 - val_loss: 0.4518 - val_accuracy: 0.7821\n",
      "Epoch 17/20\n",
      "45/45 [==============================] - 0s 2ms/step - loss: 0.3643 - accuracy: 0.8539 - val_loss: 0.4510 - val_accuracy: 0.7821\n",
      "Epoch 18/20\n",
      "45/45 [==============================] - 0s 2ms/step - loss: 0.3576 - accuracy: 0.8610 - val_loss: 0.4501 - val_accuracy: 0.7821\n",
      "Epoch 19/20\n",
      "45/45 [==============================] - 0s 2ms/step - loss: 0.3611 - accuracy: 0.8610 - val_loss: 0.4502 - val_accuracy: 0.7821\n",
      "Epoch 20/20\n",
      "45/45 [==============================] - 0s 2ms/step - loss: 0.3580 - accuracy: 0.8652 - val_loss: 0.4497 - val_accuracy: 0.7821\n"
     ]
    },
    {
     "data": {
      "text/plain": [
       "<keras.callbacks.History at 0x7f94d7221850>"
      ]
     },
     "execution_count": 19,
     "metadata": {},
     "output_type": "execute_result"
    }
   ],
   "source": [
    "# 学習\n",
    "model.fit(X_train_sca, y_train, \n",
    "          batch_size=16,\n",
    "          epochs=20,\n",
    "          verbose=1,\n",
    "          validation_data=(X_val_sca, y_val))"
   ]
  },
  {
   "cell_type": "markdown",
   "metadata": {
    "id": "pZzMYQp-ubXZ"
   },
   "source": [
    "### valデータの評価"
   ]
  },
  {
   "cell_type": "code",
   "execution_count": null,
   "metadata": {
    "colab": {
     "base_uri": "https://localhost:8080/"
    },
    "executionInfo": {
     "elapsed": 20,
     "status": "ok",
     "timestamp": 1636450263951,
     "user": {
      "displayName": "松永大希",
      "photoUrl": "https://lh3.googleusercontent.com/a/default-user=s64",
      "userId": "15035745520490838496"
     },
     "user_tz": -540
    },
    "id": "T43FbaVlrSxR",
    "outputId": "0cd46863-ded1-4d87-cc10-d7811ecb32fb"
   },
   "outputs": [
    {
     "name": "stdout",
     "output_type": "stream",
     "text": [
      "[0.20895812 0.1490016  0.12488136 0.8049522  0.76732564 0.89083207\n",
      " 0.703824   0.12006292 0.72607356 0.8492006  0.982353   0.07817498\n",
      " 0.40458363 0.17997643 0.14157316 0.88455015 0.3332038  0.70387745\n",
      " 0.16118255 0.34898064 0.11502355 0.24285975 0.5804823  0.12557283\n",
      " 0.10477427 0.11971968 0.24777901 0.15054154 0.14041302 0.601123\n",
      " 0.12774211 0.617944   0.2756224  0.6030872  0.13053653 0.19772586\n",
      " 0.36540854 0.703824   0.8953921  0.10191518 0.19635981 0.0955058\n",
      " 0.10197824 0.13441548 0.66564405 0.15413523 0.12787229 0.11789876\n",
      " 0.11458966 0.30604815 0.7760564  0.8480347  0.07468021 0.9559212\n",
      " 0.08521986 0.8710158  0.14699572 0.40189213 0.7879841  0.7206812\n",
      " 0.12207681 0.7965394  0.766564   0.25356096 0.13441548 0.78196156\n",
      " 0.24315226 0.10402179 0.2894792  0.98286724 0.75051194 0.9986757\n",
      " 0.4318151  0.88606524 0.11719325 0.08738551 0.7027503  0.90659237\n",
      " 0.78391516 0.52321887 0.0858672  0.96238244 0.8963661  0.13440982\n",
      " 0.31388158 0.20978263 0.98771584 0.89817256 0.21714374 0.1016514\n",
      " 0.23097882 0.32946616 0.26681688 0.13440609 0.10191518 0.10631013\n",
      " 0.30140173 0.07688308 0.9333582  0.10864171 0.19372317 0.09149963\n",
      " 0.9931904  0.08617157 0.10060552 0.10397181 0.73823196 0.27975565\n",
      " 0.10231432 0.39102188 0.87710404 0.12314826 0.9946027  0.3505048\n",
      " 0.45817077 0.12590271 0.2965482  0.7377826  0.75248003 0.38047612\n",
      " 0.16065231 0.8931302  0.874144   0.36208338 0.11254635 0.25885123\n",
      " 0.9718494  0.4419669  0.71050483 0.12222415 0.7039112  0.20895812\n",
      " 0.14497244 0.6602552  0.32115585 0.7648359  0.90367746 0.10398018\n",
      " 0.08054945 0.589223   0.12242982 0.756835   0.15844443 0.14020923\n",
      " 0.4510144  0.7449805  0.15297836 0.10184667 0.91043794 0.07946482\n",
      " 0.18115091 0.1148217  0.13042179 0.6912279  0.10197824 0.10156974\n",
      " 0.12769344 0.7038493  0.7622014  0.65233314 0.21008849 0.25394693\n",
      " 0.13691816 0.89212966 0.13472715 0.26221824 0.17186683 0.88835883\n",
      " 0.119578   0.09147042 0.48279458 0.7624955  0.35053337 0.7878338\n",
      " 0.13300174 0.18048865 0.30873272 0.7947798  0.3921184 ]\n"
     ]
    }
   ],
   "source": [
    "from sklearn.metrics import accuracy_score\n",
    "# valデータを予測する。(スケーリングしたデータを使おう。)\n",
    "val_probs = model.predict(---)\n",
    "# 形状を(179)にする\n",
    "val_probs = val_probs.squeeze()\n",
    "print(val_probs)"
   ]
  },
  {
   "cell_type": "markdown",
   "metadata": {
    "id": "5d_QQ-bRsbi8"
   },
   "source": [
    "モデルの出力は(targetの数, 1)で出力される。\n",
    "これを、以下のルールで変更する。 \\\n",
    "1. 出力の形状を(targetの数)に直す(np.squeeze()を用いる。)\n",
    "2. thershold=0.5\n",
    "3. 値がthresholdを下回ったら0\n",
    "4. それ以上の場合は1 \\"
   ]
  },
  {
   "cell_type": "code",
   "execution_count": null,
   "metadata": {
    "id": "xOJhm7uhtXtO"
   },
   "outputs": [],
   "source": [
    "thershold = 0.5\n",
    "# 予測を二値化する。\n",
    "val_preds = ---"
   ]
  },
  {
   "cell_type": "markdown",
   "metadata": {
    "id": "n4Xja2q3r5Um"
   },
   "source": [
    "Accuracyスコアで精度を計算する。"
   ]
  },
  {
   "cell_type": "code",
   "execution_count": null,
   "metadata": {
    "colab": {
     "base_uri": "https://localhost:8080/"
    },
    "executionInfo": {
     "elapsed": 17,
     "status": "ok",
     "timestamp": 1636450263951,
     "user": {
      "displayName": "松永大希",
      "photoUrl": "https://lh3.googleusercontent.com/a/default-user=s64",
      "userId": "15035745520490838496"
     },
     "user_tz": -540
    },
    "id": "d9R6SkpNr4Kc",
    "outputId": "afbdbb60-670e-4f40-d7a1-be355459cc38"
   },
   "outputs": [
    {
     "name": "stdout",
     "output_type": "stream",
     "text": [
      "0.7821229050279329\n"
     ]
    }
   ],
   "source": [
    "from sklearn.metrics import accuracy_score\n",
    "# スコアを出力\n",
    "---write your code---"
   ]
  },
  {
   "cell_type": "markdown",
   "metadata": {
    "id": "xBzLW6iEuTfg"
   },
   "source": [
    "### テストデータの予測とKaggleへの提出ファイルの作成。"
   ]
  },
  {
   "cell_type": "code",
   "execution_count": null,
   "metadata": {
    "id": "AVswoiNOuOSH"
   },
   "outputs": [],
   "source": [
    "# valデータと同じように予測\n",
    "---write your code---\n",
    "# test_probsの形状を直す。\n",
    "---write your code---\n",
    "# valデータと同じように予測を二値にする。\n",
    "thershold = 0.5\n",
    "---write your code---"
   ]
  },
  {
   "cell_type": "code",
   "execution_count": null,
   "metadata": {
    "id": "w9mu3zU5vO7t"
   },
   "outputs": [],
   "source": [
    "# submissionのサンプルファイルを読み込む\n",
    "---write your code---\n",
    "# サンプルのtargetカラムをtest_predsに置き換える。\n",
    "---write your code---"
   ]
  },
  {
   "cell_type": "code",
   "execution_count": null,
   "metadata": {
    "id": "ZkYIDf-BvDZK"
   },
   "outputs": [],
   "source": [
    "# 提出 (パスは submit/my_submit3.csv とする。)\n",
    "---write your code---"
   ]
  },
  {
   "cell_type": "markdown",
   "metadata": {
    "id": "WAUHWqEB3IIE"
   },
   "source": [
    "### Cross Validationを作ろう"
   ]
  },
  {
   "cell_type": "markdown",
   "metadata": {
    "id": "3ls-KvaAsDly"
   },
   "source": [
    "今回は、穴埋め形式ではなく1から実装してもらうことにする。 \\\n",
    "LightGBMのCross Validationのコードをコピペして、ニューラルネットワーク専用コードに編集すれば効率良く実装できる。(もちろん一から実装した方が勉強にはなる。)"
   ]
  },
  {
   "cell_type": "code",
   "execution_count": null,
   "metadata": {
    "colab": {
     "base_uri": "https://localhost:8080/"
    },
    "executionInfo": {
     "elapsed": 11961,
     "status": "ok",
     "timestamp": 1636450304077,
     "user": {
      "displayName": "松永大希",
      "photoUrl": "https://lh3.googleusercontent.com/a/default-user=s64",
      "userId": "15035745520490838496"
     },
     "user_tz": -540
    },
    "id": "6Xr1GOu96a4D",
    "outputId": "e1f0c828-59a5-4593-d825-82820907f940"
   },
   "outputs": [
    {
     "name": "stdout",
     "output_type": "stream",
     "text": [
      "epoch1\n",
      "0.8044692737430168\n",
      "----------------------------------------\n",
      "epoch2\n",
      "0.8202247191011236\n",
      "----------------------------------------\n",
      "epoch3\n",
      "0.8089887640449438\n",
      "----------------------------------------\n",
      "epoch4\n",
      "0.8539325842696629\n",
      "----------------------------------------\n",
      "epoch5\n",
      "0.8370786516853933\n",
      "----------------------------------------\n",
      "oof score :  0.8249158249158249\n"
     ]
    }
   ],
   "source": [
    "from sklearn.model_selection import StratifiedKFold\n",
    "\n",
    "---write your code(lots of rows)---"
   ]
  },
  {
   "cell_type": "code",
   "execution_count": null,
   "metadata": {
    "id": "Vc_T1yfkBWsa"
   },
   "outputs": [],
   "source": [
    "# 提出 (パスは submit/my_submit4.csv とする)\n",
    "---write your code(3 rows)---"
   ]
  },
  {
   "cell_type": "markdown",
   "metadata": {
    "id": "hs5t64SdxK3p"
   },
   "source": [
    "## Pytorchで実装しよう\n",
    "\n",
    "Pytorchは学術研究で広く用いられるフレームワークである。 \\\n",
    "実装を1からカスタマイズする必要があるので簡単な全結合ネットワークだとkerasの方が何かと便利だが、高度なディープラーニングなどで真価を発揮するため、実装してみる。"
   ]
  },
  {
   "cell_type": "code",
   "execution_count": null,
   "metadata": {
    "id": "WJNd3FOGEITi"
   },
   "outputs": [],
   "source": [
    "import torch\n",
    "from torch import nn\n",
    "from torch.utils.data import Dataset, DataLoader\n",
    "\n",
    "# Pytorchモデルを定義する。\n",
    "class MLP(nn.Module):\n",
    "\n",
    "  def __init__(self, input_dim, hid_dim=256, out_dim=1, drop_rate=0.1):\n",
    "    # nn.Moduleクラスを継承する。\n",
    "    super(MLP, self).__init__()\n",
    "    # モデルのパーツを定義する。\n",
    "    self.layer = nn.Sequential(\n",
    "      nn.Linear(input_dim, hid_dim),\n",
    "      nn.Dropout(drop_rate),\n",
    "      nn.ReLU(),\n",
    "      nn.Linear(hid_dim, out_dim),\n",
    "      nn.Sigmoid()\n",
    "    )\n",
    "\n",
    "  def forward(self, x):\n",
    "    # モデルの順伝搬を行う。\n",
    "    return self.layer(x).squeeze()\n"
   ]
  },
  {
   "cell_type": "code",
   "execution_count": null,
   "metadata": {
    "id": "iUchM0lgKf8C"
   },
   "outputs": [],
   "source": [
    "---上のコードを写経しよう---"
   ]
  },
  {
   "cell_type": "code",
   "execution_count": null,
   "metadata": {
    "colab": {
     "base_uri": "https://localhost:8080/"
    },
    "executionInfo": {
     "elapsed": 10,
     "status": "ok",
     "timestamp": 1636450305146,
     "user": {
      "displayName": "松永大希",
      "photoUrl": "https://lh3.googleusercontent.com/a/default-user=s64",
      "userId": "15035745520490838496"
     },
     "user_tz": -540
    },
    "id": "e1zLESAPy9r6",
    "outputId": "21bdeb1a-22c6-406c-c098-17d0dd393549"
   },
   "outputs": [
    {
     "name": "stdout",
     "output_type": "stream",
     "text": [
      "198\n",
      "torch.Size([16])\n"
     ]
    }
   ],
   "source": [
    "# モデルの挙動を確認\n",
    "sample_x = torch.randn([16, 198])\n",
    "print(sample_x.size(1))\n",
    "sample_model = MLP(sample_x.size(1))\n",
    "sample_out = sample_model(sample_x)\n",
    "print(sample_out.shape)"
   ]
  },
  {
   "cell_type": "code",
   "execution_count": null,
   "metadata": {
    "id": "VmXjiOH3zSXP"
   },
   "outputs": [],
   "source": [
    "# pytorchのデータセットを作る。\n",
    "class MLPDataset(Dataset):\n",
    "\n",
    "  def __init__(self, X, y=None, test=False):\n",
    "    super().__init__()\n",
    "    self.X = X\n",
    "    self.test = test\n",
    "    # testデータの時はyは存在しないので定義しない。\n",
    "    if not test:\n",
    "      self.y = y\n",
    "\n",
    "  def __len__(self): \n",
    "    return len(self.X)\n",
    "\n",
    "  def __getitem__(self, idx):\n",
    "    # X, yをtorch.Tensorに変換\n",
    "    X_torch = torch.Tensor(self.X.values)\n",
    "    if not self.test:\n",
    "      y_torch = torch.Tensor(self.y)\n",
    "      return [X_torch[idx], y_torch[idx]]\n",
    "    else:\n",
    "      return [X_torch[idx]]\n"
   ]
  },
  {
   "cell_type": "code",
   "execution_count": null,
   "metadata": {
    "id": "ZvQ5ZqcFKmDd"
   },
   "outputs": [],
   "source": [
    "---上のコードを写経しよう---"
   ]
  },
  {
   "cell_type": "code",
   "execution_count": null,
   "metadata": {
    "colab": {
     "base_uri": "https://localhost:8080/"
    },
    "executionInfo": {
     "elapsed": 9,
     "status": "ok",
     "timestamp": 1636450305146,
     "user": {
      "displayName": "松永大希",
      "photoUrl": "https://lh3.googleusercontent.com/a/default-user=s64",
      "userId": "15035745520490838496"
     },
     "user_tz": -540
    },
    "id": "jeOVkgVs1C1z",
    "outputId": "ffb4e54e-c422-41a0-b561-ebea6d2f2d0d"
   },
   "outputs": [
    {
     "data": {
      "text/plain": [
       "[tensor([ 3.0000,  1.0000,  0.0000, 22.0000,  1.0000,  0.0000,  7.2500,  1.0000,\n",
       "          0.0000,  0.0000,  0.0000,  0.0000,  0.0000,  0.0000,  0.0000,  0.0000,\n",
       "          0.0000,  0.0000,  0.0000,  0.0000,  0.0000,  0.0000,  0.0000,  0.0000,\n",
       "          0.0000,  0.0000,  0.0000,  0.0000,  0.0000,  0.0000,  0.0000,  0.0000,\n",
       "          0.0000,  0.0000,  0.0000,  0.0000,  0.0000,  0.0000,  0.0000,  0.0000,\n",
       "          0.0000,  0.0000,  0.0000,  0.0000,  0.0000,  0.0000,  0.0000,  0.0000,\n",
       "          0.0000,  0.0000,  0.0000,  0.0000,  0.0000,  0.0000,  0.0000,  0.0000,\n",
       "          0.0000,  0.0000,  0.0000,  0.0000,  0.0000,  0.0000,  0.0000,  0.0000,\n",
       "          0.0000,  0.0000,  0.0000,  0.0000,  0.0000,  0.0000,  0.0000,  0.0000,\n",
       "          0.0000,  0.0000,  0.0000,  0.0000,  0.0000,  0.0000,  0.0000,  0.0000,\n",
       "          0.0000,  0.0000,  0.0000,  0.0000,  0.0000,  0.0000,  0.0000,  0.0000,\n",
       "          0.0000,  0.0000,  0.0000,  0.0000,  0.0000,  0.0000,  0.0000,  0.0000,\n",
       "          0.0000,  0.0000,  0.0000,  0.0000,  0.0000,  0.0000,  0.0000,  0.0000,\n",
       "          0.0000,  0.0000,  0.0000,  0.0000,  0.0000,  0.0000,  0.0000,  0.0000,\n",
       "          0.0000,  0.0000,  0.0000,  0.0000,  0.0000,  0.0000,  0.0000,  0.0000,\n",
       "          0.0000,  0.0000,  0.0000,  0.0000,  0.0000,  0.0000,  0.0000,  0.0000,\n",
       "          0.0000,  0.0000,  0.0000,  0.0000,  0.0000,  0.0000,  0.0000,  0.0000,\n",
       "          0.0000,  0.0000,  0.0000,  0.0000,  0.0000,  0.0000,  0.0000,  0.0000,\n",
       "          0.0000,  0.0000,  0.0000,  0.0000,  0.0000,  0.0000,  0.0000,  0.0000,\n",
       "          0.0000,  0.0000,  0.0000,  0.0000,  0.0000,  0.0000,  0.0000,  0.0000,\n",
       "          0.0000,  0.0000,  0.0000,  0.0000,  0.0000,  0.0000,  0.0000,  0.0000,\n",
       "          0.0000,  0.0000,  0.0000,  0.0000,  0.0000,  0.0000,  0.0000,  0.0000,\n",
       "          0.0000,  0.0000,  0.0000,  0.0000,  0.0000,  0.0000,  0.0000,  0.0000,\n",
       "          0.0000,  0.0000,  0.0000,  0.0000,  0.0000,  0.0000,  0.0000,  0.0000,\n",
       "          0.0000,  0.0000,  1.0000,  0.0000,  0.0000,  0.0000]), tensor(0.)]"
      ]
     },
     "execution_count": 34,
     "metadata": {},
     "output_type": "execute_result"
    }
   ],
   "source": [
    "# Datasetの動作確認\n",
    "sample_dataset = MLPDataset(X, y)\n",
    "sample_dataset[0]"
   ]
  },
  {
   "cell_type": "code",
   "execution_count": null,
   "metadata": {
    "colab": {
     "base_uri": "https://localhost:8080/"
    },
    "executionInfo": {
     "elapsed": 7,
     "status": "ok",
     "timestamp": 1636450305147,
     "user": {
      "displayName": "松永大希",
      "photoUrl": "https://lh3.googleusercontent.com/a/default-user=s64",
      "userId": "15035745520490838496"
     },
     "user_tz": -540
    },
    "id": "FJ_tvfjG1NIP",
    "outputId": "5e87f82e-d932-46af-d1cd-40d90f6d727e"
   },
   "outputs": [
    {
     "name": "stdout",
     "output_type": "stream",
     "text": [
      "torch.Size([16, 198])\n",
      "torch.Size([16])\n"
     ]
    }
   ],
   "source": [
    "# dataloaderを定義\n",
    "sample_dataloader = DataLoader(sample_dataset, batch_size=16, shuffle=True)\n",
    "for sd in sample_dataloader:\n",
    "  print(sd[0].shape)\n",
    "  print(sd[1].shape)\n",
    "  break"
   ]
  },
  {
   "cell_type": "markdown",
   "metadata": {
    "id": "EKUWp3iZ2kDP"
   },
   "source": [
    "## Pytorchで学習"
   ]
  },
  {
   "cell_type": "code",
   "execution_count": null,
   "metadata": {
    "id": "s8sRdEYG3TRT"
   },
   "outputs": [],
   "source": [
    "def torch_train(model, train_dataset, valid_dataset, criterion, optimizer,\n",
    "                epochs=20, batch_size=16, verbose=0, threshold=0.5):\n",
    "  # pytorchで学習を行う。\n",
    "  for epoch in range(epochs):\n",
    "    # 学習モードにする。\n",
    "    model.train()\n",
    "    # train_dataloaderを定義する。\n",
    "    ---write your code---\n",
    "    # train_lossを記録する。\n",
    "    train_loss = 0.0\n",
    "    for td in train_dataloader:\n",
    "      # optimizerの勾配をリセット\n",
    "      optimizer.zero_grad()\n",
    "      # inputとtargetを定義\n",
    "      input = td[0]\n",
    "      target = td[1]\n",
    "      # 順伝搬\n",
    "      ---write your code---\n",
    "      # lossを求める。\n",
    "      loss = criterion(---, ---)\n",
    "      # train_lossを加算する。\n",
    "      train_loss += loss.item()\n",
    "      # 逆伝搬\n",
    "      loss.backward()\n",
    "      # optimizerを更新\n",
    "      optimizer.step()\n",
    "\n",
    "    # 評価モードにする。\n",
    "    model.eval()\n",
    "    # valid_dataloderを定義する\n",
    "    ---write your code---\n",
    "    # outputとtargetを格納するリスト(accuracyの計算で使う。)\n",
    "    targets = []\n",
    "    outputs = []\n",
    "    # lossを記録する。\n",
    "    valid_loss = 0.0\n",
    "    # 勾配計算をしないようにする。\n",
    "    with torch.no_grad():\n",
    "      for vd in ---:\n",
    "        input = ---\n",
    "        target = ---\n",
    "        # 順伝搬\n",
    "        ---write your code---\n",
    "        # lossを求める。\n",
    "        ---write your code---\n",
    "        # target, outputを記録する。\n",
    "        targets.extend(target.numpy())\n",
    "        outputs.extend(output.numpy())\n",
    "        # valid_lossを加算する。\n",
    "        ---write your code---\n",
    "    \n",
    "    # outputsを特定の閾値を利用して二値化する。(outputsはlist型なのでnumpy配列に変換しよう。)\n",
    "    ---write your code---\n",
    "    # valid_accuracyを求める。\n",
    "    ---write your code---\n",
    "\n",
    "    # 特定エポックで出力する。\n",
    "    if verbose != 0 and (epoch) % verbose == 0:\n",
    "      print(f'epoch{epoch+1}')\n",
    "      print(\"train loss : {}        valid_loss : {}       valid_accuracy : {}\".format(train_loss, valid_loss, valid_accuracy))\n",
    "\n",
    "  return model\n",
    "\n",
    "def torch_predict(model, test_dataset, batch_size=16, threshold=0.5):\n",
    "  # pytorchで学習したモデルを利用して予測を行う。\n",
    "  # 評価モードにする。\n",
    "  ---write your code---\n",
    "  # test_dataloaderを定義する。\n",
    "  ---write your code---\n",
    "  test_probs = []  # 予測値を格納するリスト\n",
    "  # 勾配計算をしないようにする。\n",
    "  ---:\n",
    "    for ted in ---:\n",
    "      input = ---\n",
    "      output = ---\n",
    "      # test_prob\bsを追加する。\n",
    "      test_probs.extend(output.numpy())\n",
    "  # test_probsを特定の閾値で二値化\n",
    "  ---write your code---\n",
    "  \n",
    "  return test_preds"
   ]
  },
  {
   "cell_type": "code",
   "execution_count": null,
   "metadata": {
    "colab": {
     "base_uri": "https://localhost:8080/"
    },
    "executionInfo": {
     "elapsed": 10585,
     "status": "ok",
     "timestamp": 1636450846791,
     "user": {
      "displayName": "松永大希",
      "photoUrl": "https://lh3.googleusercontent.com/a/default-user=s64",
      "userId": "15035745520490838496"
     },
     "user_tz": -540
    },
    "id": "mC65SBR8B-9A",
    "outputId": "79397d46-0264-4d17-baac-ce4e4b3d0e35"
   },
   "outputs": [
    {
     "name": "stdout",
     "output_type": "stream",
     "text": [
      "epoch1\n",
      "train loss : 38.818934708833694        valid_loss : 6.591416746377945       valid_accuracy : 0.7094972067039106\n",
      "epoch2\n",
      "train loss : 25.815645277500153        valid_loss : 6.410161793231964       valid_accuracy : 0.7597765363128491\n",
      "epoch3\n",
      "train loss : 23.17527887225151        valid_loss : 5.387544512748718       valid_accuracy : 0.7821229050279329\n",
      "epoch4\n",
      "train loss : 21.392673566937447        valid_loss : 5.36792066693306       valid_accuracy : 0.7877094972067039\n",
      "epoch5\n",
      "train loss : 21.523722514510155        valid_loss : 5.564299002289772       valid_accuracy : 0.8100558659217877\n",
      "epoch6\n",
      "train loss : 21.53463687002659        valid_loss : 6.198324680328369       valid_accuracy : 0.7430167597765364\n",
      "epoch7\n",
      "train loss : 21.70707356929779        valid_loss : 5.7540357410907745       valid_accuracy : 0.7988826815642458\n",
      "epoch8\n",
      "train loss : 21.872661232948303        valid_loss : 5.548520117998123       valid_accuracy : 0.7653631284916201\n",
      "epoch9\n",
      "train loss : 20.02983033657074        valid_loss : 5.798837810754776       valid_accuracy : 0.7932960893854749\n",
      "epoch10\n",
      "train loss : 19.04770588874817        valid_loss : 5.608490586280823       valid_accuracy : 0.7821229050279329\n",
      "epoch11\n",
      "train loss : 20.18721790611744        valid_loss : 5.700266569852829       valid_accuracy : 0.8044692737430168\n",
      "epoch12\n",
      "train loss : 19.007868707180023        valid_loss : 5.990434229373932       valid_accuracy : 0.7486033519553073\n",
      "epoch13\n",
      "train loss : 18.384778559207916        valid_loss : 5.945102021098137       valid_accuracy : 0.8100558659217877\n",
      "epoch14\n",
      "train loss : 18.705293372273445        valid_loss : 5.6737962663173676       valid_accuracy : 0.7877094972067039\n",
      "epoch15\n",
      "train loss : 18.32605232298374        valid_loss : 5.543117806315422       valid_accuracy : 0.7932960893854749\n",
      "epoch16\n",
      "train loss : 18.563614070415497        valid_loss : 5.647623658180237       valid_accuracy : 0.776536312849162\n",
      "epoch17\n",
      "train loss : 17.614572398364544        valid_loss : 6.664930880069733       valid_accuracy : 0.770949720670391\n",
      "epoch18\n",
      "train loss : 20.030579149723053        valid_loss : 5.637097790837288       valid_accuracy : 0.7653631284916201\n",
      "epoch19\n",
      "train loss : 17.13377271592617        valid_loss : 5.785637930035591       valid_accuracy : 0.7988826815642458\n",
      "epoch20\n",
      "train loss : 16.73003487288952        valid_loss : 5.966136209666729       valid_accuracy : 0.7988826815642458\n",
      "[0 0 0 0 0 0 0 0 1 0 0 0 1 0 1 1 0 0 0 0 0 0 1 0 1 0 1 0 0 0 0 0 0 0 0 0 0\n",
      " 0 0 0 0 0 0 1 1 0 0 0 1 0 0 0 0 1 0 0 0 0 0 1 0 0 0 0 0 1 0 0 0 1 0 0 0 0\n",
      " 1 0 0 1 0 0 1 0 0 0 0 0 0 0 0 1 0 0 0 0 0 0 1 0 0 0 1 0 0 0 1 0 0 0 0 0 0\n",
      " 0 1 0 1 0 0 1 0 1 1 0 1 0 0 1 0 0 0 0 0 0 0 0 0 0 0 0 0 0 0 1 0 0 0 0 0 0\n",
      " 0 0 1 0 0 0 0 0 1 0 0 0 0 1 1 0 0 0 0 0 1 0 0 0 0 0 0 1 1 0 1 1 0 0 1 0 1\n",
      " 0 1 0 0 0 0 0 0 0 1 0 1 0 0 0 0 1 0 1 0 0 0 0 1 0 0 0 0 0 0 0 0 0 1 0 1 0\n",
      " 1 0 1 0 0 0 0 0 0 1 0 0 0 0 0 0 0 1 1 0 0 0 0 0 1 0 1 0 1 0 0 0 0 0 0 0 1\n",
      " 0 0 0 0 1 0 0 0 0 0 0 0 0 1 0 0 1 0 0 0 0 0 1 0 1 1 0 0 0 0 0 0 0 0 0 0 0\n",
      " 1 0 0 0 0 0 0 0 0 1 0 1 0 0 0 0 0 0 1 0 0 0 0 0 0 0 0 0 1 0 1 0 0 0 0 0 0\n",
      " 1 0 1 0 0 0 0 0 0 0 1 0 0 0 0 0 1 1 0 0 0 1 0 1 0 0 0 0 0 1 0 1 0 0 0 1 0\n",
      " 0 1 0 0 1 1 0 0 0 0 0 0 0 0 0 0 0 0 0 0 0 1 1 0 0 1 0 1 0 0 1 0 1 0 0 0 0\n",
      " 0 0 1 0 1 0 0 1 0 0 0]\n"
     ]
    }
   ],
   "source": [
    "from torch.nn import BCELoss\n",
    "from torch.optim import SGD, Adam\n",
    "# ハイパーパラメータを設定\n",
    "EPOCHS = 20\n",
    "HID_DIM = 256\n",
    "DROP_RATE = 0.1\n",
    "BATCH_SIZE=16\n",
    "feature_dim = X.shape[1]\n",
    "\n",
    "# 評価用データを作成する。一旦HoldOut法で行う。\n",
    "---write your code---\n",
    "\n",
    "# datasetを定義する。(train_dataset, valid_dataset, test_dataset)\n",
    "---write your code(3 rows)---\n",
    "\n",
    "# モデルを定義する。\n",
    "---write your code---\n",
    "# 損失関数と最適化関数を定義する。\n",
    "---write your code(2 rows)---\n",
    "\n",
    "# modelを学習する。\n",
    "model = torch_train(model, ---, ---, ---, ---,\n",
    "                    epochs=---, batch_size=---, verbose=1)\n",
    "# 予測する。\n",
    "test_preds = torch_predict(---, ---, batch_size=---)\n",
    "print(test_preds)"
   ]
  },
  {
   "cell_type": "code",
   "execution_count": null,
   "metadata": {
    "id": "k5FWn4cRCVem"
   },
   "outputs": [],
   "source": [
    "# 提出 (パスは submit/my_submit5.csv とする。)\n",
    "---write your code(3 rows)---"
   ]
  },
  {
   "cell_type": "markdown",
   "metadata": {
    "id": "beUDPSVlDJEo"
   },
   "source": [
    "## Cross Validationを実装する。\n",
    "\n",
    "pytorchの学習と予測は独自で、関数化してあるため実装は、そこまで難しくないはずである。"
   ]
  },
  {
   "cell_type": "code",
   "execution_count": null,
   "metadata": {
    "colab": {
     "base_uri": "https://localhost:8080/"
    },
    "executionInfo": {
     "elapsed": 51654,
     "status": "ok",
     "timestamp": 1636450898425,
     "user": {
      "displayName": "松永大希",
      "photoUrl": "https://lh3.googleusercontent.com/a/default-user=s64",
      "userId": "15035745520490838496"
     },
     "user_tz": -540
    },
    "id": "LnIlwOd6CTD6",
    "outputId": "eba02663-1616-4462-da02-f277d67e07b8"
   },
   "outputs": [
    {
     "name": "stdout",
     "output_type": "stream",
     "text": [
      "epoch1\n",
      "0.8100558659217877\n",
      "----------------------------------------\n",
      "epoch2\n",
      "0.797752808988764\n",
      "----------------------------------------\n",
      "epoch3\n",
      "0.7865168539325843\n",
      "----------------------------------------\n",
      "epoch4\n",
      "0.8146067415730337\n",
      "----------------------------------------\n",
      "epoch5\n",
      "0.8370786516853933\n",
      "----------------------------------------\n",
      "oof score :  0.8092031425364759\n"
     ]
    }
   ],
   "source": [
    "from sklearn.model_selection import StratifiedKFold\n",
    "\n",
    "---write your code(lots of rows)---"
   ]
  },
  {
   "cell_type": "code",
   "execution_count": null,
   "metadata": {
    "id": "9o-c8LGWFGFD"
   },
   "outputs": [],
   "source": [
    "# 提出 (パスは submit/my_submit6.csv とする。)\n",
    "---write your code(3 rows)---"
   ]
  },
  {
   "cell_type": "markdown",
   "metadata": {
    "id": "imxGJaxANag9"
   },
   "source": [
    "## 次にやること\n",
    "\n",
    "- 次回のTabnetのチュートリアルに取り組もう\n",
    "- PytorchのコードをGPUに対応させよう\n",
    "- 特徴量エンジニアリングをしよう。\n",
    "- 前回作成したLightGBMモデルとアンサンブルしてみよう。"
   ]
  },
  {
   "cell_type": "markdown",
   "metadata": {
    "id": "012MiKLm7etK"
   },
   "source": [
    "## 参考サイト\n",
    "- Kerasの公式ドキュメント : https://keras.io/ja/\n",
    "- Pytorchの公式ドキュメント : https://pytorch.org/docs/stable/index.html\n",
    "- Pytorchでテーブルデータを処理する方法 : https://towardsdatascience.com/deep-learning-using-pytorch-for-tabular-data-c68017d8b480"
   ]
  },
  {
   "cell_type": "code",
   "execution_count": null,
   "metadata": {},
   "outputs": [],
   "source": []
  }
 ],
 "metadata": {
  "colab": {
   "authorship_tag": "ABX9TyNqWRVX5i7p8qBp+eyZLFCG",
   "collapsed_sections": [],
   "mount_file_id": "1gra5z3nnx17HZTHBtChXlbwOQ0Gwmt6J",
   "name": "Titanic_neuralnet_question.ipynb",
   "provenance": []
  },
  "kernelspec": {
   "display_name": "Python 3 (ipykernel)",
   "language": "python",
   "name": "python3"
  },
  "language_info": {
   "codemirror_mode": {
    "name": "ipython",
    "version": 3
   },
   "file_extension": ".py",
   "mimetype": "text/x-python",
   "name": "python",
   "nbconvert_exporter": "python",
   "pygments_lexer": "ipython3",
   "version": "3.8.10"
  }
 },
 "nbformat": 4,
 "nbformat_minor": 4
}
