{
 "cells": [
  {
   "cell_type": "markdown",
   "metadata": {
    "id": "KdSjS7FEfzgk"
   },
   "source": [
    "[![Open In Colab](https://colab.research.google.com/assets/colab-badge.svg)](https://colab.research.google.com/github/matsunagadaiki151/Kaggle_Titanic_Tutorial/blob/main/Question/Titanic_lightgbm_question.ipynb)"
   ]
  },
  {
   "cell_type": "code",
   "execution_count": null,
   "metadata": {},
   "outputs": [],
   "source": [
    "## 準備\n",
    "\n",
    "1. KaggleのTitanic Datasetは必要なのでダウンロードしてGoogle Driveに上げる。 \\\n",
    "https://www.kaggle.com/c/titanic/data よりダウンロードが可能(Kaggleアカウントが必要)\n",
    "\n",
    "以下を`drive/MyDrive/Kaggle` 下に配置する。\n",
    "- gender_submission.csv\n",
    "- train.csv\n",
    "- test.csv\n",
    "\n",
    "2. ドライブをマウントする。 \\\n",
    "左のフォルダのアイコンからやる。"
   ]
  },
  {
   "cell_type": "markdown",
   "metadata": {
    "id": "oiRjWd2fgzWW"
   },
   "source": [
    "## 以下コード"
   ]
  },
  {
   "cell_type": "markdown",
   "metadata": {
    "id": "P8agfgPajDqG"
   },
   "source": [
    "### データの読み込み"
   ]
  },
  {
   "cell_type": "code",
   "execution_count": null,
   "metadata": {
    "colab": {
     "base_uri": "https://localhost:8080/"
    },
    "executionInfo": {
     "elapsed": 6244,
     "status": "ok",
     "timestamp": 1636434360254,
     "user": {
      "displayName": "松永大希",
      "photoUrl": "https://lh3.googleusercontent.com/a/default-user=s64",
      "userId": "15035745520490838496"
     },
     "user_tz": -540
    },
    "id": "OcS-dUkveVNY",
    "outputId": "41f6f84f-843c-4923-b49d-b71230afc116"
   },
   "outputs": [
    {
     "name": "stdout",
     "output_type": "stream",
     "text": [
      "Requirement already satisfied: matplotlib==3.3.3 in /usr/local/lib/python3.7/dist-packages (3.3.3)\n",
      "Requirement already satisfied: pillow>=6.2.0 in /usr/local/lib/python3.7/dist-packages (from matplotlib==3.3.3) (7.1.2)\n",
      "Requirement already satisfied: python-dateutil>=2.1 in /usr/local/lib/python3.7/dist-packages (from matplotlib==3.3.3) (2.8.2)\n",
      "Requirement already satisfied: numpy>=1.15 in /usr/local/lib/python3.7/dist-packages (from matplotlib==3.3.3) (1.19.5)\n",
      "Requirement already satisfied: kiwisolver>=1.0.1 in /usr/local/lib/python3.7/dist-packages (from matplotlib==3.3.3) (1.3.2)\n",
      "Requirement already satisfied: pyparsing!=2.0.4,!=2.1.2,!=2.1.6,>=2.0.3 in /usr/local/lib/python3.7/dist-packages (from matplotlib==3.3.3) (2.4.7)\n",
      "Requirement already satisfied: cycler>=0.10 in /usr/local/lib/python3.7/dist-packages (from matplotlib==3.3.3) (0.10.0)\n",
      "Requirement already satisfied: six in /usr/local/lib/python3.7/dist-packages (from cycler>=0.10->matplotlib==3.3.3) (1.15.0)\n",
      "Requirement already satisfied: category_encoders in /usr/local/lib/python3.7/dist-packages (2.3.0)\n",
      "Requirement already satisfied: scipy>=1.0.0 in /usr/local/lib/python3.7/dist-packages (from category_encoders) (1.4.1)\n",
      "Requirement already satisfied: scikit-learn>=0.20.0 in /usr/local/lib/python3.7/dist-packages (from category_encoders) (0.22.2.post1)\n",
      "Requirement already satisfied: statsmodels>=0.9.0 in /usr/local/lib/python3.7/dist-packages (from category_encoders) (0.10.2)\n",
      "Requirement already satisfied: numpy>=1.14.0 in /usr/local/lib/python3.7/dist-packages (from category_encoders) (1.19.5)\n",
      "Requirement already satisfied: pandas>=0.21.1 in /usr/local/lib/python3.7/dist-packages (from category_encoders) (1.1.5)\n",
      "Requirement already satisfied: patsy>=0.5.1 in /usr/local/lib/python3.7/dist-packages (from category_encoders) (0.5.2)\n",
      "Requirement already satisfied: pytz>=2017.2 in /usr/local/lib/python3.7/dist-packages (from pandas>=0.21.1->category_encoders) (2018.9)\n",
      "Requirement already satisfied: python-dateutil>=2.7.3 in /usr/local/lib/python3.7/dist-packages (from pandas>=0.21.1->category_encoders) (2.8.2)\n",
      "Requirement already satisfied: six in /usr/local/lib/python3.7/dist-packages (from patsy>=0.5.1->category_encoders) (1.15.0)\n",
      "Requirement already satisfied: joblib>=0.11 in /usr/local/lib/python3.7/dist-packages (from scikit-learn>=0.20.0->category_encoders) (1.0.1)\n"
     ]
    }
   ],
   "source": [
    "# 必要なものをインストール\n",
    "!pip install matplotlib==3.3.3\n",
    "!pip install category_encoders"
   ]
  },
  {
   "cell_type": "code",
   "execution_count": null,
   "metadata": {
    "colab": {
     "base_uri": "https://localhost:8080/"
    },
    "executionInfo": {
     "elapsed": 23,
     "status": "ok",
     "timestamp": 1636434360255,
     "user": {
      "displayName": "松永大希",
      "photoUrl": "https://lh3.googleusercontent.com/a/default-user=s64",
      "userId": "15035745520490838496"
     },
     "user_tz": -540
    },
    "id": "wLJ7wyxFg6bd",
    "outputId": "0e0e2bdf-1dac-42ed-d8de-595a137860aa"
   },
   "outputs": [
    {
     "name": "stdout",
     "output_type": "stream",
     "text": [
      "/content/drive/MyDrive/Kaggle\n"
     ]
    }
   ],
   "source": [
    "# データセットが入っているフォルダに移動\n",
    "%cd /content/drive/MyDrive/Kaggle"
   ]
  },
  {
   "cell_type": "code",
   "execution_count": null,
   "metadata": {
    "colab": {
     "base_uri": "https://localhost:8080/"
    },
    "executionInfo": {
     "elapsed": 345,
     "status": "ok",
     "timestamp": 1636434444702,
     "user": {
      "displayName": "松永大希",
      "photoUrl": "https://lh3.googleusercontent.com/a/default-user=s64",
      "userId": "15035745520490838496"
     },
     "user_tz": -540
    },
    "id": "TUiXf9jIF853",
    "outputId": "ce5a9026-8090-46cf-f932-4b1870d5fe7b"
   },
   "outputs": [
    {
     "name": "stdout",
     "output_type": "stream",
     "text": [
      "mkdir: cannot create directory ‘submit’: File exists\n"
     ]
    }
   ],
   "source": [
    "# submitフォルダを作成\n",
    "!mkdir submit"
   ]
  },
  {
   "cell_type": "code",
   "execution_count": null,
   "metadata": {
    "id": "yIB3gfzNeg2o"
   },
   "outputs": [],
   "source": [
    "# 必要なライブラリをインストール\n",
    "import numpy as np\n",
    "import pandas as pd\n",
    "import matplotlib.pyplot as plt\n",
    "import lightgbm as lgb\n",
    "import category_encoders as ce"
   ]
  },
  {
   "cell_type": "code",
   "execution_count": 4,
   "metadata": {},
   "outputs": [],
   "source": [
    "issubmit = True  # Kaggleにサブミットするかどうか"
   ]
  },
  {
   "cell_type": "code",
   "execution_count": null,
   "metadata": {
    "colab": {
     "base_uri": "https://localhost:8080/",
     "height": 272
    },
    "executionInfo": {
     "elapsed": 16,
     "status": "ok",
     "timestamp": 1636434360255,
     "user": {
      "displayName": "松永大希",
      "photoUrl": "https://lh3.googleusercontent.com/a/default-user=s64",
      "userId": "15035745520490838496"
     },
     "user_tz": -540
    },
    "id": "qcNdaZKzhyeO",
    "outputId": "80a5f43f-a58b-466a-b29d-73e7161cb95f"
   },
   "outputs": [
    {
     "name": "stdout",
     "output_type": "stream",
     "text": [
      "(891, 12)\n"
     ]
    },
    {
     "data": {
      "text/html": [
       "<div>\n",
       "<style scoped>\n",
       "    .dataframe tbody tr th:only-of-type {\n",
       "        vertical-align: middle;\n",
       "    }\n",
       "\n",
       "    .dataframe tbody tr th {\n",
       "        vertical-align: top;\n",
       "    }\n",
       "\n",
       "    .dataframe thead th {\n",
       "        text-align: right;\n",
       "    }\n",
       "</style>\n",
       "<table border=\"1\" class=\"dataframe\">\n",
       "  <thead>\n",
       "    <tr style=\"text-align: right;\">\n",
       "      <th></th>\n",
       "      <th>PassengerId</th>\n",
       "      <th>Survived</th>\n",
       "      <th>Pclass</th>\n",
       "      <th>Name</th>\n",
       "      <th>Sex</th>\n",
       "      <th>Age</th>\n",
       "      <th>SibSp</th>\n",
       "      <th>Parch</th>\n",
       "      <th>Ticket</th>\n",
       "      <th>Fare</th>\n",
       "      <th>Cabin</th>\n",
       "      <th>Embarked</th>\n",
       "    </tr>\n",
       "  </thead>\n",
       "  <tbody>\n",
       "    <tr>\n",
       "      <th>0</th>\n",
       "      <td>1</td>\n",
       "      <td>0</td>\n",
       "      <td>3</td>\n",
       "      <td>Braund, Mr. Owen Harris</td>\n",
       "      <td>male</td>\n",
       "      <td>22.0</td>\n",
       "      <td>1</td>\n",
       "      <td>0</td>\n",
       "      <td>A/5 21171</td>\n",
       "      <td>7.2500</td>\n",
       "      <td>NaN</td>\n",
       "      <td>S</td>\n",
       "    </tr>\n",
       "    <tr>\n",
       "      <th>1</th>\n",
       "      <td>2</td>\n",
       "      <td>1</td>\n",
       "      <td>1</td>\n",
       "      <td>Cumings, Mrs. John Bradley (Florence Briggs Th...</td>\n",
       "      <td>female</td>\n",
       "      <td>38.0</td>\n",
       "      <td>1</td>\n",
       "      <td>0</td>\n",
       "      <td>PC 17599</td>\n",
       "      <td>71.2833</td>\n",
       "      <td>C85</td>\n",
       "      <td>C</td>\n",
       "    </tr>\n",
       "    <tr>\n",
       "      <th>2</th>\n",
       "      <td>3</td>\n",
       "      <td>1</td>\n",
       "      <td>3</td>\n",
       "      <td>Heikkinen, Miss. Laina</td>\n",
       "      <td>female</td>\n",
       "      <td>26.0</td>\n",
       "      <td>0</td>\n",
       "      <td>0</td>\n",
       "      <td>STON/O2. 3101282</td>\n",
       "      <td>7.9250</td>\n",
       "      <td>NaN</td>\n",
       "      <td>S</td>\n",
       "    </tr>\n",
       "    <tr>\n",
       "      <th>3</th>\n",
       "      <td>4</td>\n",
       "      <td>1</td>\n",
       "      <td>1</td>\n",
       "      <td>Futrelle, Mrs. Jacques Heath (Lily May Peel)</td>\n",
       "      <td>female</td>\n",
       "      <td>35.0</td>\n",
       "      <td>1</td>\n",
       "      <td>0</td>\n",
       "      <td>113803</td>\n",
       "      <td>53.1000</td>\n",
       "      <td>C123</td>\n",
       "      <td>S</td>\n",
       "    </tr>\n",
       "    <tr>\n",
       "      <th>4</th>\n",
       "      <td>5</td>\n",
       "      <td>0</td>\n",
       "      <td>3</td>\n",
       "      <td>Allen, Mr. William Henry</td>\n",
       "      <td>male</td>\n",
       "      <td>35.0</td>\n",
       "      <td>0</td>\n",
       "      <td>0</td>\n",
       "      <td>373450</td>\n",
       "      <td>8.0500</td>\n",
       "      <td>NaN</td>\n",
       "      <td>S</td>\n",
       "    </tr>\n",
       "  </tbody>\n",
       "</table>\n",
       "</div>"
      ],
      "text/plain": [
       "   PassengerId  Survived  Pclass  ...     Fare Cabin  Embarked\n",
       "0            1         0       3  ...   7.2500   NaN         S\n",
       "1            2         1       1  ...  71.2833   C85         C\n",
       "2            3         1       3  ...   7.9250   NaN         S\n",
       "3            4         1       1  ...  53.1000  C123         S\n",
       "4            5         0       3  ...   8.0500   NaN         S\n",
       "\n",
       "[5 rows x 12 columns]"
      ]
     },
     "execution_count": 22,
     "metadata": {},
     "output_type": "execute_result"
    }
   ],
   "source": [
    "# 学習データを読み込む\n",
    "train = pd.read_csv('---.csv')\n",
    "print(train.shape) # 形状を確認\n",
    "train.head()  # 最初の5行を見る。 "
   ]
  },
  {
   "cell_type": "code",
   "execution_count": null,
   "metadata": {
    "colab": {
     "base_uri": "https://localhost:8080/",
     "height": 221
    },
    "executionInfo": {
     "elapsed": 14,
     "status": "ok",
     "timestamp": 1636434360255,
     "user": {
      "displayName": "松永大希",
      "photoUrl": "https://lh3.googleusercontent.com/a/default-user=s64",
      "userId": "15035745520490838496"
     },
     "user_tz": -540
    },
    "id": "ptzg9cqkh4Bc",
    "outputId": "a3d46d1c-5c67-4182-9862-3bb0be22faed"
   },
   "outputs": [
    {
     "name": "stdout",
     "output_type": "stream",
     "text": [
      "(418, 11)\n"
     ]
    },
    {
     "data": {
      "text/html": [
       "<div>\n",
       "<style scoped>\n",
       "    .dataframe tbody tr th:only-of-type {\n",
       "        vertical-align: middle;\n",
       "    }\n",
       "\n",
       "    .dataframe tbody tr th {\n",
       "        vertical-align: top;\n",
       "    }\n",
       "\n",
       "    .dataframe thead th {\n",
       "        text-align: right;\n",
       "    }\n",
       "</style>\n",
       "<table border=\"1\" class=\"dataframe\">\n",
       "  <thead>\n",
       "    <tr style=\"text-align: right;\">\n",
       "      <th></th>\n",
       "      <th>PassengerId</th>\n",
       "      <th>Pclass</th>\n",
       "      <th>Name</th>\n",
       "      <th>Sex</th>\n",
       "      <th>Age</th>\n",
       "      <th>SibSp</th>\n",
       "      <th>Parch</th>\n",
       "      <th>Ticket</th>\n",
       "      <th>Fare</th>\n",
       "      <th>Cabin</th>\n",
       "      <th>Embarked</th>\n",
       "    </tr>\n",
       "  </thead>\n",
       "  <tbody>\n",
       "    <tr>\n",
       "      <th>0</th>\n",
       "      <td>892</td>\n",
       "      <td>3</td>\n",
       "      <td>Kelly, Mr. James</td>\n",
       "      <td>male</td>\n",
       "      <td>34.5</td>\n",
       "      <td>0</td>\n",
       "      <td>0</td>\n",
       "      <td>330911</td>\n",
       "      <td>7.8292</td>\n",
       "      <td>NaN</td>\n",
       "      <td>Q</td>\n",
       "    </tr>\n",
       "    <tr>\n",
       "      <th>1</th>\n",
       "      <td>893</td>\n",
       "      <td>3</td>\n",
       "      <td>Wilkes, Mrs. James (Ellen Needs)</td>\n",
       "      <td>female</td>\n",
       "      <td>47.0</td>\n",
       "      <td>1</td>\n",
       "      <td>0</td>\n",
       "      <td>363272</td>\n",
       "      <td>7.0000</td>\n",
       "      <td>NaN</td>\n",
       "      <td>S</td>\n",
       "    </tr>\n",
       "    <tr>\n",
       "      <th>2</th>\n",
       "      <td>894</td>\n",
       "      <td>2</td>\n",
       "      <td>Myles, Mr. Thomas Francis</td>\n",
       "      <td>male</td>\n",
       "      <td>62.0</td>\n",
       "      <td>0</td>\n",
       "      <td>0</td>\n",
       "      <td>240276</td>\n",
       "      <td>9.6875</td>\n",
       "      <td>NaN</td>\n",
       "      <td>Q</td>\n",
       "    </tr>\n",
       "    <tr>\n",
       "      <th>3</th>\n",
       "      <td>895</td>\n",
       "      <td>3</td>\n",
       "      <td>Wirz, Mr. Albert</td>\n",
       "      <td>male</td>\n",
       "      <td>27.0</td>\n",
       "      <td>0</td>\n",
       "      <td>0</td>\n",
       "      <td>315154</td>\n",
       "      <td>8.6625</td>\n",
       "      <td>NaN</td>\n",
       "      <td>S</td>\n",
       "    </tr>\n",
       "    <tr>\n",
       "      <th>4</th>\n",
       "      <td>896</td>\n",
       "      <td>3</td>\n",
       "      <td>Hirvonen, Mrs. Alexander (Helga E Lindqvist)</td>\n",
       "      <td>female</td>\n",
       "      <td>22.0</td>\n",
       "      <td>1</td>\n",
       "      <td>1</td>\n",
       "      <td>3101298</td>\n",
       "      <td>12.2875</td>\n",
       "      <td>NaN</td>\n",
       "      <td>S</td>\n",
       "    </tr>\n",
       "  </tbody>\n",
       "</table>\n",
       "</div>"
      ],
      "text/plain": [
       "   PassengerId  Pclass  ... Cabin Embarked\n",
       "0          892       3  ...   NaN        Q\n",
       "1          893       3  ...   NaN        S\n",
       "2          894       2  ...   NaN        Q\n",
       "3          895       3  ...   NaN        S\n",
       "4          896       3  ...   NaN        S\n",
       "\n",
       "[5 rows x 11 columns]"
      ]
     },
     "execution_count": 23,
     "metadata": {},
     "output_type": "execute_result"
    }
   ],
   "source": [
    "# テストデータを読み込む\n",
    "test = ---\n",
    "print(---) # 形状を確認\n",
    "--- # 最初の8行を見る。 "
   ]
  },
  {
   "cell_type": "code",
   "execution_count": null,
   "metadata": {
    "colab": {
     "base_uri": "https://localhost:8080/"
    },
    "executionInfo": {
     "elapsed": 14,
     "status": "ok",
     "timestamp": 1636434360256,
     "user": {
      "displayName": "松永大希",
      "photoUrl": "https://lh3.googleusercontent.com/a/default-user=s64",
      "userId": "15035745520490838496"
     },
     "user_tz": -540
    },
    "id": "Iexy11VFiQra",
    "outputId": "47370151-a5ed-485d-85ac-ee5a50fb4648"
   },
   "outputs": [
    {
     "data": {
      "text/plain": [
       "PassengerId      int64\n",
       "Survived         int64\n",
       "Pclass           int64\n",
       "Name            object\n",
       "Sex             object\n",
       "Age            float64\n",
       "SibSp            int64\n",
       "Parch            int64\n",
       "Ticket          object\n",
       "Fare           float64\n",
       "Cabin           object\n",
       "Embarked        object\n",
       "dtype: object"
      ]
     },
     "execution_count": 24,
     "metadata": {},
     "output_type": "execute_result"
    }
   ],
   "source": [
    "## 型を確認する。\n",
    "train.dtypes"
   ]
  },
  {
   "cell_type": "code",
   "execution_count": null,
   "metadata": {
    "colab": {
     "base_uri": "https://localhost:8080/"
    },
    "executionInfo": {
     "elapsed": 12,
     "status": "ok",
     "timestamp": 1636434360256,
     "user": {
      "displayName": "松永大希",
      "photoUrl": "https://lh3.googleusercontent.com/a/default-user=s64",
      "userId": "15035745520490838496"
     },
     "user_tz": -540
    },
    "id": "8Sh0NzPZim-a",
    "outputId": "a40eea4c-52d3-4b5b-9138-76e5a8ac819e"
   },
   "outputs": [
    {
     "name": "stdout",
     "output_type": "stream",
     "text": [
      "PassengerId      0\n",
      "Survived         0\n",
      "Pclass           0\n",
      "Name             0\n",
      "Sex              0\n",
      "Age            177\n",
      "SibSp            0\n",
      "Parch            0\n",
      "Ticket           0\n",
      "Fare             0\n",
      "Cabin          687\n",
      "Embarked         2\n",
      "dtype: int64\n",
      "----------------------------------------\n",
      "PassengerId      0\n",
      "Pclass           0\n",
      "Name             0\n",
      "Sex              0\n",
      "Age             86\n",
      "SibSp            0\n",
      "Parch            0\n",
      "Ticket           0\n",
      "Fare             1\n",
      "Cabin          327\n",
      "Embarked         0\n",
      "dtype: int64\n"
     ]
    }
   ],
   "source": [
    "# 欠損値の数を確認する。\n",
    "print(train.isnull().sum())\n",
    "print('-'*40)\n",
    "# テストデータの欠損値の数を確認する。\n",
    "print(---)"
   ]
  },
  {
   "cell_type": "markdown",
   "metadata": {
    "id": "bec-v1edjj09"
   },
   "source": [
    "## 前処理\n",
    "\n",
    "データがobject型のままではモデルが処理できないのでエンコーディングを行う。今回は一番標準的と思われるLabel Encodingを行う。 \\\n",
    "\n",
    "なお、trainとtestでラベルの相違があったら困るので一度全データを結合してからエンコーディングする。"
   ]
  },
  {
   "cell_type": "code",
   "execution_count": null,
   "metadata": {
    "id": "NSq-eZm4l_VY"
   },
   "outputs": [],
   "source": [
    "## trainとtestを結合する。\n",
    "df_cat = pd.concat([---, ---])"
   ]
  },
  {
   "cell_type": "code",
   "execution_count": null,
   "metadata": {
    "colab": {
     "base_uri": "https://localhost:8080/",
     "height": 204
    },
    "executionInfo": {
     "elapsed": 11,
     "status": "ok",
     "timestamp": 1636434360256,
     "user": {
      "displayName": "松永大希",
      "photoUrl": "https://lh3.googleusercontent.com/a/default-user=s64",
      "userId": "15035745520490838496"
     },
     "user_tz": -540
    },
    "id": "OB0Dim2Kit13",
    "outputId": "3e6066cb-8cce-4231-d5b0-d3ed6a226eaa"
   },
   "outputs": [
    {
     "data": {
      "text/html": [
       "<div>\n",
       "<style scoped>\n",
       "    .dataframe tbody tr th:only-of-type {\n",
       "        vertical-align: middle;\n",
       "    }\n",
       "\n",
       "    .dataframe tbody tr th {\n",
       "        vertical-align: top;\n",
       "    }\n",
       "\n",
       "    .dataframe thead th {\n",
       "        text-align: right;\n",
       "    }\n",
       "</style>\n",
       "<table border=\"1\" class=\"dataframe\">\n",
       "  <thead>\n",
       "    <tr style=\"text-align: right;\">\n",
       "      <th></th>\n",
       "      <th>PassengerId</th>\n",
       "      <th>Survived</th>\n",
       "      <th>Pclass</th>\n",
       "      <th>Name</th>\n",
       "      <th>Sex</th>\n",
       "      <th>Age</th>\n",
       "      <th>SibSp</th>\n",
       "      <th>Parch</th>\n",
       "      <th>Ticket</th>\n",
       "      <th>Fare</th>\n",
       "      <th>Cabin</th>\n",
       "      <th>Embarked</th>\n",
       "    </tr>\n",
       "  </thead>\n",
       "  <tbody>\n",
       "    <tr>\n",
       "      <th>0</th>\n",
       "      <td>1</td>\n",
       "      <td>0.0</td>\n",
       "      <td>3</td>\n",
       "      <td>1</td>\n",
       "      <td>1</td>\n",
       "      <td>22.0</td>\n",
       "      <td>1</td>\n",
       "      <td>0</td>\n",
       "      <td>1</td>\n",
       "      <td>7.2500</td>\n",
       "      <td>1</td>\n",
       "      <td>1</td>\n",
       "    </tr>\n",
       "    <tr>\n",
       "      <th>1</th>\n",
       "      <td>2</td>\n",
       "      <td>1.0</td>\n",
       "      <td>1</td>\n",
       "      <td>2</td>\n",
       "      <td>2</td>\n",
       "      <td>38.0</td>\n",
       "      <td>1</td>\n",
       "      <td>0</td>\n",
       "      <td>2</td>\n",
       "      <td>71.2833</td>\n",
       "      <td>2</td>\n",
       "      <td>2</td>\n",
       "    </tr>\n",
       "    <tr>\n",
       "      <th>2</th>\n",
       "      <td>3</td>\n",
       "      <td>1.0</td>\n",
       "      <td>3</td>\n",
       "      <td>3</td>\n",
       "      <td>2</td>\n",
       "      <td>26.0</td>\n",
       "      <td>0</td>\n",
       "      <td>0</td>\n",
       "      <td>3</td>\n",
       "      <td>7.9250</td>\n",
       "      <td>1</td>\n",
       "      <td>1</td>\n",
       "    </tr>\n",
       "    <tr>\n",
       "      <th>3</th>\n",
       "      <td>4</td>\n",
       "      <td>1.0</td>\n",
       "      <td>1</td>\n",
       "      <td>4</td>\n",
       "      <td>2</td>\n",
       "      <td>35.0</td>\n",
       "      <td>1</td>\n",
       "      <td>0</td>\n",
       "      <td>4</td>\n",
       "      <td>53.1000</td>\n",
       "      <td>3</td>\n",
       "      <td>1</td>\n",
       "    </tr>\n",
       "    <tr>\n",
       "      <th>4</th>\n",
       "      <td>5</td>\n",
       "      <td>0.0</td>\n",
       "      <td>3</td>\n",
       "      <td>5</td>\n",
       "      <td>1</td>\n",
       "      <td>35.0</td>\n",
       "      <td>0</td>\n",
       "      <td>0</td>\n",
       "      <td>5</td>\n",
       "      <td>8.0500</td>\n",
       "      <td>1</td>\n",
       "      <td>1</td>\n",
       "    </tr>\n",
       "  </tbody>\n",
       "</table>\n",
       "</div>"
      ],
      "text/plain": [
       "   PassengerId  Survived  Pclass  Name  ...  Ticket     Fare  Cabin  Embarked\n",
       "0            1       0.0       3     1  ...       1   7.2500      1         1\n",
       "1            2       1.0       1     2  ...       2  71.2833      2         2\n",
       "2            3       1.0       3     3  ...       3   7.9250      1         1\n",
       "3            4       1.0       1     4  ...       4  53.1000      3         1\n",
       "4            5       0.0       3     5  ...       5   8.0500      1         1\n",
       "\n",
       "[5 rows x 12 columns]"
      ]
     },
     "execution_count": 27,
     "metadata": {},
     "output_type": "execute_result"
    }
   ],
   "source": [
    "# object型のcolumnを定義する。\n",
    "obj_columns = ['Name', 'Sex', 'Ticket', 'Cabin', 'Embarked']\n",
    "# LabelEncodingを適用する(category_encodersではOrdinalEncoderという名前なので注意)\n",
    "oe = ce.OrdinalEncoder(cols=---)  # object型のカラムのみをエンコーディングするようにインスタンスを定義する。\n",
    "df_cat_oe = oe.fit_transform(---)  # df_catにOridinalEncoderを適用する。\n",
    "---write your code--- # df_catの上位5件を見る"
   ]
  },
  {
   "cell_type": "markdown",
   "metadata": {
    "id": "adlzrSrsmp64"
   },
   "source": [
    "## モデル構築\n",
    "\n",
    "機械学習にはさまざまなモデルがあり、どのモデルが適切か、試行錯誤しなければならない。 \\\n",
    "\n",
    "...というのは建前であり基本的に最初はLightGBMを使うのが基本である。\n",
    "\n",
    "LightGBMの強みとして以下が挙げられる\n",
    "- 単純に多くのテーブルデータで最もパフォーマンスが優れている。(最近はCatBoostといい勝負)\n",
    "- 欠損値を無視できる。\n",
    "- エンコーディングされた数値の序列を無視できる(OnehotEncodingの必要がない。)\n",
    "- XGBoostと比較して学習が早い。\n",
    "\n",
    "というわけで今回はLightGBMを用いてモデルを構築する。"
   ]
  },
  {
   "cell_type": "code",
   "execution_count": null,
   "metadata": {
    "id": "34UoMgW4lwuB"
   },
   "outputs": [],
   "source": [
    "# df_cat_oeをtrainとtestに分離する。\n",
    "train = df_cat_oe[:len(---)]\n",
    "test = df_cat_oe[---]"
   ]
  },
  {
   "cell_type": "code",
   "execution_count": null,
   "metadata": {
    "id": "01-woLPQoJdy"
   },
   "outputs": [],
   "source": [
    "# 学習に用いない特徴を定義する。\n",
    "drop_cols = [---------, ---------, ---------]\n",
    "# 学習データを定義する。\n",
    "# 学習に不要なカラムを取り除いたものをXと置く。\n",
    "X = train.drop(drop_cols, axis=1)\n",
    "# targetとなるカラムをyとする(.valuesでnumpy配列になる。)\n",
    "y = train[-------].values\n",
    "# testデータからX_testを定義する。(Xと同じ形式にする。)\n",
    "X_test = -------------"
   ]
  },
  {
   "cell_type": "code",
   "execution_count": null,
   "metadata": {
    "id": "FTqUDqwupUFf"
   },
   "outputs": [],
   "source": [
    "from sklearn.model_selection import train_test_split\n",
    "# 評価用データを作成する。今回は一番簡単なHoldOut法で行う。\n",
    "X_train, X_val, y_train, y_val = train_test_split(X, y, test_size=0.2, shuffle=True, random_state=42)"
   ]
  },
  {
   "cell_type": "code",
   "execution_count": null,
   "metadata": {
    "colab": {
     "base_uri": "https://localhost:8080/"
    },
    "executionInfo": {
     "elapsed": 573,
     "status": "ok",
     "timestamp": 1636434360819,
     "user": {
      "displayName": "松永大希",
      "photoUrl": "https://lh3.googleusercontent.com/a/default-user=s64",
      "userId": "15035745520490838496"
     },
     "user_tz": -540
    },
    "id": "j30rGTtKphvU",
    "outputId": "2be2539f-f865-47f3-9d2c-6afba5ac47d4"
   },
   "outputs": [
    {
     "name": "stdout",
     "output_type": "stream",
     "text": [
      "Training until validation scores don't improve for 100 rounds.\n",
      "[100]\tvalid_0's binary_logloss: 0.531326\n",
      "Early stopping, best iteration is:\n",
      "[39]\tvalid_0's binary_logloss: 0.430607\n"
     ]
    }
   ],
   "source": [
    "# lightgbmのデータセットを定義する。\n",
    "train_data = lgb.Dataset(X_train, y_train)\n",
    "val_data = lgb.Dataset(-------------)\n",
    "\n",
    "# lightgbmのパラメータを定義する。\n",
    "lgb_params = {\"objective\":\"binary\", \n",
    "            \"metric\":\"binary_logloss\", \n",
    "            \"verbosity\": -1}\n",
    "\n",
    "# 学習\n",
    "model = lgb.train(lgb_params, train_data,\n",
    "                  num_boost_round=100000,\n",
    "                  valid_sets=val_data,\n",
    "                  early_stopping_rounds=100,\n",
    "                  verbose_eval=100)"
   ]
  },
  {
   "cell_type": "code",
   "execution_count": null,
   "metadata": {
    "colab": {
     "base_uri": "https://localhost:8080/",
     "height": 312
    },
    "executionInfo": {
     "elapsed": 14,
     "status": "ok",
     "timestamp": 1636434360820,
     "user": {
      "displayName": "松永大希",
      "photoUrl": "https://lh3.googleusercontent.com/a/default-user=s64",
      "userId": "15035745520490838496"
     },
     "user_tz": -540
    },
    "id": "yFi1cBn0CF56",
    "outputId": "64e1fb8f-27b2-4a74-dcd0-71f116b47305"
   },
   "outputs": [
    {
     "data": {
      "text/plain": [
       "<AxesSubplot:title={'center':'Feature importance'}, xlabel='Feature importance', ylabel='Features'>"
      ]
     },
     "execution_count": 32,
     "metadata": {},
     "output_type": "execute_result"
    },
    {
     "data": {
      "image/png": "[encoded data removed]",
      "text/plain": [
       "<Figure size 432x288 with 1 Axes>"
      ]
     },
     "metadata": {
      "needs_background": "light"
     },
     "output_type": "display_data"
    }
   ],
   "source": [
    "# モデルの重要度を可視化する。\n",
    "lgb.plot_importance(model)"
   ]
  },
  {
   "cell_type": "markdown",
   "metadata": {
    "id": "pZzMYQp-ubXZ"
   },
   "source": [
    "### valデータの評価"
   ]
  },
  {
   "cell_type": "code",
   "execution_count": null,
   "metadata": {
    "colab": {
     "base_uri": "https://localhost:8080/"
    },
    "executionInfo": {
     "elapsed": 10,
     "status": "ok",
     "timestamp": 1636434360820,
     "user": {
      "displayName": "松永大希",
      "photoUrl": "https://lh3.googleusercontent.com/a/default-user=s64",
      "userId": "15035745520490838496"
     },
     "user_tz": -540
    },
    "id": "T43FbaVlrSxR",
    "outputId": "00c0d1e8-1cf6-4d03-815f-013077838e32"
   },
   "outputs": [
    {
     "name": "stdout",
     "output_type": "stream",
     "text": [
      "[0.08577858 0.26118312 0.20144466 0.98148949 0.42453511 0.92851578\n",
      " 0.77616977 0.15039924 0.75726572 0.9046932  0.27028544 0.04044679\n",
      " 0.06342606 0.23757773 0.16891569 0.97630396 0.72964752 0.59834523\n",
      " 0.1076184  0.07082524 0.21955026 0.34876264 0.44648419 0.0568866\n",
      " 0.13112315 0.02643297 0.2192484  0.11609615 0.21297648 0.66035793\n",
      " 0.06363607 0.66655859 0.20570448 0.47409844 0.0817416  0.17351873\n",
      " 0.30552334 0.71961226 0.97955079 0.01785418 0.10352672 0.32794667\n",
      " 0.04974011 0.08121117 0.56315302 0.17745487 0.12058017 0.05924119\n",
      " 0.3218784  0.53582428 0.89683946 0.97071895 0.04931868 0.53371271\n",
      " 0.04109049 0.96189554 0.19976517 0.92408499 0.93462634 0.65187508\n",
      " 0.19495201 0.93626548 0.96961557 0.06399139 0.06507878 0.97512364\n",
      " 0.11868245 0.24273571 0.22487295 0.97994341 0.97357977 0.94917753\n",
      " 0.57627809 0.98099188 0.15043496 0.04532007 0.67388551 0.96730249\n",
      " 0.97965056 0.75977923 0.0226416  0.91302452 0.97570442 0.08121117\n",
      " 0.08969027 0.0338615  0.91163991 0.98294616 0.02526006 0.0502996\n",
      " 0.67407192 0.0431816  0.50270211 0.10741633 0.11656473 0.18906147\n",
      " 0.36655787 0.16404726 0.9622677  0.18151962 0.13808157 0.02942069\n",
      " 0.83146807 0.0437368  0.1786749  0.29530592 0.95141215 0.22223578\n",
      " 0.15673116 0.19254543 0.96947557 0.35860617 0.98286792 0.46783425\n",
      " 0.41005763 0.06389003 0.05970198 0.50943793 0.95324336 0.0420968\n",
      " 0.09139075 0.93214537 0.89117276 0.81140876 0.11254982 0.30410784\n",
      " 0.96997636 0.31951775 0.47873891 0.05075847 0.77572163 0.22248579\n",
      " 0.01440738 0.38570181 0.61857663 0.41500803 0.97376822 0.20570874\n",
      " 0.04842445 0.38403694 0.06884973 0.97141994 0.05174946 0.05502045\n",
      " 0.07379629 0.97548911 0.05980111 0.28503036 0.95173379 0.03645722\n",
      " 0.08443313 0.12252646 0.03715454 0.16979119 0.11720516 0.01986393\n",
      " 0.46664273 0.7696866  0.97087607 0.74554397 0.33885569 0.14516474\n",
      " 0.04358428 0.97532081 0.3395482  0.10051764 0.0750764  0.96083477\n",
      " 0.08455525 0.05152514 0.13941786 0.94257508 0.61251882 0.41358186\n",
      " 0.12135444 0.07779268 0.12901854 0.83557245 0.75348214]\n"
     ]
    }
   ],
   "source": [
    "from sklearn.metrics import accuracy_score\n",
    "# valデータを予測する。\n",
    "val_probs = model.predict(-----, num_iteration=model.best_iteration)\n",
    "print(val_probs)"
   ]
  },
  {
   "cell_type": "markdown",
   "metadata": {
    "id": "5d_QQ-bRsbi8"
   },
   "source": [
    "モデルの出力はfloat型で出力される。\n",
    "ただし、今回は二値分類なので以下のルールでint型に変更する。 \\\n",
    "1. thershold=0.5\n",
    "2. 値がthresholdを下回ったら0\n",
    "3. それ以上の場合は1 \\\n",
    "\n",
    "これらの処理は\b、np.whereを用いると便利である。 \\\n",
    "\n",
    "ちなみに上級者はこのtheresholdの値を最適化したりする。"
   ]
  },
  {
   "cell_type": "code",
   "execution_count": null,
   "metadata": {
    "id": "xOJhm7uhtXtO"
   },
   "outputs": [],
   "source": [
    "thershold = 0.5\n",
    "# 予測を二値化する。\n",
    "val_preds = np.where(val_probs < thershold, 0, 1)"
   ]
  },
  {
   "cell_type": "markdown",
   "metadata": {
    "id": "n4Xja2q3r5Um"
   },
   "source": [
    "準備が終わったので精度を評価する。 \\\n",
    "評価指標はf1やfbetaなどが用いられることが多いがタイタニックコンペのルールではAccuracyスコアを用いるようなので(おそらく初心者向けだから?)、今回はそれに準じる。"
   ]
  },
  {
   "cell_type": "code",
   "execution_count": null,
   "metadata": {
    "colab": {
     "base_uri": "https://localhost:8080/"
    },
    "executionInfo": {
     "elapsed": 9,
     "status": "ok",
     "timestamp": 1636434360821,
     "user": {
      "displayName": "松永大希",
      "photoUrl": "https://lh3.googleusercontent.com/a/default-user=s64",
      "userId": "15035745520490838496"
     },
     "user_tz": -540
    },
    "id": "d9R6SkpNr4Kc",
    "outputId": "56588d18-541e-4a30-c1ec-2557dda87c15"
   },
   "outputs": [
    {
     "name": "stdout",
     "output_type": "stream",
     "text": [
      "0.8156424581005587\n"
     ]
    }
   ],
   "source": [
    "from sklearn.metrics import accuracy_score\n",
    "# スコアを出力\n",
    "print(accuracy_score(y_val, val_preds))"
   ]
  },
  {
   "cell_type": "markdown",
   "metadata": {
    "id": "xBzLW6iEuTfg"
   },
   "source": [
    "### テストデータの予測とKaggleへの提出ファイルの作成。"
   ]
  },
  {
   "cell_type": "code",
   "execution_count": null,
   "metadata": {
    "id": "AVswoiNOuOSH"
   },
   "outputs": [],
   "source": [
    "# valデータと同じように予測\n",
    "test_probs = ---\n",
    "# valデータと同じように予測を二値にする。\n",
    "thershold = 0.5\n",
    "test_preds = ---"
   ]
  },
  {
   "cell_type": "code",
   "execution_count": null,
   "metadata": {
    "colab": {
     "base_uri": "https://localhost:8080/"
    },
    "executionInfo": {
     "elapsed": 7,
     "status": "ok",
     "timestamp": 1636434360821,
     "user": {
      "displayName": "松永大希",
      "photoUrl": "https://lh3.googleusercontent.com/a/default-user=s64",
      "userId": "15035745520490838496"
     },
     "user_tz": -540
    },
    "id": "w9Q3Sy-YvCDb",
    "outputId": "99e7e80c-9ad1-4745-dcf4-cd566549bea3"
   },
   "outputs": [
    {
     "name": "stdout",
     "output_type": "stream",
     "text": [
      "418\n",
      "[0 0 0 0 0 0 1 0 1 0 0 0 1 0 1 1 0 0 0 1 0 0 1 0 1 0 1 0 0 0 0 0 0 0 0 0 0\n",
      " 0 0 0 0 1 0 1 1 0 0 0 1 1 0 0 1 1 0 0 0 0 0 1 0 0 0 1 0 1 1 0 0 1 1 0 1 0\n",
      " 1 1 0 1 0 1 1 0 0 0 0 0 1 0 1 1 0 0 1 0 0 0 1 0 0 0 1 0 0 0 0 0 0 0 0 0 0\n",
      " 1 1 1 1 0 0 1 0 1 1 0 1 0 0 1 0 0 0 0 0 0 0 0 0 0 0 0 0 0 0 1 0 0 0 0 0 0\n",
      " 0 0 1 0 0 1 0 0 1 0 0 0 1 1 1 0 0 0 0 0 1 0 0 0 0 0 0 1 1 0 1 1 0 0 1 0 1\n",
      " 0 1 0 0 0 0 0 0 0 1 0 1 0 0 0 1 1 0 1 0 0 1 0 1 0 0 0 0 1 0 0 1 0 1 0 1 0\n",
      " 1 0 1 0 0 1 0 0 0 1 0 0 0 0 0 0 1 1 1 1 0 0 0 0 1 0 1 0 1 0 1 0 0 0 0 0 1\n",
      " 0 0 0 1 1 0 0 0 0 0 0 0 0 1 1 0 1 0 0 0 0 0 1 1 0 1 0 0 0 0 0 0 1 0 0 0 0\n",
      " 1 0 0 0 0 0 0 0 1 1 0 1 0 0 0 0 0 1 1 1 0 0 0 0 0 0 0 0 1 0 1 0 0 0 1 0 0\n",
      " 1 0 0 0 0 0 0 0 0 0 1 0 1 0 1 0 1 1 0 0 0 1 0 1 0 0 1 0 1 1 0 1 0 0 0 1 0\n",
      " 0 1 0 0 1 1 0 0 0 0 0 0 0 1 0 1 0 0 0 0 1 1 0 0 0 1 0 1 0 0 1 0 1 0 0 0 0\n",
      " 0 1 1 1 1 1 0 1 0 0 0]\n"
     ]
    }
   ],
   "source": [
    "print(len(test_preds))\n",
    "print(test_preds)"
   ]
  },
  {
   "cell_type": "code",
   "execution_count": null,
   "metadata": {
    "id": "w9mu3zU5vO7t"
   },
   "outputs": [],
   "source": [
    "if issubmit:\n",
    "    os.makedirs('submit/', exist_ok=True)\n",
    "    # submissionのサンプルファイルを読み込む\n",
    "    submit = pd.read_csv('gender_submission.csv')\n",
    "    # サンプルファイルのtargetとなるカラムをtest_predsに置き換える。\n",
    "    submit['Survived'] = test_preds\n",
    "    # 提出\n",
    "    submit.to_csv('submit/my_submit1.csv', index=False)"
   ]
  },
  {
   "cell_type": "markdown",
   "metadata": {
    "id": "aZQp4l5kIjS4"
   },
   "source": [
    "Kaggleのアカウントがある人は、ぜひとも提出してみよう。"
   ]
  },
  {
   "cell_type": "markdown",
   "metadata": {
    "id": "WAUHWqEB3IIE"
   },
   "source": [
    "### Cross Validationを作ろう"
   ]
  },
  {
   "cell_type": "markdown",
   "metadata": {
    "id": "hOYwT9pb6daY"
   },
   "source": [
    "valデータが一つだけでは正当な評価が難しい。 \\\n",
    "また、全データで学習ができないなどの問題がある。 \\\n",
    "そこで、基本的にはHoldOutではなく、Cross Validation(CV)が用いられる。 \\\n",
    "基本的にはscikit-learnのKFoldで実装できるが、分類問題ではターゲットの比率を維持してKFoldできるStratifiedKFoldが用いられることが多い。"
   ]
  },
  {
   "cell_type": "code",
   "execution_count": null,
   "metadata": {
    "colab": {
     "base_uri": "https://localhost:8080/"
    },
    "executionInfo": {
     "elapsed": 4,
     "status": "ok",
     "timestamp": 1636434361776,
     "user": {
      "displayName": "松永大希",
      "photoUrl": "https://lh3.googleusercontent.com/a/default-user=s64",
      "userId": "15035745520490838496"
     },
     "user_tz": -540
    },
    "id": "jWkeblhhvx_G",
    "outputId": "528d436b-2521-48e3-fa95-5b129ce0cbc9"
   },
   "outputs": [
    {
     "name": "stdout",
     "output_type": "stream",
     "text": [
      "(array([  0,   1,   2,   3,   5,   7,   8,   9,  10,  11,  12,  14,  15,\n",
      "        16,  17,  18,  20,  21,  22,  23,  25,  27,  29,  32,  33,  35,\n",
      "        36,  37,  38,  39,  40,  41,  42,  44,  46,  47,  48,  49,  50,\n",
      "        51,  52,  54,  56,  57,  58,  59,  61,  62,  65,  67,  69,  70,\n",
      "        71,  72,  73,  74,  76,  77,  78,  80,  81,  82,  83,  84,  85,\n",
      "        86,  87,  88,  89,  91,  92,  93,  95,  96,  97,  98, 100, 101,\n",
      "       102, 104, 106, 107, 109, 110, 111, 112, 115, 116, 117, 119, 120,\n",
      "       121, 122, 123, 124, 125, 127, 129, 130, 132, 133, 135, 136, 137,\n",
      "       138, 139, 140, 142, 144, 145, 149, 151, 152, 154, 156, 157, 158,\n",
      "       159, 160, 161, 162, 163, 165, 166, 167, 168, 169, 171, 172, 175,\n",
      "       178, 179, 180, 181, 182, 183, 184, 185, 186, 187, 188, 189, 190,\n",
      "       191, 192, 193, 194, 195, 196, 197, 198, 199, 200, 201, 202, 204,\n",
      "       205, 206, 208, 209, 210, 211, 212, 213, 214, 215, 216, 217, 218,\n",
      "       219, 220, 221, 222, 223, 224, 225, 226, 227, 228, 229, 230, 231,\n",
      "       232, 233, 234, 236, 237, 239, 240, 241, 242, 243, 244, 245, 246,\n",
      "       247, 248, 250, 252, 253, 254, 255, 256, 257, 258, 259, 260, 261,\n",
      "       262, 263, 264, 265, 266, 267, 268, 269, 270, 271, 272, 274, 275,\n",
      "       276, 277, 278, 279, 280, 281, 284, 288, 289, 291, 292, 294, 295,\n",
      "       296, 297, 298, 299, 300, 301, 302, 303, 305, 307, 308, 309, 310,\n",
      "       311, 312, 315, 316, 317, 318, 319, 320, 321, 323, 325, 326, 327,\n",
      "       328, 329, 330, 332, 333, 334, 337, 338, 339, 340, 342, 344, 346,\n",
      "       349, 351, 352, 353, 354, 355, 356, 358, 359, 360, 361, 364, 366,\n",
      "       367, 368, 370, 373, 374, 375, 376, 377, 378, 379, 380, 382, 384,\n",
      "       385, 386, 387, 388, 389, 390, 391, 392, 393, 395, 396, 397, 398,\n",
      "       400, 401, 402, 403, 404, 405, 408, 409, 410, 411, 413, 414, 415,\n",
      "       417, 418, 419, 420, 421, 422, 423, 424, 427, 428, 430, 431, 432,\n",
      "       434, 436, 437, 438, 439, 441, 442, 443, 444, 445, 446, 447, 450,\n",
      "       451, 452, 453, 454, 455, 456, 457, 458, 459, 460, 462, 463, 464,\n",
      "       466, 467, 468, 470, 471, 472, 474, 475, 476, 478, 479, 480, 481,\n",
      "       482, 484, 485, 486, 487, 488, 489, 490, 491, 492, 494, 495, 496,\n",
      "       497, 499, 500, 501, 502, 503, 504, 505, 506, 508, 509, 510, 511,\n",
      "       512, 513, 514, 515, 516, 517, 519, 520, 521, 522, 524, 525, 526,\n",
      "       527, 528, 529, 530, 531, 532, 533, 534, 536, 537, 538, 540, 541,\n",
      "       542, 543, 544, 545, 546, 547, 548, 551, 552, 553, 554, 555, 556,\n",
      "       557, 559, 560, 561, 562, 563, 564, 565, 566, 567, 568, 569, 570,\n",
      "       571, 572, 573, 574, 575, 576, 578, 579, 580, 581, 582, 583, 584,\n",
      "       585, 586, 588, 589, 590, 591, 592, 593, 594, 595, 596, 597, 598,\n",
      "       599, 600, 601, 603, 604, 605, 606, 608, 609, 610, 612, 613, 615,\n",
      "       616, 618, 619, 620, 621, 622, 623, 624, 629, 630, 631, 632, 633,\n",
      "       634, 635, 636, 639, 640, 642, 643, 644, 645, 646, 648, 649, 650,\n",
      "       651, 653, 654, 655, 656, 657, 658, 659, 660, 661, 662, 663, 664,\n",
      "       666, 667, 669, 670, 671, 672, 673, 674, 675, 676, 677, 679, 680,\n",
      "       681, 682, 684, 687, 688, 689, 690, 691, 692, 693, 694, 695, 697,\n",
      "       698, 699, 700, 701, 702, 703, 704, 705, 706, 709, 710, 711, 712,\n",
      "       713, 714, 715, 716, 717, 719, 720, 721, 722, 725, 726, 727, 728,\n",
      "       730, 731, 733, 735, 736, 738, 739, 740, 741, 742, 743, 744, 745,\n",
      "       746, 747, 748, 749, 750, 751, 752, 753, 754, 755, 756, 757, 758,\n",
      "       759, 760, 761, 762, 763, 764, 766, 767, 768, 769, 770, 771, 772,\n",
      "       774, 775, 776, 777, 778, 781, 782, 783, 784, 786, 789, 791, 792,\n",
      "       794, 797, 798, 800, 802, 804, 805, 806, 807, 808, 809, 810, 812,\n",
      "       813, 815, 816, 817, 819, 820, 821, 823, 824, 825, 826, 827, 828,\n",
      "       829, 831, 832, 833, 834, 835, 836, 837, 838, 840, 841, 842, 843,\n",
      "       844, 846, 847, 849, 850, 851, 852, 853, 854, 855, 857, 858, 859,\n",
      "       860, 861, 863, 864, 865, 866, 867, 868, 869, 871, 872, 874, 876,\n",
      "       877, 878, 879, 880, 881, 882, 886, 887, 888, 889]), array([  4,   6,  13,  19,  24,  26,  28,  30,  31,  34,  43,  45,  53,\n",
      "        55,  60,  63,  64,  66,  68,  75,  79,  90,  94,  99, 103, 105,\n",
      "       108, 113, 114, 118, 126, 128, 131, 134, 141, 143, 146, 147, 148,\n",
      "       150, 153, 155, 164, 170, 173, 174, 176, 177, 203, 207, 235, 238,\n",
      "       249, 251, 273, 282, 283, 285, 286, 287, 290, 293, 304, 306, 313,\n",
      "       314, 322, 324, 331, 335, 336, 341, 343, 345, 347, 348, 350, 357,\n",
      "       362, 363, 365, 369, 371, 372, 381, 383, 394, 399, 406, 407, 412,\n",
      "       416, 425, 426, 429, 433, 435, 440, 448, 449, 461, 465, 469, 473,\n",
      "       477, 483, 493, 498, 507, 518, 523, 535, 539, 549, 550, 558, 577,\n",
      "       587, 602, 607, 611, 614, 617, 625, 626, 627, 628, 637, 638, 641,\n",
      "       647, 652, 665, 668, 678, 683, 685, 686, 696, 707, 708, 718, 723,\n",
      "       724, 729, 732, 734, 737, 765, 773, 779, 780, 785, 787, 788, 790,\n",
      "       793, 795, 796, 799, 801, 803, 811, 814, 818, 822, 830, 839, 845,\n",
      "       848, 856, 862, 870, 873, 875, 883, 884, 885, 890]))\n"
     ]
    }
   ],
   "source": [
    "from sklearn.model_selection import StratifiedKFold\n",
    "\n",
    "FOLD = 5\n",
    "# StratifiedKFoldのインスタンスを定義する。\n",
    "skf = StratifiedKFold(n_splits=FOLD, shuffle=True, random_state=42)\n",
    "# うまく分割できるているか中身を確認する。\n",
    "print(next(skf.split(X, y)))"
   ]
  },
  {
   "cell_type": "markdown",
   "metadata": {
    "id": "E9EIaKSUJf0t"
   },
   "source": [
    "以下にCross Validationを実装する。なお、上のHoldOutのコードをコピペすれば案外実装できるが、実際に書いた方が体に身に付く。"
   ]
  },
  {
   "cell_type": "code",
   "execution_count": null,
   "metadata": {
    "colab": {
     "base_uri": "https://localhost:8080/"
    },
    "executionInfo": {
     "elapsed": 489,
     "status": "ok",
     "timestamp": 1636434362262,
     "user": {
      "displayName": "松永大希",
      "photoUrl": "https://lh3.googleusercontent.com/a/default-user=s64",
      "userId": "15035745520490838496"
     },
     "user_tz": -540
    },
    "id": "6Xr1GOu96a4D",
    "outputId": "c99acbf6-5a9e-438a-db75-35c54d0ecbe5"
   },
   "outputs": [
    {
     "name": "stdout",
     "output_type": "stream",
     "text": [
      "epoch1\n",
      "0.8547486033519553\n",
      "----------------------------------------\n",
      "epoch2\n",
      "0.8426966292134831\n",
      "----------------------------------------\n",
      "epoch3\n",
      "0.7921348314606742\n",
      "----------------------------------------\n",
      "epoch4\n",
      "0.8258426966292135\n",
      "----------------------------------------\n",
      "epoch5\n",
      "0.8539325842696629\n",
      "----------------------------------------\n",
      "oof score :  0.8338945005611672\n"
     ]
    }
   ],
   "source": [
    "oof_preds = np.zeros(len(X))  # out of foldsのデータを格納するnumpy配列\n",
    "test_probs = np.zeros(len(X_test))  # testデータの予測を格納するnumpy配列\n",
    "\n",
    "# lightgbmのパラメータを定義する。\n",
    "---write your code---\n",
    "# 各FOLDで学習を行う。\n",
    "for i, (tr_idx, va_idx) in enumerate(skf.split(X, y)):\n",
    "  print(f'fold{i+1}')\n",
    "  # データを定義\n",
    "  X_train, X_val = X.iloc[tr_idx], ---\n",
    "  y_train, y_val = y[tr_idx], ---\n",
    "\n",
    "  # lightgbmのデータセットを定義する。\n",
    "  ---write your code(2 rows)---\n",
    "\n",
    "  # 学習\n",
    "  ---write your code---\n",
    "\n",
    "  # valデータを予測する。\n",
    "  ---write your code---\n",
    "  \n",
    "  # 予測を二値化する。\n",
    "  threshold = 0.5\n",
    "  ---write your code---\n",
    "\n",
    "  # スコアを出力\n",
    "  ---write your code---\n",
    "\n",
    "  # 予測結果をoof_predsに格納\n",
    "  oof_preds[va_idx] = val_preds\n",
    "\n",
    "  # testデータを予測しtest_probsに加算\n",
    "  test_probs += ---\n",
    "  print('-'*40)\n",
    "\n",
    "\n",
    "# test_probsをFOLD数で割る\n",
    "test_probs /= FOLD\n",
    "# テストデータの予測を二値化する\n",
    "---write your code---\n",
    "\n",
    "# oofのaccuracyスコアを算出\n",
    "print('oof score : ', ---(y, oof_preds))"
   ]
  },
  {
   "cell_type": "code",
   "execution_count": null,
   "metadata": {
    "colab": {
     "base_uri": "https://localhost:8080/"
    },
    "executionInfo": {
     "elapsed": 5,
     "status": "ok",
     "timestamp": 1636434362263,
     "user": {
      "displayName": "松永大希",
      "photoUrl": "https://lh3.googleusercontent.com/a/default-user=s64",
      "userId": "15035745520490838496"
     },
     "user_tz": -540
    },
    "id": "Y32ZaDB9Ei2d",
    "outputId": "390382cd-3d9c-48ae-96ad-b15694af4081"
   },
   "outputs": [
    {
     "data": {
      "text/plain": [
       "array([0, 0, 0, 0, 0, 0, 1, 0, 1, 0, 0, 0, 1, 0, 1, 1, 0, 0, 0, 0, 0, 0,\n",
       "       1, 0, 1, 0, 1, 0, 1, 0, 0, 0, 0, 0, 0, 0, 0, 0, 0, 0, 0, 1, 0, 1,\n",
       "       1, 0, 1, 0, 1, 0, 1, 0, 1, 1, 0, 0, 0, 0, 0, 1, 0, 0, 0, 1, 1, 1,\n",
       "       1, 0, 1, 1, 1, 0, 0, 1, 1, 1, 0, 1, 0, 1, 1, 0, 0, 0, 0, 0, 1, 0,\n",
       "       1, 1, 0, 0, 1, 0, 0, 0, 1, 0, 0, 0, 1, 0, 0, 0, 1, 0, 0, 0, 0, 0,\n",
       "       0, 1, 1, 1, 1, 0, 0, 1, 1, 1, 1, 0, 1, 0, 0, 0, 0, 1, 0, 0, 0, 0,\n",
       "       0, 0, 0, 0, 0, 0, 0, 0, 0, 1, 0, 0, 0, 0, 0, 0, 0, 0, 1, 0, 0, 0,\n",
       "       0, 0, 1, 0, 1, 0, 1, 1, 1, 0, 0, 0, 0, 0, 1, 0, 0, 0, 0, 0, 0, 1,\n",
       "       1, 0, 1, 1, 0, 1, 1, 0, 1, 0, 1, 0, 0, 0, 0, 0, 0, 0, 1, 0, 1, 1,\n",
       "       0, 0, 1, 1, 0, 1, 0, 0, 0, 0, 1, 0, 0, 0, 0, 1, 0, 0, 1, 0, 1, 0,\n",
       "       1, 0, 1, 0, 1, 0, 0, 1, 0, 0, 0, 1, 0, 0, 0, 0, 0, 0, 1, 1, 1, 1,\n",
       "       0, 0, 0, 0, 1, 0, 1, 1, 1, 0, 1, 0, 0, 0, 0, 0, 1, 0, 0, 0, 1, 1,\n",
       "       0, 0, 0, 0, 0, 0, 0, 0, 1, 1, 0, 1, 0, 0, 0, 0, 0, 1, 1, 0, 1, 0,\n",
       "       0, 1, 0, 0, 0, 0, 0, 0, 0, 0, 1, 0, 0, 0, 0, 0, 0, 0, 1, 1, 0, 1,\n",
       "       0, 0, 0, 0, 0, 0, 1, 1, 0, 0, 0, 0, 0, 0, 0, 0, 1, 0, 1, 0, 0, 0,\n",
       "       1, 1, 0, 0, 0, 0, 0, 0, 0, 0, 0, 0, 0, 1, 0, 1, 0, 0, 0, 1, 1, 0,\n",
       "       0, 0, 1, 0, 1, 0, 0, 0, 0, 1, 1, 0, 1, 0, 0, 0, 1, 0, 0, 1, 0, 0,\n",
       "       1, 1, 0, 0, 0, 0, 0, 0, 0, 0, 0, 1, 0, 0, 0, 0, 1, 1, 0, 0, 0, 1,\n",
       "       0, 1, 0, 0, 1, 0, 1, 0, 1, 0, 0, 0, 1, 1, 1, 1, 0, 0, 1, 0, 0, 0])"
      ]
     },
     "execution_count": 42,
     "metadata": {},
     "output_type": "execute_result"
    }
   ],
   "source": [
    "test_preds"
   ]
  },
  {
   "cell_type": "code",
   "execution_count": null,
   "metadata": {
    "id": "Vc_T1yfkBWsa"
   },
   "outputs": [],
   "source": [
    "if issubmit:\n",
    "    os.makedirs('submit/', exist_ok=True)\n",
    "    # submissionのサンプルファイルを読み込む\n",
    "    ---write your code---\n",
    "    # サンプルファイルのtargetカラムをtest_predsに置き換える。\n",
    "    ---write your code---\n",
    "    # 提出(ファイルのパスは submit/my_submit2.csv とする。)\n",
    "    ---write your code---"
   ]
  },
  {
   "cell_type": "markdown",
   "metadata": {
    "id": "YUIBPk44Kryd"
   },
   "source": [
    "## 次にやること"
   ]
  },
  {
   "cell_type": "markdown",
   "metadata": {
    "id": "i7F8IpEvKuFl"
   },
   "source": [
    "- 次回の全結合ニューラルネットワークのチュートリアルに取り組もう。\n",
    "- データを詳しく分析してみよう(探索的データ分析(EDA)と呼ぶ)\n",
    "- 特徴量エンジニアリングをしてみよう。\n",
    "- ハイパーパラメータを変更してみよう。(optunaでチューニングしても良い)"
   ]
  },
  {
   "cell_type": "markdown",
   "metadata": {},
   "source": [
    "## 参考サイト\n",
    "- LightGBM公式ドキュメント : https://lightgbm.readthedocs.io/en/latest/\n",
    "ハイパーパラメータやモデルの学習時のオプションが明確に記載されているので、ぜひ覗いてみよう。"
   ]
  }
 ],
 "metadata": {
  "colab": {
   "authorship_tag": "ABX9TyNlhrDdXhDBp30F7jBGAWo0",
   "collapsed_sections": [],
   "mount_file_id": "16M5PwxVw4RatzwnU_69MHS3rTMCbUvQi",
   "name": "Titanic_lightgbm_question.ipynb",
   "provenance": []
  },
  "kernelspec": {
   "display_name": "Python 3 (ipykernel)",
   "language": "python",
   "name": "python3"
  },
  "language_info": {
   "codemirror_mode": {
    "name": "ipython",
    "version": 3
   },
   "file_extension": ".py",
   "mimetype": "text/x-python",
   "name": "python",
   "nbconvert_exporter": "python",
   "pygments_lexer": "ipython3",
   "version": "3.8.10"
  }
 },
 "nbformat": 4,
 "nbformat_minor": 4
}
